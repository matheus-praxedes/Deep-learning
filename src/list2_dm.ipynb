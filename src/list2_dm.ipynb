{
 "cells": [
  {
   "cell_type": "code",
   "execution_count": 71,
   "metadata": {},
   "outputs": [],
   "source": [
    "import numpy as np\n",
    "from data import Instance, DataSet\n",
    "from miscellaneous import initialize_data, plot_graph, plot_points\n",
    "from neural_network import NeuralNetwork\n",
    "from activation_function import *\n",
    "import matplotlib.pyplot as plt\n",
    "from keras.datasets import mnist\n",
    "import pandas as pd\n",
    "import copy\n",
    "from sklearn.preprocessing import LabelBinarizer\n",
    "from sklearn.preprocessing import LabelEncoder\n",
    "from sklearn.preprocessing import MinMaxScaler"
   ]
  },
  {
   "cell_type": "markdown",
   "metadata": {},
   "source": [
    "#### Carregando dados e Ajustando labels"
   ]
  },
  {
   "cell_type": "code",
   "execution_count": 72,
   "metadata": {},
   "outputs": [],
   "source": [
    "# Carregando dados\n",
    "train = pd.read_csv('../dataset/train.csv')\n",
    "test = pd.read_csv('../dataset/test.csv')\n",
    "\n",
    "# Ajustando nomes\n",
    "train_labels = [i.lower() for i in train.columns.values]\n",
    "test_labels = [i.lower() for i in test.columns.values]\n",
    "\n",
    "rename_dict_train = { i: j for i,j in zip(train.columns.values, train_labels) }\n",
    "rename_dict_test = { i: j for i,j in zip(test.columns.values, test_labels) }\n",
    "\n",
    "train.rename(columns = rename_dict_train, inplace = True)\n",
    "test.rename(columns = rename_dict_test, inplace = True)"
   ]
  },
  {
   "cell_type": "markdown",
   "metadata": {},
   "source": [
    "#### Selecionando atributos relevantes"
   ]
  },
  {
   "cell_type": "code",
   "execution_count": 73,
   "metadata": {
    "scrolled": false
   },
   "outputs": [],
   "source": [
    "train = train.filter(['pclass', 'sex', 'age', 'fare', 'cabin', 'embarked', 'survived'], axis = 1)\n",
    "test = test.filter(['pclass', 'sex', 'age', 'fare', 'cabin', 'embarked', 'survived'], axis = 1)"
   ]
  },
  {
   "cell_type": "markdown",
   "metadata": {},
   "source": [
    "##### Age"
   ]
  },
  {
   "cell_type": "code",
   "execution_count": 74,
   "metadata": {},
   "outputs": [],
   "source": [
    "train['age'].fillna(train['age'].median(), inplace = True)\n",
    "test['age'].fillna(test['age'].median(), inplace = True)"
   ]
  },
  {
   "cell_type": "markdown",
   "metadata": {},
   "source": [
    "##### Sex"
   ]
  },
  {
   "cell_type": "code",
   "execution_count": 75,
   "metadata": {},
   "outputs": [],
   "source": [
    "binarizer = LabelBinarizer()\n",
    "train['sex'] = binarizer.fit_transform(train['sex'])\n",
    "test['sex'] = binarizer.fit_transform(test['sex'])"
   ]
  },
  {
   "cell_type": "markdown",
   "metadata": {},
   "source": [
    "##### Fare"
   ]
  },
  {
   "cell_type": "code",
   "execution_count": 76,
   "metadata": {},
   "outputs": [],
   "source": [
    "train['fare'].fillna(train['fare'].median(), inplace = True)\n",
    "test['fare'].fillna(test['fare'].median(), inplace = True)"
   ]
  },
  {
   "cell_type": "markdown",
   "metadata": {},
   "source": [
    "##### Embarked"
   ]
  },
  {
   "cell_type": "code",
   "execution_count": 77,
   "metadata": {},
   "outputs": [],
   "source": [
    "train['embarked'].fillna(str(train['embarked'].mode()), inplace = True)\n",
    "test['embarked'].fillna(str(test['embarked'].mode()), inplace = True)\n",
    "\n",
    "encoder = LabelEncoder()\n",
    "train['embarked'] = encoder.fit_transform(train['embarked'])\n",
    "test['embarked'] = encoder.fit_transform(test['embarked'])"
   ]
  },
  {
   "cell_type": "markdown",
   "metadata": {},
   "source": [
    "##### Cabin"
   ]
  },
  {
   "cell_type": "code",
   "execution_count": 78,
   "metadata": {},
   "outputs": [],
   "source": [
    "train.loc[train['cabin'].notnull(), 'cabin'] = train['cabin'].str[0]\n",
    "train['cabin'].fillna('H', inplace = True)\n",
    "\n",
    "test.loc[test['cabin'].notnull(), 'cabin'] = test['cabin'].str[0]\n",
    "test['cabin'].fillna('H', inplace = True)\n",
    "\n",
    "train['cabin'] = encoder.fit_transform(train['cabin'])\n",
    "test['cabin'] = encoder.fit_transform(test['cabin'])"
   ]
  },
  {
   "cell_type": "markdown",
   "metadata": {},
   "source": [
    "##### Remoção de Outliers"
   ]
  },
  {
   "cell_type": "code",
   "execution_count": 79,
   "metadata": {},
   "outputs": [],
   "source": [
    "for c1, c2 in zip(train, test):\n",
    "    train[c1][~(np.abs(train[c1]-train[c1].mean())>(3*train[c1].std()))]\n",
    "    test[c2][~(np.abs(test[c2]-test[c2].mean())>(3*test[c2].std()))]"
   ]
  },
  {
   "cell_type": "markdown",
   "metadata": {},
   "source": [
    "##### Normalização"
   ]
  },
  {
   "cell_type": "code",
   "execution_count": 80,
   "metadata": {},
   "outputs": [
    {
     "name": "stdout",
     "output_type": "stream",
     "text": [
      "     pclass  sex       age      fare  cabin  embarked  survived\n",
      "0       1.0  1.0  0.271174  0.014151  0.875  1.000000         0\n",
      "1       0.0  0.0  0.472229  0.139136  0.250  0.333333         1\n",
      "2       1.0  0.0  0.321438  0.015469  0.875  1.000000         1\n",
      "3       0.0  0.0  0.434531  0.103644  0.250  1.000000         1\n",
      "4       1.0  1.0  0.434531  0.015713  0.875  1.000000         0\n",
      "5       1.0  1.0  0.346569  0.016510  0.875  0.666667         0\n",
      "6       0.0  1.0  0.673285  0.101229  0.500  1.000000         0\n",
      "7       1.0  1.0  0.019854  0.041136  0.875  1.000000         0\n",
      "8       1.0  0.0  0.334004  0.021731  0.875  1.000000         1\n",
      "9       0.5  0.0  0.170646  0.058694  0.875  0.333333         1\n",
      "10      1.0  0.0  0.044986  0.032596  0.750  1.000000         1\n",
      "11      0.0  0.0  0.723549  0.051822  0.250  1.000000         1\n",
      "12      1.0  1.0  0.246042  0.015713  0.875  1.000000         0\n",
      "13      1.0  1.0  0.484795  0.061045  0.875  1.000000         0\n",
      "14      1.0  0.0  0.170646  0.015330  0.875  1.000000         0\n",
      "15      0.5  0.0  0.685851  0.031230  0.875  1.000000         1\n",
      "16      1.0  1.0  0.019854  0.056848  0.875  0.666667         0\n",
      "17      0.5  1.0  0.346569  0.025374  0.875  1.000000         1\n",
      "18      1.0  0.0  0.384267  0.035134  0.875  1.000000         0\n",
      "19      1.0  0.0  0.346569  0.014102  0.875  0.333333         1\n",
      "20      0.5  1.0  0.434531  0.050749  0.875  1.000000         0\n",
      "21      0.5  1.0  0.421965  0.025374  0.375  1.000000         1\n",
      "22      1.0  0.0  0.183212  0.015672  0.875  0.666667         1\n",
      "23      0.0  1.0  0.346569  0.069291  0.000  1.000000         1\n",
      "24      1.0  0.0  0.095250  0.041136  0.875  1.000000         0\n",
      "25      1.0  0.0  0.472229  0.061264  0.875  1.000000         1\n",
      "26      1.0  1.0  0.346569  0.014102  0.875  0.333333         0\n",
      "27      0.0  1.0  0.233476  0.513342  0.250  1.000000         0\n",
      "28      1.0  0.0  0.346569  0.015379  0.875  0.666667         1\n",
      "29      1.0  1.0  0.346569  0.015412  0.875  1.000000         0\n",
      "..      ...  ...       ...       ...    ...       ...       ...\n",
      "861     0.5  1.0  0.258608  0.022447  0.875  1.000000         0\n",
      "862     0.0  0.0  0.597889  0.050610  0.375  1.000000         1\n",
      "863     1.0  0.0  0.346569  0.135753  0.875  1.000000         0\n",
      "864     0.5  1.0  0.296306  0.025374  0.875  1.000000         0\n",
      "865     0.5  0.0  0.522493  0.025374  0.875  1.000000         1\n",
      "866     0.5  0.0  0.334004  0.027050  0.875  0.333333         1\n",
      "867     0.0  1.0  0.384267  0.098561  0.000  1.000000         0\n",
      "868     1.0  1.0  0.346569  0.018543  0.875  1.000000         0\n",
      "869     1.0  1.0  0.044986  0.021731  0.875  1.000000         1\n",
      "870     1.0  1.0  0.321438  0.015412  0.875  1.000000         0\n",
      "871     0.0  0.0  0.585323  0.102579  0.375  1.000000         1\n",
      "872     0.0  1.0  0.409399  0.009759  0.125  1.000000         0\n",
      "873     1.0  1.0  0.585323  0.017567  0.875  1.000000         0\n",
      "874     0.5  0.0  0.346569  0.046845  0.875  0.333333         1\n",
      "875     1.0  0.0  0.183212  0.014102  0.875  0.333333         1\n",
      "876     1.0  1.0  0.246042  0.019218  0.875  1.000000         0\n",
      "877     1.0  1.0  0.233476  0.015412  0.875  1.000000         0\n",
      "878     1.0  1.0  0.346569  0.015412  0.875  1.000000         0\n",
      "879     0.0  0.0  0.698417  0.162314  0.250  0.333333         1\n",
      "880     0.5  0.0  0.308872  0.050749  0.875  1.000000         1\n",
      "881     1.0  1.0  0.409399  0.015412  0.875  1.000000         0\n",
      "882     1.0  0.0  0.271174  0.020527  0.875  1.000000         0\n",
      "883     0.5  1.0  0.346569  0.020495  0.875  1.000000         0\n",
      "884     1.0  1.0  0.308872  0.013761  0.875  1.000000         0\n",
      "885     1.0  0.0  0.484795  0.056848  0.875  0.666667         0\n",
      "886     0.5  1.0  0.334004  0.025374  0.875  1.000000         0\n",
      "887     0.0  0.0  0.233476  0.058556  0.125  1.000000         1\n",
      "888     1.0  0.0  0.346569  0.045771  0.875  1.000000         0\n",
      "889     0.0  1.0  0.321438  0.058556  0.250  0.333333         1\n",
      "890     1.0  1.0  0.396833  0.015127  0.875  0.666667         0\n",
      "\n",
      "[891 rows x 7 columns]\n"
     ]
    },
    {
     "name": "stderr",
     "output_type": "stream",
     "text": [
      "C:\\Users\\franc\\AppData\\Roaming\\Python\\Python36\\site-packages\\ipykernel_launcher.py:4: FutureWarning: reshape is deprecated and will raise in a subsequent release. Please use .values.reshape(...) instead\n",
      "  after removing the cwd from sys.path.\n",
      "C:\\Users\\franc\\AppData\\Local\\Programs\\Python\\Python36\\lib\\site-packages\\sklearn\\utils\\validation.py:475: DataConversionWarning: Data with input dtype int64 was converted to float64 by MinMaxScaler.\n",
      "  warnings.warn(msg, DataConversionWarning)\n",
      "C:\\Users\\franc\\AppData\\Roaming\\Python\\Python36\\site-packages\\ipykernel_launcher.py:5: FutureWarning: reshape is deprecated and will raise in a subsequent release. Please use .values.reshape(...) instead\n",
      "  \"\"\"\n",
      "C:\\Users\\franc\\AppData\\Local\\Programs\\Python\\Python36\\lib\\site-packages\\sklearn\\utils\\validation.py:475: DataConversionWarning: Data with input dtype int32 was converted to float64 by MinMaxScaler.\n",
      "  warnings.warn(msg, DataConversionWarning)\n"
     ]
    }
   ],
   "source": [
    "min_max_s = MinMaxScaler(feature_range = (0,1))\n",
    "\n",
    "for c1, c2 in zip(train, test):\n",
    "    train[c1] = min_max_s.fit_transform(train[c1].reshape(-1, 1))\n",
    "    test[c2] = min_max_s.fit_transform(test[c2].reshape(-1, 1))\n",
    "    \n",
    "print(train)"
   ]
  },
  {
   "cell_type": "code",
   "execution_count": 14,
   "metadata": {},
   "outputs": [],
   "source": [
    "x_train = train.filter(['pclass', 'sex', 'age', 'fare', 'cabin', 'embarked'], axis = 1)\n",
    "x_test = test.filter(['pclass', 'sex', 'age', 'fare', 'cabin', 'embarked'], axis = 1)\n",
    "\n",
    "y_train = train.filter(['survived'], axis=1)\n",
    "y_test = test.filter(['survived'], axis=1)"
   ]
  },
  {
   "cell_type": "code",
   "execution_count": null,
   "metadata": {},
   "outputs": [],
   "source": []
  }
 ],
 "metadata": {
  "kernelspec": {
   "display_name": "Python 3",
   "language": "python",
   "name": "python3"
  },
  "language_info": {
   "codemirror_mode": {
    "name": "ipython",
    "version": 3
   },
   "file_extension": ".py",
   "mimetype": "text/x-python",
   "name": "python",
   "nbconvert_exporter": "python",
   "pygments_lexer": "ipython3",
   "version": "3.6.4"
  }
 },
 "nbformat": 4,
 "nbformat_minor": 2
}
