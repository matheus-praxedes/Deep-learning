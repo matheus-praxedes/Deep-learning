{
 "cells": [
  {
   "cell_type": "code",
   "execution_count": 107,
   "metadata": {},
   "outputs": [],
   "source": [
    "import numpy as np\n",
    "from data import Instance, DataSet\n",
    "from miscellaneous import initialize_data, plot_graph, plot_points\n",
    "from neural_network import NeuralNetwork\n",
    "from activation_function import *\n",
    "import matplotlib.pyplot as plt\n",
    "from keras.datasets import mnist\n",
    "import pandas as pd\n",
    "import copy\n",
    "from sklearn.preprocessing import LabelBinarizer\n",
    "from sklearn.preprocessing import LabelEncoder\n",
    "from sklearn.preprocessing import MinMaxScaler\n",
    "import seaborn as sns\n",
    "import warnings\n",
    "warnings.filterwarnings('ignore')"
   ]
  },
  {
   "cell_type": "markdown",
   "metadata": {},
   "source": [
    "#### Carregando dados e Ajustando labels"
   ]
  },
  {
   "cell_type": "code",
   "execution_count": 108,
   "metadata": {},
   "outputs": [],
   "source": [
    "# Carregando dados\n",
    "train = pd.read_csv('../dataset/train.csv')\n",
    "test = pd.read_csv('../dataset/test.csv')\n",
    "\n",
    "# Ajustando nomes\n",
    "train_labels = [i.lower() for i in train.columns.values]\n",
    "test_labels = [i.lower() for i in test.columns.values]\n",
    "\n",
    "rename_dict_train = { i: j for i,j in zip(train.columns.values, train_labels) }\n",
    "rename_dict_test = { i: j for i,j in zip(test.columns.values, test_labels) }\n",
    "\n",
    "train.rename(columns = rename_dict_train, inplace = True)\n",
    "test.rename(columns = rename_dict_test, inplace = True)"
   ]
  },
  {
   "cell_type": "markdown",
   "metadata": {},
   "source": [
    "#### Selecionando atributos relevantes"
   ]
  },
  {
   "cell_type": "code",
   "execution_count": 109,
   "metadata": {
    "scrolled": false
   },
   "outputs": [],
   "source": [
    "train = train.filter(['pclass', 'sex', 'age', 'fare', 'cabin', 'embarked', 'survived'], axis = 1)\n",
    "test = test.filter(['pclass', 'sex', 'age', 'fare', 'cabin', 'embarked', 'survived'], axis = 1)"
   ]
  },
  {
   "cell_type": "markdown",
   "metadata": {},
   "source": [
    "##### Age"
   ]
  },
  {
   "cell_type": "code",
   "execution_count": 110,
   "metadata": {},
   "outputs": [],
   "source": [
    "train['age'].fillna(train['age'].median(), inplace = True)\n",
    "test['age'].fillna(test['age'].median(), inplace = True)"
   ]
  },
  {
   "cell_type": "markdown",
   "metadata": {},
   "source": [
    "##### Sex"
   ]
  },
  {
   "cell_type": "code",
   "execution_count": 111,
   "metadata": {},
   "outputs": [],
   "source": [
    "binarizer = LabelBinarizer()\n",
    "train['sex'] = binarizer.fit_transform(train['sex'])\n",
    "test['sex'] = binarizer.fit_transform(test['sex'])"
   ]
  },
  {
   "cell_type": "markdown",
   "metadata": {},
   "source": [
    "##### Fare"
   ]
  },
  {
   "cell_type": "code",
   "execution_count": 112,
   "metadata": {},
   "outputs": [],
   "source": [
    "train['fare'].fillna(train['fare'].median(), inplace = True)\n",
    "test['fare'].fillna(test['fare'].median(), inplace = True)"
   ]
  },
  {
   "cell_type": "markdown",
   "metadata": {},
   "source": [
    "##### Embarked"
   ]
  },
  {
   "cell_type": "code",
   "execution_count": 113,
   "metadata": {},
   "outputs": [],
   "source": [
    "train['embarked'].fillna(str(train['embarked'].mode()), inplace = True)\n",
    "test['embarked'].fillna(str(test['embarked'].mode()), inplace = True)\n",
    "\n",
    "encoder = LabelEncoder()\n",
    "train['embarked'] = encoder.fit_transform(train['embarked'])\n",
    "test['embarked'] = encoder.fit_transform(test['embarked'])"
   ]
  },
  {
   "cell_type": "markdown",
   "metadata": {},
   "source": [
    "##### Cabin"
   ]
  },
  {
   "cell_type": "code",
   "execution_count": 114,
   "metadata": {},
   "outputs": [],
   "source": [
    "train.loc[train['cabin'].notnull(), 'cabin'] = train['cabin'].str[0]\n",
    "train['cabin'].fillna('H', inplace = True)\n",
    "\n",
    "test.loc[test['cabin'].notnull(), 'cabin'] = test['cabin'].str[0]\n",
    "test['cabin'].fillna('H', inplace = True)\n",
    "\n",
    "train['cabin'] = encoder.fit_transform(train['cabin'])\n",
    "test['cabin'] = encoder.fit_transform(test['cabin'])"
   ]
  },
  {
   "cell_type": "markdown",
   "metadata": {},
   "source": [
    "##### Remoção de Outliers"
   ]
  },
  {
   "cell_type": "code",
   "execution_count": 115,
   "metadata": {},
   "outputs": [],
   "source": [
    "for c1, c2 in zip(train, test):\n",
    "    train[c1][~(np.abs(train[c1]-train[c1].mean())>(3*train[c1].std()))]\n",
    "    test[c2][~(np.abs(test[c2]-test[c2].mean())>(3*test[c2].std()))]"
   ]
  },
  {
   "cell_type": "markdown",
   "metadata": {},
   "source": [
    "##### Normalização"
   ]
  },
  {
   "cell_type": "code",
   "execution_count": 116,
   "metadata": {},
   "outputs": [],
   "source": [
    "min_max_s = MinMaxScaler(feature_range = (0.0, 1.0))\n",
    "\n",
    "for c1, c2 in zip(train, test):\n",
    "    train[c1] = min_max_s.fit_transform(train[c1].values.reshape(-1, 1))\n",
    "    test[c2] = min_max_s.fit_transform(test[c2].values.reshape(-1, 1))"
   ]
  },
  {
   "cell_type": "code",
   "execution_count": 117,
   "metadata": {},
   "outputs": [
    {
     "data": {
      "text/plain": [
       "<matplotlib.axes._subplots.AxesSubplot at 0x21ef7b57908>"
      ]
     },
     "execution_count": 117,
     "metadata": {},
     "output_type": "execute_result"
    },
    {
     "data": {
      "image/png": "[encoded data removed]",
      "text/plain": [
       "<Figure size 720x576 with 2 Axes>"
      ]
     },
     "metadata": {},
     "output_type": "display_data"
    }
   ],
   "source": [
    "corr = train.corr()\n",
    "\n",
    "f, ax = plt.subplots(figsize = (10, 8))\n",
    "sns.heatmap(corr, mask = np.zeros_like(corr, dtype = np.bool), cmap = sns.diverging_palette(220, 10, as_cmap = True),\n",
    "            square = True, ax = ax)"
   ]
  },
  {
   "cell_type": "code",
   "execution_count": null,
   "metadata": {},
   "outputs": [],
   "source": [
    "if 'cabin' in train:\n",
    "    train.drop(['cabin'], axis = 1, inplace = True)\n",
    "\n",
    "if 'cabin' in test:\n",
    "    test.drop(['cabin'], axis = 1, inplace = True)"
   ]
  },
  {
   "cell_type": "code",
   "execution_count": 119,
   "metadata": {},
   "outputs": [],
   "source": [
    "x_train = train.filter(['pclass', 'sex', 'age', 'fare', 'cabin', 'embarked'], axis = 1)\n",
    "#x_test = test.filter(['pclass', 'sex', 'age', 'fare', 'cabin', 'embarked'], axis = 1)\n",
    "\n",
    "y_train = train.filter(['survived'], axis = 1)\n",
    "#y_test = test.filter(['survived'], axis = 1)"
   ]
  },
  {
   "cell_type": "code",
   "execution_count": null,
   "metadata": {},
   "outputs": [],
   "source": []
  }
 ],
 "metadata": {
  "kernelspec": {
   "display_name": "Python 3",
   "language": "python",
   "name": "python3"
  },
  "language_info": {
   "codemirror_mode": {
    "name": "ipython",
    "version": 3
   },
   "file_extension": ".py",
   "mimetype": "text/x-python",
   "name": "python",
   "nbconvert_exporter": "python",
   "pygments_lexer": "ipython3",
   "version": "3.6.4"
  }
 },
 "nbformat": 4,
 "nbformat_minor": 2
}
