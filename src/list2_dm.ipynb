{
 "cells": [
  {
   "cell_type": "code",
   "execution_count": 1,
   "metadata": {},
   "outputs": [
    {
     "name": "stderr",
     "output_type": "stream",
     "text": [
      "Using TensorFlow backend.\n"
     ]
    }
   ],
   "source": [
    "import numpy as np\n",
    "from data import Instance, DataSet\n",
    "from miscellaneous import initialize_data, plot_graph, plot_points\n",
    "from neural_network import NeuralNetwork\n",
    "from activation_function import *\n",
    "import matplotlib.pyplot as plt\n",
    "from keras.datasets import mnist\n",
    "import pandas as pd\n",
    "import copy\n",
    "from sklearn.preprocessing import LabelBinarizer\n",
    "from sklearn.preprocessing import LabelEncoder\n",
    "from sklearn.preprocessing import MinMaxScaler\n",
    "import seaborn as sns\n",
    "from sklearn.model_selection import StratifiedKFold\n",
    "import warnings\n",
    "warnings.filterwarnings('ignore')"
   ]
  },
  {
   "cell_type": "markdown",
   "metadata": {},
   "source": [
    "#### Carregando dados e Ajustando labels"
   ]
  },
  {
   "cell_type": "code",
   "execution_count": 2,
   "metadata": {},
   "outputs": [],
   "source": [
    "# Carregando dados\n",
    "train = pd.read_csv('../dataset/train.csv')\n",
    "test = pd.read_csv('../dataset/test.csv')\n",
    "\n",
    "# Ajustando nomes\n",
    "train_labels = [i.lower() for i in train.columns.values]\n",
    "test_labels = [i.lower() for i in test.columns.values]\n",
    "\n",
    "rename_dict_train = { i: j for i,j in zip(train.columns.values, train_labels) }\n",
    "rename_dict_test = { i: j for i,j in zip(test.columns.values, test_labels) }\n",
    "\n",
    "train.rename(columns = rename_dict_train, inplace = True)\n",
    "test.rename(columns = rename_dict_test, inplace = True)"
   ]
  },
  {
   "cell_type": "markdown",
   "metadata": {},
   "source": [
    "#### Selecionando atributos relevantes"
   ]
  },
  {
   "cell_type": "code",
   "execution_count": 3,
   "metadata": {
    "scrolled": false
   },
   "outputs": [],
   "source": [
    "train = train.filter(['pclass', 'sex', 'age', 'fare', 'cabin', 'embarked', 'survived'], axis = 1)\n",
    "test = test.filter(['pclass', 'sex', 'age', 'fare', 'cabin', 'embarked', 'survived'], axis = 1)"
   ]
  },
  {
   "cell_type": "markdown",
   "metadata": {},
   "source": [
    "##### Age"
   ]
  },
  {
   "cell_type": "code",
   "execution_count": 4,
   "metadata": {},
   "outputs": [],
   "source": [
    "train['age'].fillna(train['age'].median(), inplace = True)\n",
    "test['age'].fillna(test['age'].median(), inplace = True)"
   ]
  },
  {
   "cell_type": "markdown",
   "metadata": {},
   "source": [
    "##### Sex"
   ]
  },
  {
   "cell_type": "code",
   "execution_count": 5,
   "metadata": {},
   "outputs": [],
   "source": [
    "binarizer = LabelBinarizer()\n",
    "train['sex'] = binarizer.fit_transform(train['sex'])\n",
    "test['sex'] = binarizer.fit_transform(test['sex'])"
   ]
  },
  {
   "cell_type": "markdown",
   "metadata": {},
   "source": [
    "##### Fare"
   ]
  },
  {
   "cell_type": "code",
   "execution_count": 6,
   "metadata": {},
   "outputs": [],
   "source": [
    "train['fare'].fillna(train['fare'].median(), inplace = True)\n",
    "test['fare'].fillna(test['fare'].median(), inplace = True)"
   ]
  },
  {
   "cell_type": "markdown",
   "metadata": {},
   "source": [
    "##### Embarked"
   ]
  },
  {
   "cell_type": "code",
   "execution_count": 7,
   "metadata": {},
   "outputs": [],
   "source": [
    "train['embarked'].fillna(str(train['embarked'].mode()), inplace = True)\n",
    "test['embarked'].fillna(str(test['embarked'].mode()), inplace = True)\n",
    "\n",
    "encoder = LabelEncoder()\n",
    "train['embarked'] = encoder.fit_transform(train['embarked'])\n",
    "test['embarked'] = encoder.fit_transform(test['embarked'])"
   ]
  },
  {
   "cell_type": "markdown",
   "metadata": {},
   "source": [
    "##### Cabin"
   ]
  },
  {
   "cell_type": "code",
   "execution_count": 8,
   "metadata": {},
   "outputs": [],
   "source": [
    "train.loc[train['cabin'].notnull(), 'cabin'] = train['cabin'].str[0]\n",
    "train['cabin'].fillna('H', inplace = True)\n",
    "\n",
    "test.loc[test['cabin'].notnull(), 'cabin'] = test['cabin'].str[0]\n",
    "test['cabin'].fillna('H', inplace = True)\n",
    "\n",
    "train['cabin'] = encoder.fit_transform(train['cabin'])\n",
    "test['cabin'] = encoder.fit_transform(test['cabin'])"
   ]
  },
  {
   "cell_type": "markdown",
   "metadata": {},
   "source": [
    "##### Remoção de Outliers"
   ]
  },
  {
   "cell_type": "code",
   "execution_count": 9,
   "metadata": {},
   "outputs": [],
   "source": [
    "for c1, c2 in zip(train, test):\n",
    "    train[c1][~(np.abs(train[c1]-train[c1].mean())>(3*train[c1].std()))]\n",
    "    test[c2][~(np.abs(test[c2]-test[c2].mean())>(3*test[c2].std()))]"
   ]
  },
  {
   "cell_type": "markdown",
   "metadata": {},
   "source": [
    "##### Normalização"
   ]
  },
  {
   "cell_type": "code",
   "execution_count": 10,
   "metadata": {},
   "outputs": [],
   "source": [
    "min_max_s = MinMaxScaler(feature_range = (0.0, 1.0))\n",
    "\n",
    "for c1, c2 in zip(train, test):\n",
    "    train[c1] = min_max_s.fit_transform(train[c1].values.reshape(-1, 1))\n",
    "    test[c2] = min_max_s.fit_transform(test[c2].values.reshape(-1, 1))"
   ]
  },
  {
   "cell_type": "code",
   "execution_count": 11,
   "metadata": {},
   "outputs": [
    {
     "data": {
      "text/plain": [
       "<matplotlib.axes._subplots.AxesSubplot at 0x2c0bf68f630>"
      ]
     },
     "execution_count": 11,
     "metadata": {},
     "output_type": "execute_result"
    },
    {
     "data": {
      "image/png": "[encoded data removed]",
      "text/plain": [
       "<Figure size 720x576 with 2 Axes>"
      ]
     },
     "metadata": {},
     "output_type": "display_data"
    }
   ],
   "source": [
    "corr = train.corr()\n",
    "\n",
    "f, ax = plt.subplots(figsize = (10, 8))\n",
    "sns.heatmap(corr, mask = np.zeros_like(corr, dtype = np.bool), cmap = sns.diverging_palette(220, 10, as_cmap = True),\n",
    "            square = True, ax = ax)"
   ]
  },
  {
   "cell_type": "code",
   "execution_count": 12,
   "metadata": {},
   "outputs": [],
   "source": [
    "if 'cabin' in train:\n",
    "    train.drop(['cabin'], axis = 1, inplace = True)\n",
    "\n",
    "if 'cabin' in test:\n",
    "    test.drop(['cabin'], axis = 1, inplace = True)"
   ]
  },
  {
   "cell_type": "code",
   "execution_count": 13,
   "metadata": {},
   "outputs": [],
   "source": [
    "x_train = train.filter(['pclass', 'sex', 'age', 'fare', 'embarked'], axis = 1)\n",
    "y_train = train.filter(['survived'], axis = 1)\n",
    "\n",
    "x_train_list = x_train.values.tolist()\n",
    "\n",
    "y_train_list = []\n",
    "for i in y_train.values.tolist():\n",
    "    if(i[0] >= 0.5):\n",
    "        y_train_list.append([1.0, 0.0])\n",
    "    else:\n",
    "        y_train_list.append([0.0, 1.0])\n",
    "        \n",
    "dataset = DataSet() \n",
    "for inst_x, inst_y in zip(x_train_list, y_train_list):\n",
    "    dataset.add(Instance(inst_x, inst_y))"
   ]
  },
  {
   "cell_type": "code",
   "execution_count": null,
   "metadata": {},
   "outputs": [],
   "source": [
    "net = NeuralNetwork(5, [30, 10, 2], 4*[sig_func])\n",
    "data = net.fit(dataset, \"mini-batch\", 500, lr_ = 0.1, type = \"class\", mini_batch_size = 20, \n",
    "                   tvt_ratio = [8, 2, 0], momentum_ = 0.8, print_info = True)"
   ]
  },
  {
   "cell_type": "code",
   "execution_count": 50,
   "metadata": {},
   "outputs": [
    {
     "name": "stdout",
     "output_type": "stream",
     "text": [
      "Training fold:  1\n",
      "Training fold:  2\n",
      "Training fold:  3\n",
      "Training fold:  4\n",
      "Training fold:  5\n",
      "Training fold:  6\n",
      "Training fold:  7\n",
      "Training fold:  8\n",
      "Training fold:  9\n",
      "Training fold:  10\n"
     ]
    }
   ],
   "source": [
    "n_split = 10\n",
    "kfold = StratifiedKFold(n_splits = n_split, shuffle = True, random_state = 11403723)\n",
    "\n",
    "i = 1\n",
    "data_cv_mean = [0, 0, 0]\n",
    "for a, b in kfold.split(x_train, y_train):\n",
    "    \n",
    "    print(\"\\rTraining fold: \", i)\n",
    "    i += 1\n",
    "    dataset = None\n",
    "    dataset = DataSet()\n",
    "    \n",
    "    for ind in a:\n",
    "        dataset.add(Instance(x_train_list[ind], y_train_list[ind]))\n",
    "    \n",
    "    for ind in b:\n",
    "        dataset.add(Instance(x_train_list[ind], y_train_list[ind]))\n",
    "\n",
    "    net_cv = NeuralNetwork(5, [30, 10, 2], 4*[sig_func])\n",
    "    data_cv = net_cv.fit(dataset, \"mini-batch\", 100, lr_ = 0.1, type = \"class\", mini_batch_size = 20, \n",
    "                      tvt_ratio = [9, 1, 0], momentum_ = 0.8, print_info = False)   \n",
    "    \n",
    "    if data_cv_mean[0] == 0:\n",
    "        data_cv_mean = data_cv.copy()\n",
    "    else:\n",
    "        data_cv_mean[1] = [ i+j for i, j in zip(data_cv_mean[1], data_cv[1]) ]\n",
    "        data_cv_mean[2] = [ i+j for i, j in zip(data_cv_mean[2], data_cv[2]) ]\n",
    "\n",
    "data_cv_mean[1] = [ elem/n_split for elem in data_cv_mean[1]]\n",
    "data_cv_mean[2] = [ elem/n_split for elem in data_cv_mean[2]]"
   ]
  },
  {
   "cell_type": "code",
   "execution_count": 51,
   "metadata": {},
   "outputs": [
    {
     "data": {
      "image/png": "[encoded data removed]",
      "text/plain": [
       "<Figure size 1152x576 with 1 Axes>"
      ]
     },
     "metadata": {},
     "output_type": "display_data"
    }
   ],
   "source": [
    "plot_graph(data_cv_mean, \"Titanic\", \"Epoch\", \"Error\", figsizex = 16, figsizey = 8)"
   ]
  },
  {
   "cell_type": "code",
   "execution_count": null,
   "metadata": {},
   "outputs": [],
   "source": []
  }
 ],
 "metadata": {
  "kernelspec": {
   "display_name": "Python 3",
   "language": "python",
   "name": "python3"
  },
  "language_info": {
   "codemirror_mode": {
    "name": "ipython",
    "version": 3
   },
   "file_extension": ".py",
   "mimetype": "text/x-python",
   "name": "python",
   "nbconvert_exporter": "python",
   "pygments_lexer": "ipython3",
   "version": "3.6.4"
  }
 },
 "nbformat": 4,
 "nbformat_minor": 2
}
