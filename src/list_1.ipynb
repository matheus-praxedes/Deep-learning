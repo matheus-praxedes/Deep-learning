{
 "cells": [
  {
   "cell_type": "code",
   "execution_count": null,
   "metadata": {},
   "outputs": [],
   "source": [
    "import numpy as np\n",
    "from data import Instance, DataSet\n",
    "from miscellaneous import initialize_data, plot_graph, plot_points\n",
    "from neural_network import NeuralNetwork\n",
    "from activation_function import *\n",
    "import matplotlib.pyplot as plt"
   ]
  },
  {
   "cell_type": "markdown",
   "metadata": {},
   "source": [
    "### **Questão 01**"
   ]
  },
  {
   "cell_type": "markdown",
   "metadata": {},
   "source": [
    "#### Geração do Conjunto de Dados"
   ]
  },
  {
   "cell_type": "code",
   "execution_count": null,
   "metadata": {},
   "outputs": [],
   "source": [
    "data_set_1 = initialize_data(\"data_set_1\", 1000, seed = 11403723)"
   ]
  },
  {
   "cell_type": "code",
   "execution_count": null,
   "metadata": {},
   "outputs": [],
   "source": [
    "#Plot data\n",
    "aux_1 = [ inst.input for inst in data_set_1.data() ]\n",
    "plot_points([aux_1], \"Square\", \"x\", \"y\", figsizex = 8, figsizey = 8)"
   ]
  },
  {
   "cell_type": "markdown",
   "metadata": {},
   "source": [
    "#### Criação e Treinamento da Rede"
   ]
  },
  {
   "cell_type": "code",
   "execution_count": null,
   "metadata": {},
   "outputs": [],
   "source": [
    "net_1 = NeuralNetwork(3, [8], [step_func])\n",
    "data_1 = net_1.fit(data_set_1, \"stochastic\", 10, learning_rate = 0.1, type = \"class\", tvt_ratio = [7, 2, 1], \n",
    "                            print_info = False)"
   ]
  },
  {
   "cell_type": "markdown",
   "metadata": {},
   "source": [
    "#### Resultados"
   ]
  },
  {
   "cell_type": "code",
   "execution_count": null,
   "metadata": {},
   "outputs": [],
   "source": [
    "plot_graph(data_1, \"Problem 1 - Step\", \"Epoch\", \"Error\", figsizex = 16, figsizey = 8)"
   ]
  },
  {
   "cell_type": "markdown",
   "metadata": {},
   "source": [
    "### **Questão 01 - Solução alternativa**"
   ]
  },
  {
   "cell_type": "markdown",
   "metadata": {},
   "source": [
    "#### Criação e Treinamento da Rede"
   ]
  },
  {
   "cell_type": "code",
   "execution_count": null,
   "metadata": {},
   "outputs": [],
   "source": [
    "net_1b = NeuralNetwork(3, [3, 8], 2*[sig_func])\n",
    "data_1b = net_1b.fit(data_set_1, \"stochastic\", 50, learning_rate = 0.1, type = \"class\", tvt_ratio = [7, 2, 1], \n",
    "                              print_info = False)"
   ]
  },
  {
   "cell_type": "markdown",
   "metadata": {},
   "source": [
    "#### Resultados"
   ]
  },
  {
   "cell_type": "code",
   "execution_count": null,
   "metadata": {},
   "outputs": [],
   "source": [
    "plot_graph(data_1b, \"Problem 1 - Sigmoid\", \"Epoch\", \"Error\", figsizex = 16, figsizey = 8)"
   ]
  },
  {
   "cell_type": "markdown",
   "metadata": {},
   "source": [
    "### **Questão 03 - a**"
   ]
  },
  {
   "cell_type": "markdown",
   "metadata": {},
   "source": [
    "#### Geração do Conjunto de Dados"
   ]
  },
  {
   "cell_type": "code",
   "execution_count": null,
   "metadata": {},
   "outputs": [],
   "source": [
    "data_set_3a = initialize_data(\"data_set_3a\", 100, seed = 11403723)"
   ]
  },
  {
   "cell_type": "code",
   "execution_count": null,
   "metadata": {},
   "outputs": [],
   "source": [
    "#Plot data\n",
    "aux_3a = [ inst.input for inst in data_set_3a.data() ]\n",
    "plot_points([aux_3a], \"XOR\", \"A\", \"B\", figsizex = 8, figsizey = 8)"
   ]
  },
  {
   "cell_type": "markdown",
   "metadata": {},
   "source": [
    "#### Criação e Treinamento Estocástico da Rede"
   ]
  },
  {
   "cell_type": "code",
   "execution_count": null,
   "metadata": {},
   "outputs": [],
   "source": [
    "# Stochastic\n",
    "net_3a1 = NeuralNetwork(2, [2, 4, 1], 3*[sig_func])\n",
    "data_3a1 = net_3a1.fit(data_set_3a, \"stochastic\", 800, learning_rate = 0.2, type = \"reg\", tvt_ratio = [7, 2, 1], \n",
    "                                print_info = False)"
   ]
  },
  {
   "cell_type": "markdown",
   "metadata": {},
   "source": [
    "#### Resultados"
   ]
  },
  {
   "cell_type": "code",
   "execution_count": null,
   "metadata": {},
   "outputs": [],
   "source": [
    "plot_graph(data_3a1, \"Problem 3.a - Sigmoid/Stochastic\", \"Epoch\", \"MSE\", figsizex = 16, figsizey = 8)"
   ]
  },
  {
   "cell_type": "markdown",
   "metadata": {},
   "source": [
    "#### Criação e Treinamento em Lote da Rede"
   ]
  },
  {
   "cell_type": "code",
   "execution_count": null,
   "metadata": {},
   "outputs": [],
   "source": [
    "# Batch\n",
    "net_3a2 = NeuralNetwork(2, [4, 6, 1], 3*[sig_func]) #4 6 1\n",
    "data_3a2 = net_3a2.fit(data_set_3a, \"batch\", 5000, learning_rate = 0.2, type = \"reg\", tvt_ratio = [7, 2, 1],\n",
    "                       print_info = False)"
   ]
  },
  {
   "cell_type": "markdown",
   "metadata": {},
   "source": [
    "#### Resultados"
   ]
  },
  {
   "cell_type": "code",
   "execution_count": null,
   "metadata": {
    "scrolled": false
   },
   "outputs": [],
   "source": [
    "plot_graph(data_3a2, \"Problem 3.a - Sigmoid/Batch\", \"Epoch\", \"MSE\", figsizex = 16, figsizey = 8)"
   ]
  },
  {
   "cell_type": "markdown",
   "metadata": {},
   "source": [
    "#### Criação e Treinamento Estocástico da Rede usando termo do Momento"
   ]
  },
  {
   "cell_type": "code",
   "execution_count": null,
   "metadata": {},
   "outputs": [],
   "source": [
    "# Stochastic + Momentum\n",
    "net_3a3 = NeuralNetwork(2, [2, 4, 1], 3*[sig_func])\n",
    "data_3a3 = net_3a3.fit(data_set_3a, \"stochastic\", 50, learning_rate = 0.05, type = \"reg\", tvt_ratio = [7, 2, 1],\n",
    "                        momentum = 0.9, print_info = True)"
   ]
  },
  {
   "cell_type": "markdown",
   "metadata": {},
   "source": [
    "#### Resultados"
   ]
  },
  {
   "cell_type": "code",
   "execution_count": null,
   "metadata": {},
   "outputs": [],
   "source": [
    "plot_graph(data_3a3, \"Problem 3.a - Sigmoid/Estocástico/Momentum\", \"Epoch\", \"MSE\", figsizex = 16, figsizey = 8)"
   ]
  },
  {
   "cell_type": "code",
   "execution_count": null,
   "metadata": {},
   "outputs": [],
   "source": [
    "for x in range(2):\n",
    "    for y in range(2):\n",
    "        print(\"[\", x, \",\", y, \"] : \", net_3a3.classify([x, y]) )"
   ]
  },
  {
   "cell_type": "markdown",
   "metadata": {},
   "source": [
    "### **Questão 03 - b**"
   ]
  },
  {
   "cell_type": "markdown",
   "metadata": {},
   "source": [
    "#### Geração do Conjunto de Dados"
   ]
  },
  {
   "cell_type": "code",
   "execution_count": null,
   "metadata": {},
   "outputs": [],
   "source": [
    "data_set_3b = initialize_data(\"data_set_3b\", 5000) #5000 é ótimo"
   ]
  },
  {
   "cell_type": "code",
   "execution_count": null,
   "metadata": {},
   "outputs": [],
   "source": [
    "#Plot data\n",
    "aux_3b = [[inst.input, inst.expected_output] for inst in data_set_3b.data()]\n",
    "plot_points([aux_3b], \"Sin Function\", \"x\", \"y\", figsizex = 8, figsizey = 8)"
   ]
  },
  {
   "cell_type": "markdown",
   "metadata": {},
   "source": [
    "#### Criação e Treinamento Estocástico da Rede"
   ]
  },
  {
   "cell_type": "code",
   "execution_count": null,
   "metadata": {},
   "outputs": [],
   "source": [
    "# Stochastic\n",
    "net_3b1 = NeuralNetwork(1, [5, 3, 1], 3*[tanh_func])\n",
    "data_3b1 = net_3b1.fit(data_set_3b, \"stochastic\", 50, learning_rate = 0.1, type = \"reg\", tvt_ratio = [7, 2, 1], \n",
    "                        print_info = True)"
   ]
  },
  {
   "cell_type": "markdown",
   "metadata": {},
   "source": [
    "#### Resultados"
   ]
  },
  {
   "cell_type": "code",
   "execution_count": null,
   "metadata": {},
   "outputs": [],
   "source": [
    "plot_graph(data_3b1, \"Problem 3.b - Sigmoid/Stochastic\", \"Epoch\", \"MSE\", figsizex = 16, figsizey = 8)"
   ]
  },
  {
   "cell_type": "markdown",
   "metadata": {},
   "source": [
    "#### Criação e Treinamento em Lote da Rede"
   ]
  },
  {
   "cell_type": "code",
   "execution_count": null,
   "metadata": {},
   "outputs": [],
   "source": [
    "# Batch\n",
    "net_3b2 = NeuralNetwork(1, [5, 3, 1], 3*[tanh_func])\n",
    "data_3b2 = net_3b2.fit(data_set_3b, \"batch\", 5000, learning_rate = 0.01, type = \"reg\", tvt_ratio = [7, 2, 1], \n",
    "                        print_info = False) #1000"
   ]
  },
  {
   "cell_type": "markdown",
   "metadata": {},
   "source": [
    "#### Resultados"
   ]
  },
  {
   "cell_type": "code",
   "execution_count": null,
   "metadata": {},
   "outputs": [],
   "source": [
    "plot_graph(data_3b2, \"Problem 3.b - Sigmoid/Batch\", \"Epoch\", \"MSE\", figsizex = 16, figsizey = 8)"
   ]
  },
  {
   "cell_type": "markdown",
   "metadata": {},
   "source": [
    "#### Criação e Treinamento Estocástico da Rede usando termo do Momento"
   ]
  },
  {
   "cell_type": "code",
   "execution_count": null,
   "metadata": {},
   "outputs": [],
   "source": [
    "# Stochastic + Momentum\n",
    "net_3b3 = NeuralNetwork(1, [5, 3, 1], 3*[tanh_func])\n",
    "data_3b3 = net_3b3.fit(data_set_3b, \"stochastic\", 5, learning_rate = 0.1, type = \"reg\", tvt_ratio = [7, 2, 1], \n",
    "                        momentum = 0.5, print_info = True) # 500 épocas"
   ]
  },
  {
   "cell_type": "markdown",
   "metadata": {},
   "source": [
    "#### Resultados"
   ]
  },
  {
   "cell_type": "code",
   "execution_count": null,
   "metadata": {},
   "outputs": [],
   "source": [
    "plot_graph(data_3b3, \"Problem 3.b - Sigmoid/Estocástico/Momentum\", \"Epoch\", \"MSE\", figsizex = 16, figsizey = 8)"
   ]
  },
  {
   "cell_type": "markdown",
   "metadata": {},
   "source": [
    "#### Comparação entre a Rede Neural e a Função"
   ]
  },
  {
   "cell_type": "code",
   "execution_count": null,
   "metadata": {
    "scrolled": false
   },
   "outputs": [],
   "source": [
    "#Grafico\n",
    "aux_ex = []\n",
    "for instance in range(1, 400):\n",
    "    net_3b3.classify( [instance/100] )\n",
    "    aux_ex.append([instance/100, net_3b3.output[0]])\n",
    "\n",
    "plot_points([aux_3b, aux_ex], \"Problem 3b\", \"x\", \"y\", figsizex = 16, figsizey = 8)"
   ]
  },
  {
   "cell_type": "markdown",
   "metadata": {},
   "source": [
    "### **Questão 04**"
   ]
  },
  {
   "cell_type": "markdown",
   "metadata": {},
   "source": [
    "#### Geração do Conjunto de Dados"
   ]
  },
  {
   "cell_type": "code",
   "execution_count": null,
   "metadata": {},
   "outputs": [],
   "source": [
    "data_set_4 = initialize_data(\"data_set_4\", 2000, seed = 11403723) # 2000"
   ]
  },
  {
   "cell_type": "code",
   "execution_count": null,
   "metadata": {},
   "outputs": [],
   "source": [
    "#Plot data\n",
    "aux_4 = [inst.input for inst in data_set_4.data()]\n",
    "plot_points( [aux_4], \"Circle\", \"x\", \"y\", figsizex = 8, figsizey = 8)"
   ]
  },
  {
   "cell_type": "markdown",
   "metadata": {},
   "source": [
    "#### Criação e Treinamento da Rede"
   ]
  },
  {
   "cell_type": "code",
   "execution_count": null,
   "metadata": {},
   "outputs": [],
   "source": [
    "net_4 = NeuralNetwork(2, [4, 6, 8, 8], 4*[sig_func])\n",
    "data_4 = net_4.fit(data_set_4, \"stochastic\", 20, learning_rate = 0.002, type = \"class\", tvt_ratio = [7, 2, 1],\n",
    "                        print_info = True, momentum = 0.7)"
   ]
  },
  {
   "cell_type": "markdown",
   "metadata": {},
   "source": [
    "#### Resultados"
   ]
  },
  {
   "cell_type": "code",
   "execution_count": null,
   "metadata": {},
   "outputs": [],
   "source": [
    "plot_graph(data_4, \"Problem 4\", \"Epoch\", \"Error\", figsizex = 16, figsizey = 8)"
   ]
  },
  {
   "cell_type": "code",
   "execution_count": null,
   "metadata": {},
   "outputs": [],
   "source": [
    "points = [[], [], [], [], [], [], [], []]\n",
    "for i in data_set_4.data():\n",
    "    result = net_4.classify( i.input )\n",
    "    temp = [ 0.0 if k < 0.5 else 1.0 for k in result ]\n",
    "    if 1.0 not in temp:\n",
    "        temp[0] = 1.0\n",
    "    points[ temp.index(1.0)].append(i.input)\n",
    "plot_points( points, \"Circle\", \"x\", \"y\", figsizex = 8, figsizey = 8, point_size = 4, colors = ['y'])"
   ]
  },
  {
   "cell_type": "code",
   "execution_count": null,
   "metadata": {},
   "outputs": [],
   "source": [
    "points = [[], [], [], [], [], [], [], []]\n",
    "for i in data_set_4.data()[1800:2000]:\n",
    "    result = net_4.classify( i.input )\n",
    "    temp = [ 0.0 if k < 0.5 else 1.0 for k in result ]\n",
    "    if 1.0 not in temp:\n",
    "        temp[0] = 1.0\n",
    "    points[ temp.index(1.0)].append(i.input)\n",
    "plot_points( points, \"Circle\", \"x\", \"y\", figsizex = 8, figsizey = 8, point_size = 4, colors = ['y'])"
   ]
  },
  {
   "cell_type": "markdown",
   "metadata": {},
   "source": [
    "### **Questão 05**"
   ]
  },
  {
   "cell_type": "markdown",
   "metadata": {},
   "source": [
    "#### Geração do Conjunto de Dados"
   ]
  },
  {
   "cell_type": "code",
   "execution_count": null,
   "metadata": {},
   "outputs": [],
   "source": [
    "data_set_5 = initialize_data(\"data_set_5\", 1000, seed = 11403723)"
   ]
  },
  {
   "cell_type": "markdown",
   "metadata": {},
   "source": [
    "#### Criação e Treinamento da Rede"
   ]
  },
  {
   "cell_type": "code",
   "execution_count": null,
   "metadata": {},
   "outputs": [],
   "source": [
    "net_5 = NeuralNetwork(10, [4, 3], 3*[tanh_func])\n",
    "data_5 = net_5.fit(data_set_5, \"stochastic\", 10, learning_rate = 0.05, type = \"reg\", tvt_ratio = [7, 2, 1],\n",
    "                       momentum = 0.5, print_info = False)"
   ]
  },
  {
   "cell_type": "markdown",
   "metadata": {},
   "source": [
    "#### Resultados"
   ]
  },
  {
   "cell_type": "code",
   "execution_count": null,
   "metadata": {},
   "outputs": [],
   "source": [
    "plot_graph(data_5, \"Problem 5 - Sigmoid/Stochastic\", \"Epoch\", \"MSE\", figsizex = 16, figsizey = 8)"
   ]
  },
  {
   "cell_type": "markdown",
   "metadata": {},
   "source": [
    "#### Comparação entre a Rede Neural e a Sequência Real"
   ]
  },
  {
   "cell_type": "code",
   "execution_count": null,
   "metadata": {},
   "outputs": [],
   "source": [
    "#Grafico\n",
    "data_t = [[], [], [], [], []]\n",
    "x_size = 100\n",
    "for n in range(x_size):\n",
    "    sin_n = np.sin(n)\n",
    "    data_t[0].append( n )\n",
    "    data_t[1].append( np.sin(n + sin_n*sin_n) )\n",
    "\n",
    "data_t[2] = data_t[1][0:11]\n",
    "for n in range(10, x_size-1):   \n",
    "    inp = [data_t[1][x] for x in range(n-10, n)]\n",
    "    net_5.classify(inp)\n",
    "    data_t[2].append(net_5.output[0])\n",
    "\n",
    "data_t[3] = data_t[1][0:12]\n",
    "for n in range(10, x_size-2):   \n",
    "    net_5.classify( [data_t[1][x] for x in range(n-10, n)] )\n",
    "    data_t[3].append(net_5.output[1])\n",
    "    \n",
    "data_t[4] = data_t[1][0:13]\n",
    "for n in range(10, x_size-3):   \n",
    "    net_5.classify( [data_t[1][x] for x in range(n-10, n)] )\n",
    "    data_t[4].append(net_5.output[2])\n",
    "\n",
    "plot_graph(data_t, \"Sequence\", \"x\", \"y\", labels = [\"real\", \"n+1\", \"n+2\", \"n+3\"], figsizex = 20)"
   ]
  },
  {
   "cell_type": "code",
   "execution_count": null,
   "metadata": {},
   "outputs": [],
   "source": []
  }
 ],
 "metadata": {
  "kernelspec": {
   "display_name": "Python 3",
   "language": "python",
   "name": "python3"
  },
  "language_info": {
   "codemirror_mode": {
    "name": "ipython",
    "version": 3
   },
   "file_extension": ".py",
   "mimetype": "text/x-python",
   "name": "python",
   "nbconvert_exporter": "python",
   "pygments_lexer": "ipython3",
   "version": "3.6.4"
  }
 },
 "nbformat": 4,
 "nbformat_minor": 2
}
