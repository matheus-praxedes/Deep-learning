{
 "cells": [
  {
   "cell_type": "code",
   "execution_count": 1,
   "metadata": {},
   "outputs": [],
   "source": [
    "import numpy as np\n",
    "import os.path\n",
    "from data import Instance, DataSet\n",
    "from neural_network import NeuralNetwork\n",
    "from activation_function import ActivationFunction\n",
    "import matplotlib.pyplot as plt"
   ]
  },
  {
   "cell_type": "markdown",
   "metadata": {},
   "source": [
    "### **Questão 01**"
   ]
  },
  {
   "cell_type": "markdown",
   "metadata": {},
   "source": [
    "#### O primeiro passo é a criação do conjunto de dados, que será usado para treinamento, validação e teste:"
   ]
  },
  {
   "cell_type": "code",
   "execution_count": 37,
   "metadata": {},
   "outputs": [],
   "source": [
    "data_set_1 = DataSet(\"data_set_1\")\n",
    "aux = []\n",
    "\n",
    "if (os.path.isfile(data_set_1.name)):\n",
    "    data_set_1.loadFile()\n",
    "\n",
    "else:\n",
    "    data_set_size_1 = 1000\n",
    "    for i in range(data_set_size_1):\n",
    "        x1 = np.round(np.random.sample(3))\n",
    "        \n",
    "        phi = np.random.random() * 2.0 * np.pi\n",
    "        cos_theta = np.random.random() * 2.0 - 1.0\n",
    "        theta = np.arccos( cos_theta )\n",
    "        u = np.random.random()\n",
    "        \n",
    "        r = 0.1 * np.cbrt( u )\n",
    "        x = r * np.sin( theta) * np.cos( phi )\n",
    "        y = r * np.sin( theta) * np.sin( phi )\n",
    "        z = r * np.cos( theta )\n",
    "        x2 = [x, y, z]\n",
    "        x = [i+j for i,j in zip(x1, x2)]\n",
    "\n",
    "        n = int(x1[0])*4 + int(x1[1])*2 + int(x1[2])\n",
    "        y = [0.0 for k in range(0,8)]\n",
    "        y[n] = 1.0\n",
    "\n",
    "        data_set_1.add( Instance(x, y) )\n",
    "\n",
    "    data_set_1.saveToFile()"
   ]
  },
  {
   "cell_type": "code",
   "execution_count": null,
   "metadata": {},
   "outputs": [],
   "source": [
    "#Plot data\n",
    "\n",
    "for instance in data_set_1.data():\n",
    "    aux.append(instance.input)\n",
    "    \n",
    "plt.figure(figsize=(10,10))\n",
    "plt.title(\"Square\")\n",
    "plt.xlabel(\"x\")\n",
    "plt.ylabel(\"y\")\n",
    "plt.plot([ i[0] for i in aux], [ i[1] for i in aux], 'ro', markersize = 2)"
   ]
  },
  {
   "cell_type": "markdown",
   "metadata": {},
   "source": [
    "#### Depois, instanciamos uma função de ativação, criamos a rede neural com as características desejadas e executamos"
   ]
  },
  {
   "cell_type": "code",
   "execution_count": null,
   "metadata": {},
   "outputs": [],
   "source": [
    "step_func = ActivationFunction(\"step\")\n",
    "net = NeuralNetwork(3, [8], [step_func], 0.1)\n",
    "data = net.trainDataSet(data_set_1, \"stochastic\", 10, print_info = False, type = \"class\", tvt_ratio = [7, 2, 1])"
   ]
  },
  {
   "cell_type": "code",
   "execution_count": null,
   "metadata": {},
   "outputs": [],
   "source": [
    "plt.figure(figsize=(16,8))\n",
    "plt.title(\"Problem 1 - Step\")\n",
    "plt.xlabel(\"Epoch\")\n",
    "plt.ylabel(\"Error\")\n",
    "plt.plot(data[0], data[1], 'r', label = \"Training\")\n",
    "plt.plot(data[0], data[2], 'b', label = \"Validation\")\n",
    "plt.legend(loc = 'center right', bbox_to_anchor = (1.0, 0.7))"
   ]
  },
  {
   "cell_type": "code",
   "execution_count": null,
   "metadata": {},
   "outputs": [],
   "source": [
    "sig_func = ActivationFunction(\"sigmoid\")\n",
    "net = NeuralNetwork(3, [3, 8], [sig_func, sig_func], 0.1)\n",
    "data = net.trainDataSet(data_set_1, \"stochastic\", 100, print_info = False, type = \"class\", tvt_ratio = [7, 2, 1])"
   ]
  },
  {
   "cell_type": "code",
   "execution_count": null,
   "metadata": {},
   "outputs": [],
   "source": [
    "plt.figure(figsize=(16,8))\n",
    "plt.title(\"Problem 1 - Sigmoid\")\n",
    "plt.xlabel(\"Epoch\")\n",
    "plt.ylabel(\"Error\")\n",
    "plt.plot(data[0], data[1], 'r', label = \"Training\")\n",
    "plt.plot(data[0], data[2], 'b', label = \"Validation\")\n",
    "plt.legend(loc = 'center right', bbox_to_anchor = (1.0, 0.7))"
   ]
  },
  {
   "cell_type": "markdown",
   "metadata": {},
   "source": [
    "### **Questão 03 - a**"
   ]
  },
  {
   "cell_type": "code",
   "execution_count": 24,
   "metadata": {},
   "outputs": [],
   "source": [
    "data_set_3a = DataSet(\"data_set_3a\")\n",
    "aux = []\n",
    "\n",
    "if (os.path.isfile(data_set_3a.name)):\n",
    "    data_set_3a.loadFile()\n",
    "\n",
    "else:\n",
    "    data_set_size_3a = 100\n",
    "    for i in range(0, data_set_size_3a):\n",
    "        x1 = np.random.randint(0, 2)\n",
    "        x2 = np.random.randint(0, 2)\n",
    "        x = [float(x1), float(x2)]\n",
    "        aux.append(x)\n",
    "\n",
    "        y = 1.0 if x1 == x2 else 0.0 \n",
    "\n",
    "        data_set_3a.add( Instance( x, y) )\n",
    "        \n",
    "    data_set_3a.saveToFile()"
   ]
  },
  {
   "cell_type": "code",
   "execution_count": null,
   "metadata": {},
   "outputs": [],
   "source": [
    "#Plot data\n",
    "\n",
    "for instance in data_set_3a.data():\n",
    "    aux.append(instance.input)\n",
    "    \n",
    "plt.figure(figsize=(10, 108))\n",
    "plt.title(\"Square\")\n",
    "plt.xlabel(\"x\")\n",
    "plt.ylabel(\"y\")\n",
    "plt.plot([ i[0] for i in aux], [ i[1] for i in aux], 'ro', markersize = 2)"
   ]
  },
  {
   "cell_type": "markdown",
   "metadata": {},
   "source": [
    "### **Questão 03 - b**"
   ]
  },
  {
   "cell_type": "code",
   "execution_count": 26,
   "metadata": {},
   "outputs": [],
   "source": [
    "data_set_3b = DataSet(\"data_set_3b\")\n",
    "aux = []\n",
    "\n",
    "if (os.path.isfile(data_set_3b.name)):\n",
    "    data_set_3b.loadFile()\n",
    "\n",
    "else:\n",
    "    data_set_size_3b = 100\n",
    "    for i in range(0, data_set_size_3b):\n",
    "        x = np.random.random() * 4.0\n",
    "        aux.append(x)\n",
    "\n",
    "        y = np.sin(x * np.pi) / (x * np.pi)\n",
    "\n",
    "        data_set_3b.add( Instance( x, y) )\n",
    "        \n",
    "    data_set_3b.saveToFile()"
   ]
  },
  {
   "cell_type": "code",
   "execution_count": null,
   "metadata": {},
   "outputs": [],
   "source": [
    "#Plot data\n",
    "\n",
    "for instance in data_set_3b.data():\n",
    "    aux.append([instance.input, instance.expected_output])\n",
    "    \n",
    "plt.figure(figsize=(16,8))\n",
    "plt.title(\"Square\")\n",
    "plt.xlabel(\"x\")\n",
    "plt.ylabel(\"y\")\n",
    "plt.plot([ instance.input for instance in data_set_3b.data()], [ instance.expected_output for instance in data_set_3b.data()], 'ro', markersize = 2)"
   ]
  },
  {
   "cell_type": "markdown",
   "metadata": {},
   "source": [
    "### **Questão 04**"
   ]
  },
  {
   "cell_type": "code",
   "execution_count": 32,
   "metadata": {},
   "outputs": [],
   "source": [
    "data_set_4 = DataSet(\"data_set_4\")\n",
    "aux = []\n",
    "\n",
    "if (os.path.isfile(data_set_4.name)):\n",
    "    data_set_4.loadFile()\n",
    "\n",
    "else:\n",
    "    data_set_size_4 = 1000\n",
    "    for i in range(0, data_set_size_4):\n",
    "        t = 2 * np.pi * np.random.sample(1)[0]\n",
    "        u = np.random.sample(1)[0] + np.random.sample(1)[0]\n",
    "        r = 2-u if u > 1 else u\n",
    "        x = [r*np.cos(t), r*np.sin(t)]\n",
    "        aux.append(x)\n",
    "\n",
    "        n = 0\n",
    "        if(x[0] >= 0.0):\n",
    "            n = 0 if x[1] >= 0.0 else 3\n",
    "        else:\n",
    "            n = 1 if x[1] >= 0.0 else 2\n",
    "\n",
    "        n += 4 if np.absolute(x[1]) > 1.0 - np.absolute(x[0]) else 0\n",
    "\n",
    "        y = [0.0 for k in range(0,8)]\n",
    "        y[n] = 1.0\n",
    "\n",
    "        data_set_4.add( Instance( x, y) )\n",
    "        \n",
    "    data_set_4.saveToFile()"
   ]
  },
  {
   "cell_type": "code",
   "execution_count": null,
   "metadata": {},
   "outputs": [],
   "source": [
    "#Plot data\n",
    "\n",
    "for instance in data_set_4.data():\n",
    "    aux.append(instance.input)\n",
    "    \n",
    "plt.figure(figsize=(10,10))\n",
    "plt.title(\"Square\")\n",
    "plt.xlabel(\"x\")\n",
    "plt.ylabel(\"y\")\n",
    "plt.plot([ i[0] for i in aux], [ i[1] for i in aux], 'ro', markersize = 2)"
   ]
  },
  {
   "cell_type": "code",
   "execution_count": 3,
   "metadata": {},
   "outputs": [
    {
     "name": "stdout",
     "output_type": "stream",
     "text": [
      "|| Epoch: 500 || |   8   0   0   0   0   0   0   1  |\n",
      "|   0  10   0   0   0   5   0   0  |\n",
      "|   0   0  11   0   0   0   2   0  |\n",
      "|   0   0   0  15   0   0   0   3  |\n",
      "|   4   0   0   0   8   0   0   0  |\n",
      "|   0   0   0   0   0   8   0   0  |\n",
      "|   0   0   2   0   0   0   9   0  |\n",
      "|   0   0   0   7   0   0   0   7  |\n",
      "\n",
      "Correct: 76.0%\n",
      "Incorrect: 24.0%\n"
     ]
    }
   ],
   "source": [
    "sig_func = ActivationFunction(\"sigmoid\")\n",
    "net = NeuralNetwork(2, [2, 6, 6, 8], [sig_func, sig_func, sig_func, sig_func], 0.15)\n",
    "data = net.trainDataSet(data_set_4, \"stochastic\", 500, momentum = 0.5, type = \"class\", tvt_ratio = [7, 2, 1])"
   ]
  },
  {
   "cell_type": "code",
   "execution_count": 4,
   "metadata": {},
   "outputs": [
    {
     "data": {
      "text/plain": [
       "<matplotlib.legend.Legend at 0x29df26991d0>"
      ]
     },
     "execution_count": 4,
     "metadata": {},
     "output_type": "execute_result"
    },
    {
     "data": {
      "image/png": "[encoded data removed]",
      "text/plain": [
       "<Figure size 1152x576 with 1 Axes>"
      ]
     },
     "metadata": {},
     "output_type": "display_data"
    }
   ],
   "source": [
    "plt.figure(figsize=(16,8))\n",
    "plt.title(\"Problem 4\")\n",
    "plt.xlabel(\"Epoch\")\n",
    "plt.ylabel(\"Error\")\n",
    "plt.plot(data[0], data[1], 'r', label = \"Training\")\n",
    "plt.plot(data[0], data[2], 'b', label = \"Validation\")\n",
    "plt.legend(loc = 'center right', bbox_to_anchor = (1.0, 0.7))"
   ]
  },
  {
   "cell_type": "code",
   "execution_count": 23,
   "metadata": {},
   "outputs": [],
   "source": [
    "result_4 = open('result_4.txt', 'w')\n",
    "for item in data[0]:\n",
    "  result_4.write(\"%s\\n\" % item)\n",
    "result_4.write(\"\\n\")\n",
    "\n",
    "for item in data[1]:\n",
    "  result_4.write(\"%s\\n\" % item)\n",
    "result_4.write(\"\\n\")\n",
    "\n",
    "for item in data[2]:\n",
    "  result_4.write(\"%s\\n\" % item)\n",
    "result_4.write(\"\\n\")\n",
    "result_4.close()\n"
   ]
  },
  {
   "cell_type": "markdown",
   "metadata": {},
   "source": [
    "### **Questão 05**"
   ]
  },
  {
   "cell_type": "code",
   "execution_count": 16,
   "metadata": {},
   "outputs": [],
   "source": [
    "data_set_5 = DataSet(\"data_set_5\")\n",
    "aux = []\n",
    "\n",
    "if (os.path.isfile(data_set_5.name)):\n",
    "    data_set_5.loadFile()\n",
    "\n",
    "else:\n",
    "    data_set_size_5 = 100\n",
    "    for i in range(0, data_set_size_5):\n",
    "        \n",
    "        n = np.random.randint(0, 2001)\n",
    "        x_old = [np.sin(m) for m in range(n-10, n) ]\n",
    "        x = [np.sin(n-10+idx + x1 * x1) for idx, x1 in enumerate(x_old)]\n",
    "        \n",
    "        aux.append(x)\n",
    "\n",
    "        y_old = [np.sin(m) for m in range(n+1, n+4) ]\n",
    "        y = [np.sin(n+1+idx + y1 * y1) for idx, y1 in enumerate(y_old)]\n",
    "\n",
    "        data_set_5.add( Instance( x, y) )\n",
    "        \n",
    "    data_set_5.saveToFile()"
   ]
  },
  {
   "cell_type": "code",
   "execution_count": null,
   "metadata": {},
   "outputs": [],
   "source": []
  }
 ],
 "metadata": {
  "kernelspec": {
   "display_name": "Python 3",
   "language": "python",
   "name": "python3"
  },
  "language_info": {
   "codemirror_mode": {
    "name": "ipython",
    "version": 3
   },
   "file_extension": ".py",
   "mimetype": "text/x-python",
   "name": "python",
   "nbconvert_exporter": "python",
   "pygments_lexer": "ipython3",
   "version": "3.6.4"
  }
 },
 "nbformat": 4,
 "nbformat_minor": 2
}
