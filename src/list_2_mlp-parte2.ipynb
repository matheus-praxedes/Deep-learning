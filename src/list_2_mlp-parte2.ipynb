{
 "cells": [
  {
   "cell_type": "code",
   "execution_count": 1,
   "metadata": {},
   "outputs": [
    {
     "name": "stderr",
     "output_type": "stream",
     "text": [
      "/home/xeds/.conda/envs/atividade1/lib/python3.6/site-packages/h5py/__init__.py:36: FutureWarning: Conversion of the second argument of issubdtype from `float` to `np.floating` is deprecated. In future, it will be treated as `np.float64 == np.dtype(float).type`.\n",
      "  from ._conv import register_converters as _register_converters\n",
      "Using TensorFlow backend.\n"
     ]
    }
   ],
   "source": [
    "import numpy as np\n",
    "from data import Instance, DataSet\n",
    "from miscellaneous import initialize_data, plot_graph, plot_points\n",
    "from neural_network import NeuralNetwork\n",
    "from activation_function import *\n",
    "import matplotlib.pyplot as plt\n",
    "from keras.datasets import mnist\n",
    "import copy"
   ]
  },
  {
   "cell_type": "markdown",
   "metadata": {},
   "source": [
    "### Leitura do conjunto de dados"
   ]
  },
  {
   "cell_type": "code",
   "execution_count": 2,
   "metadata": {},
   "outputs": [],
   "source": [
    "(x_train, y_train), (x_test, y_test) = mnist.load_data()"
   ]
  },
  {
   "cell_type": "markdown",
   "metadata": {},
   "source": [
    "### Descobrindo o número de instâncias e as dimensões de cada uma"
   ]
  },
  {
   "cell_type": "code",
   "execution_count": 3,
   "metadata": {},
   "outputs": [],
   "source": [
    "num_instances, dim_x, dim_y = x_train.shape\n",
    "num_instances += x_test.shape[0]"
   ]
  },
  {
   "cell_type": "markdown",
   "metadata": {},
   "source": [
    "### Normalizando"
   ]
  },
  {
   "cell_type": "code",
   "execution_count": 4,
   "metadata": {},
   "outputs": [],
   "source": [
    "#Treinamento\n",
    "norm_input_train = [np.divide(i.astype(np.float32),255).flatten() for i in x_train]\n",
    "\n",
    "output_train = []\n",
    "y = 10*[0.0]\n",
    "\n",
    "for n in y_train:\n",
    "    y[n] = 1.0\n",
    "    output_train.append(copy.deepcopy(y))\n",
    "    y[n] = 0.0"
   ]
  },
  {
   "cell_type": "code",
   "execution_count": 5,
   "metadata": {},
   "outputs": [],
   "source": [
    "#Teste\n",
    "norm_input_test = [np.divide(i.astype(np.float32),255).flatten() for i in x_test]\n",
    "\n",
    "output_test = []\n",
    "y = 10*[0.0]\n",
    "\n",
    "for n in y_test:\n",
    "    y[n] = 1.0\n",
    "    output_test.append(copy.deepcopy(y))\n",
    "    y[n] = 0.0"
   ]
  },
  {
   "cell_type": "markdown",
   "metadata": {},
   "source": [
    "### Organizando o dataset para ser passado no padrão aceito pela rede neural"
   ]
  },
  {
   "cell_type": "code",
   "execution_count": 6,
   "metadata": {},
   "outputs": [],
   "source": [
    "dataset = DataSet() \n",
    "\n",
    "for i,j in zip(norm_input_train + norm_input_test, output_train + output_test):\n",
    "    dataset.add(Instance(i,j))"
   ]
  },
  {
   "cell_type": "markdown",
   "metadata": {},
   "source": [
    "### Regularização"
   ]
  },
  {
   "cell_type": "markdown",
   "metadata": {},
   "source": [
    "#### 1 - Rede Neural 2"
   ]
  },
  {
   "cell_type": "code",
   "execution_count": 7,
   "metadata": {
    "collapsed": true
   },
   "outputs": [
    {
     "name": "stdout",
     "output_type": "stream",
     "text": [
      "Epoch 1/50\n",
      "60000/60000 [==============================] - 18s 304us/step - loss: 0.1012 - categorical_accuracy: 0.7877\n",
      "Epoch 2/50\n",
      "60000/60000 [==============================] - 8s 133us/step - loss: 0.0502 - categorical_accuracy: 0.8443\n",
      "Epoch 3/50\n",
      "60000/60000 [==============================] - 10s 165us/step - loss: 0.0495 - categorical_accuracy: 0.8456\n",
      "Epoch 4/50\n",
      "60000/60000 [==============================] - 7s 124us/step - loss: 0.0495 - categorical_accuracy: 0.8449\n",
      "Epoch 5/50\n",
      "60000/60000 [==============================] - 8s 136us/step - loss: 0.0495 - categorical_accuracy: 0.8445\n",
      "Epoch 6/50\n",
      "60000/60000 [==============================] - 9s 144us/step - loss: 0.0495 - categorical_accuracy: 0.8452\n",
      "Epoch 7/50\n",
      "60000/60000 [==============================] - 9s 146us/step - loss: 0.0495 - categorical_accuracy: 0.8440\n",
      "Epoch 8/50\n",
      "60000/60000 [==============================] - 12s 203us/step - loss: 0.0495 - categorical_accuracy: 0.8449\n",
      "Epoch 9/50\n",
      "60000/60000 [==============================] - 12s 201us/step - loss: 0.0495 - categorical_accuracy: 0.8453\n",
      "Epoch 10/50\n",
      "60000/60000 [==============================] - 10s 160us/step - loss: 0.0495 - categorical_accuracy: 0.8430\n",
      "Epoch 11/50\n",
      "60000/60000 [==============================] - 10s 163us/step - loss: 0.0495 - categorical_accuracy: 0.8447\n",
      "Epoch 12/50\n",
      "60000/60000 [==============================] - 11s 178us/step - loss: 0.0495 - categorical_accuracy: 0.8446\n",
      "Epoch 13/50\n",
      "60000/60000 [==============================] - 10s 167us/step - loss: 0.0495 - categorical_accuracy: 0.8441\n",
      "Epoch 14/50\n",
      "60000/60000 [==============================] - 10s 173us/step - loss: 0.0495 - categorical_accuracy: 0.8441\n",
      "Epoch 15/50\n",
      "60000/60000 [==============================] - 9s 150us/step - loss: 0.0495 - categorical_accuracy: 0.8445\n",
      "Epoch 16/50\n",
      "60000/60000 [==============================] - 11s 189us/step - loss: 0.0495 - categorical_accuracy: 0.8445s - loss: 0.0495 - categorical_ac\n",
      "Epoch 17/50\n",
      "60000/60000 [==============================] - 9s 149us/step - loss: 0.0495 - categorical_accuracy: 0.8455\n",
      "Epoch 18/50\n",
      "60000/60000 [==============================] - 10s 164us/step - loss: 0.0495 - categorical_accuracy: 0.8438\n",
      "Epoch 19/50\n",
      "60000/60000 [==============================] - 9s 153us/step - loss: 0.0495 - categorical_accuracy: 0.8451\n",
      "Epoch 20/50\n",
      "60000/60000 [==============================] - 10s 168us/step - loss: 0.0495 - categorical_accuracy: 0.8450\n",
      "Epoch 21/50\n",
      "60000/60000 [==============================] - 10s 165us/step - loss: 0.0495 - categorical_accuracy: 0.8449\n",
      "Epoch 22/50\n",
      "60000/60000 [==============================] - 10s 169us/step - loss: 0.0495 - categorical_accuracy: 0.8439\n",
      "Epoch 23/50\n",
      "60000/60000 [==============================] - 10s 164us/step - loss: 0.0495 - categorical_accuracy: 0.8448\n",
      "Epoch 24/50\n",
      "60000/60000 [==============================] - 9s 152us/step - loss: 0.0495 - categorical_accuracy: 0.8446\n",
      "Epoch 25/50\n",
      "60000/60000 [==============================] - 11s 177us/step - loss: 0.0495 - categorical_accuracy: 0.8444\n",
      "Epoch 26/50\n",
      "60000/60000 [==============================] - 7s 113us/step - loss: 0.0495 - categorical_accuracy: 0.8446\n",
      "Epoch 27/50\n",
      "60000/60000 [==============================] - 9s 157us/step - loss: 0.0495 - categorical_accuracy: 0.8436\n",
      "Epoch 28/50\n",
      "60000/60000 [==============================] - 9s 156us/step - loss: 0.0495 - categorical_accuracy: 0.8450\n",
      "Epoch 29/50\n",
      "60000/60000 [==============================] - 10s 168us/step - loss: 0.0495 - categorical_accuracy: 0.8459\n",
      "Epoch 30/50\n",
      "60000/60000 [==============================] - 10s 162us/step - loss: 0.0495 - categorical_accuracy: 0.8437\n",
      "Epoch 31/50\n",
      "60000/60000 [==============================] - 10s 163us/step - loss: 0.0495 - categorical_accuracy: 0.8453\n",
      "Epoch 32/50\n",
      "60000/60000 [==============================] - 10s 168us/step - loss: 0.0495 - categorical_accuracy: 0.8441\n",
      "Epoch 33/50\n",
      "60000/60000 [==============================] - 10s 165us/step - loss: 0.0495 - categorical_accuracy: 0.8455\n",
      "Epoch 34/50\n",
      "60000/60000 [==============================] - 10s 164us/step - loss: 0.0495 - categorical_accuracy: 0.8455\n",
      "Epoch 35/50\n",
      "60000/60000 [==============================] - 11s 186us/step - loss: 0.0495 - categorical_accuracy: 0.8454\n",
      "Epoch 36/50\n",
      "60000/60000 [==============================] - 10s 174us/step - loss: 0.0495 - categorical_accuracy: 0.8450s - loss: 0.0495 - categorical_accura\n",
      "Epoch 37/50\n",
      "60000/60000 [==============================] - 10s 164us/step - loss: 0.0495 - categorical_accuracy: 0.8453\n",
      "Epoch 38/50\n",
      "60000/60000 [==============================] - 8s 134us/step - loss: 0.0495 - categorical_accuracy: 0.8443\n",
      "Epoch 39/50\n",
      "60000/60000 [==============================] - 13s 216us/step - loss: 0.0495 - categorical_accuracy: 0.8444\n",
      "Epoch 40/50\n",
      "60000/60000 [==============================] - 15s 255us/step - loss: 0.0495 - categorical_accuracy: 0.8457\n",
      "Epoch 41/50\n",
      "60000/60000 [==============================] - 13s 215us/step - loss: 0.0495 - categorical_accuracy: 0.8456\n",
      "Epoch 42/50\n",
      "60000/60000 [==============================] - 14s 242us/step - loss: 0.0495 - categorical_accuracy: 0.8442s - loss: 0.0495 \n",
      "Epoch 43/50\n",
      "60000/60000 [==============================] - 15s 243us/step - loss: 0.0495 - categorical_accuracy: 0.8442\n",
      "Epoch 44/50\n",
      "60000/60000 [==============================] - 14s 238us/step - loss: 0.0495 - categorical_accuracy: 0.8450\n",
      "Epoch 45/50\n",
      "60000/60000 [==============================] - 10s 171us/step - loss: 0.0495 - categorical_accuracy: 0.8444\n",
      "Epoch 46/50\n",
      "60000/60000 [==============================] - 12s 207us/step - loss: 0.0495 - categorical_accuracy: 0.8445\n",
      "Epoch 47/50\n",
      "60000/60000 [==============================] - 10s 160us/step - loss: 0.0495 - categorical_accuracy: 0.8445\n",
      "Epoch 48/50\n",
      "60000/60000 [==============================] - 13s 212us/step - loss: 0.0495 - categorical_accuracy: 0.8452\n",
      "Epoch 49/50\n",
      "60000/60000 [==============================] - 11s 187us/step - loss: 0.0495 - categorical_accuracy: 0.8445\n",
      "Epoch 50/50\n",
      "60000/60000 [==============================] - 11s 180us/step - loss: 0.0495 - categorical_accuracy: 0.8451\n",
      "10000/10000 [==============================] - 1s 147us/step\n",
      "[0.048763533696532246, 0.8591000013351441]\n"
     ]
    }
   ],
   "source": [
    "net_2 = NeuralNetwork(dim_x*dim_y ,[10], [tanh_func],\"l2\",0.01) # 84,51% - treino / 85,91% - teste\n",
    "data_2 = net_2.fit(dataset, \"mini-batch\", 50, lr_ = 0.1, type = \"class\", mini_batch_size = 60, \n",
    "                   tvt_ratio = [len(norm_input_train), 0, len(norm_input_test)], print_info = True)"
   ]
  },
  {
   "cell_type": "code",
   "execution_count": 8,
   "metadata": {
    "collapsed": true
   },
   "outputs": [
    {
     "data": {
      "image/png": "[encoded data removed]",
      "text/plain": [
       "<matplotlib.figure.Figure at 0x7f76b5375240>"
      ]
     },
     "metadata": {},
     "output_type": "display_data"
    }
   ],
   "source": [
    "plot_graph(data_2, \"Numbers\", \"Epoch\", \"Error\", figsizex = 16, figsizey = 8)"
   ]
  },
  {
   "cell_type": "markdown",
   "metadata": {},
   "source": [
    "#### 2 - Rede Neural 3"
   ]
  },
  {
   "cell_type": "code",
   "execution_count": 10,
   "metadata": {
    "collapsed": true
   },
   "outputs": [
    {
     "name": "stdout",
     "output_type": "stream",
     "text": [
      "Epoch 1/50\n",
      "60000/60000 [==============================] - 7s 121us/step - loss: 0.3823 - categorical_accuracy: 0.8906\n",
      "Epoch 2/50\n",
      "60000/60000 [==============================] - 7s 113us/step - loss: 0.3075 - categorical_accuracy: 0.9132\n",
      "Epoch 3/50\n",
      "60000/60000 [==============================] - 8s 127us/step - loss: 0.2982 - categorical_accuracy: 0.9156\n",
      "Epoch 4/50\n",
      "60000/60000 [==============================] - 7s 122us/step - loss: 0.2911 - categorical_accuracy: 0.9174\n",
      "Epoch 5/50\n",
      "60000/60000 [==============================] - 6s 103us/step - loss: 0.2860 - categorical_accuracy: 0.9191\n",
      "Epoch 6/50\n",
      "60000/60000 [==============================] - 9s 149us/step - loss: 0.2842 - categorical_accuracy: 0.9196\n",
      "Epoch 7/50\n",
      "60000/60000 [==============================] - 8s 128us/step - loss: 0.2789 - categorical_accuracy: 0.9223\n",
      "Epoch 8/50\n",
      "60000/60000 [==============================] - 8s 137us/step - loss: 0.2768 - categorical_accuracy: 0.9219\n",
      "Epoch 9/50\n",
      "60000/60000 [==============================] - 9s 147us/step - loss: 0.2733 - categorical_accuracy: 0.9233\n",
      "Epoch 10/50\n",
      "60000/60000 [==============================] - 7s 119us/step - loss: 0.2725 - categorical_accuracy: 0.9226\n",
      "Epoch 11/50\n",
      "60000/60000 [==============================] - 8s 132us/step - loss: 0.2711 - categorical_accuracy: 0.9230\n",
      "Epoch 12/50\n",
      "60000/60000 [==============================] - 9s 147us/step - loss: 0.2702 - categorical_accuracy: 0.9240\n",
      "Epoch 13/50\n",
      "60000/60000 [==============================] - 7s 120us/step - loss: 0.2687 - categorical_accuracy: 0.9241\n",
      "Epoch 14/50\n",
      "60000/60000 [==============================] - 8s 132us/step - loss: 0.2682 - categorical_accuracy: 0.9242\n",
      "Epoch 15/50\n",
      "60000/60000 [==============================] - 5s 77us/step - loss: 0.2663 - categorical_accuracy: 0.9252\n",
      "Epoch 16/50\n",
      "60000/60000 [==============================] - 8s 140us/step - loss: 0.2656 - categorical_accuracy: 0.9252\n",
      "Epoch 17/50\n",
      "60000/60000 [==============================] - 7s 110us/step - loss: 0.2646 - categorical_accuracy: 0.9251\n",
      "Epoch 18/50\n",
      "60000/60000 [==============================] - 6s 106us/step - loss: 0.2627 - categorical_accuracy: 0.9263\n",
      "Epoch 19/50\n",
      "60000/60000 [==============================] - 6s 98us/step - loss: 0.2611 - categorical_accuracy: 0.9269\n",
      "Epoch 20/50\n",
      "60000/60000 [==============================] - 6s 98us/step - loss: 0.2613 - categorical_accuracy: 0.9260\n",
      "Epoch 21/50\n",
      "60000/60000 [==============================] - 5s 89us/step - loss: 0.2605 - categorical_accuracy: 0.9272\n",
      "Epoch 22/50\n",
      "60000/60000 [==============================] - 8s 137us/step - loss: 0.2596 - categorical_accuracy: 0.9260\n",
      "Epoch 23/50\n",
      "60000/60000 [==============================] - 10s 167us/step - loss: 0.2589 - categorical_accuracy: 0.9264\n",
      "Epoch 24/50\n",
      "60000/60000 [==============================] - 10s 162us/step - loss: 0.2581 - categorical_accuracy: 0.9267\n",
      "Epoch 25/50\n",
      "60000/60000 [==============================] - 9s 155us/step - loss: 0.2575 - categorical_accuracy: 0.9272\n",
      "Epoch 26/50\n",
      "60000/60000 [==============================] - 9s 156us/step - loss: 0.2572 - categorical_accuracy: 0.9260\n",
      "Epoch 27/50\n",
      "60000/60000 [==============================] - 10s 159us/step - loss: 0.2555 - categorical_accuracy: 0.9284\n",
      "Epoch 28/50\n",
      "60000/60000 [==============================] - 9s 154us/step - loss: 0.2560 - categorical_accuracy: 0.9270\n",
      "Epoch 29/50\n",
      "60000/60000 [==============================] - 7s 121us/step - loss: 0.2552 - categorical_accuracy: 0.9270\n",
      "Epoch 30/50\n",
      "60000/60000 [==============================] - 10s 159us/step - loss: 0.2550 - categorical_accuracy: 0.9274\n",
      "Epoch 31/50\n",
      "60000/60000 [==============================] - 10s 174us/step - loss: 0.2541 - categorical_accuracy: 0.9266\n",
      "Epoch 32/50\n",
      "60000/60000 [==============================] - 9s 151us/step - loss: 0.2546 - categorical_accuracy: 0.9265\n",
      "Epoch 33/50\n",
      "60000/60000 [==============================] - 9s 147us/step - loss: 0.2525 - categorical_accuracy: 0.9288\n",
      "Epoch 34/50\n",
      "60000/60000 [==============================] - 7s 123us/step - loss: 0.2521 - categorical_accuracy: 0.9283\n",
      "Epoch 35/50\n",
      "60000/60000 [==============================] - 10s 163us/step - loss: 0.2527 - categorical_accuracy: 0.9275\n",
      "Epoch 36/50\n",
      "60000/60000 [==============================] - 9s 150us/step - loss: 0.2517 - categorical_accuracy: 0.9274\n",
      "Epoch 37/50\n",
      "60000/60000 [==============================] - 8s 140us/step - loss: 0.2512 - categorical_accuracy: 0.9276\n",
      "Epoch 38/50\n",
      "60000/60000 [==============================] - 6s 96us/step - loss: 0.2515 - categorical_accuracy: 0.9287\n",
      "Epoch 39/50\n",
      "60000/60000 [==============================] - 8s 141us/step - loss: 0.2509 - categorical_accuracy: 0.9284\n",
      "Epoch 40/50\n",
      "60000/60000 [==============================] - 9s 144us/step - loss: 0.2506 - categorical_accuracy: 0.9284\n",
      "Epoch 41/50\n",
      "60000/60000 [==============================] - 10s 164us/step - loss: 0.2500 - categorical_accuracy: 0.9283\n",
      "Epoch 42/50\n",
      "60000/60000 [==============================] - 10s 173us/step - loss: 0.2510 - categorical_accuracy: 0.9284\n",
      "Epoch 43/50\n",
      "60000/60000 [==============================] - 10s 174us/step - loss: 0.2490 - categorical_accuracy: 0.9281\n",
      "Epoch 44/50\n",
      "60000/60000 [==============================] - 9s 154us/step - loss: 0.2492 - categorical_accuracy: 0.9279\n",
      "Epoch 45/50\n",
      "60000/60000 [==============================] - 9s 158us/step - loss: 0.2491 - categorical_accuracy: 0.9289\n",
      "Epoch 46/50\n",
      "60000/60000 [==============================] - 10s 167us/step - loss: 0.2473 - categorical_accuracy: 0.9286\n",
      "Epoch 47/50\n",
      "60000/60000 [==============================] - 12s 196us/step - loss: 0.2479 - categorical_accuracy: 0.9291\n",
      "Epoch 48/50\n",
      "60000/60000 [==============================] - 9s 153us/step - loss: 0.2479 - categorical_accuracy: 0.9287\n",
      "Epoch 49/50\n",
      "60000/60000 [==============================] - 10s 160us/step - loss: 0.2472 - categorical_accuracy: 0.9288\n",
      "Epoch 50/50\n",
      "60000/60000 [==============================] - 11s 183us/step - loss: 0.2469 - categorical_accuracy: 0.9285\n",
      "10000/10000 [==============================] - 1s 50us/step\n",
      "[0.2821687027486041, 0.9220999989509583]\n"
     ]
    }
   ],
   "source": [
    "net_3 = NeuralNetwork(dim_x*dim_y ,[10], [sig_func])# 92,85% - treino / 92,2% - teste\n",
    "data_3 = net_3.fit(dataset, \"mini-batch\", 50, lr_ = 0.5, type = \"class\", mini_batch_size = 60, \n",
    "                   tvt_ratio = [len(norm_input_train), 0, len(norm_input_test)], momentum_ = 0.3, print_info = True, \n",
    "                   loss_ = \"categorical_crossentropy\")"
   ]
  },
  {
   "cell_type": "code",
   "execution_count": 11,
   "metadata": {
    "collapsed": true
   },
   "outputs": [
    {
     "data": {
      "image/png": "[encoded data removed]",
      "text/plain": [
       "<matplotlib.figure.Figure at 0x7f76affc54a8>"
      ]
     },
     "metadata": {},
     "output_type": "display_data"
    }
   ],
   "source": [
    "plot_graph(data_3, \"Numbers\", \"Epoch\", \"Error\", figsizex = 16, figsizey = 8)"
   ]
  },
  {
   "cell_type": "markdown",
   "metadata": {},
   "source": [
    "#### Apenas testes"
   ]
  },
  {
   "cell_type": "code",
   "execution_count": 21,
   "metadata": {
    "collapsed": true
   },
   "outputs": [
    {
     "name": "stdout",
     "output_type": "stream",
     "text": [
      "Epoch 1/50\n",
      "60000/60000 [==============================] - 8s 126us/step - loss: 0.3634 - categorical_accuracy: 0.8979\n",
      "Epoch 2/50\n",
      "60000/60000 [==============================] - 8s 127us/step - loss: 0.3106 - categorical_accuracy: 0.9149\n",
      "Epoch 3/50\n",
      "60000/60000 [==============================] - 8s 132us/step - loss: 0.2976 - categorical_accuracy: 0.9185\n",
      "Epoch 4/50\n",
      "60000/60000 [==============================] - 8s 140us/step - loss: 0.2950 - categorical_accuracy: 0.9202\n",
      "Epoch 5/50\n",
      "60000/60000 [==============================] - 9s 148us/step - loss: 0.2916 - categorical_accuracy: 0.9214\n",
      "Epoch 6/50\n",
      "60000/60000 [==============================] - 8s 141us/step - loss: 0.2884 - categorical_accuracy: 0.9205\n",
      "Epoch 7/50\n",
      "60000/60000 [==============================] - 9s 151us/step - loss: 0.2836 - categorical_accuracy: 0.9211\n",
      "Epoch 8/50\n",
      "60000/60000 [==============================] - 9s 156us/step - loss: 0.2794 - categorical_accuracy: 0.9230\n",
      "Epoch 9/50\n",
      "60000/60000 [==============================] - 8s 127us/step - loss: 0.2793 - categorical_accuracy: 0.9223\n",
      "Epoch 10/50\n",
      "60000/60000 [==============================] - 8s 126us/step - loss: 0.2824 - categorical_accuracy: 0.9220\n",
      "Epoch 11/50\n",
      "60000/60000 [==============================] - 9s 151us/step - loss: 0.2747 - categorical_accuracy: 0.9233\n",
      "Epoch 12/50\n",
      "60000/60000 [==============================] - 10s 164us/step - loss: 0.2719 - categorical_accuracy: 0.9245\n",
      "Epoch 13/50\n",
      "60000/60000 [==============================] - 9s 153us/step - loss: 0.2747 - categorical_accuracy: 0.9231\n",
      "Epoch 14/50\n",
      "60000/60000 [==============================] - 11s 175us/step - loss: 0.2712 - categorical_accuracy: 0.9243\n",
      "Epoch 15/50\n",
      "60000/60000 [==============================] - 10s 167us/step - loss: 0.2714 - categorical_accuracy: 0.9243\n",
      "Epoch 16/50\n",
      "60000/60000 [==============================] - 9s 157us/step - loss: 0.2706 - categorical_accuracy: 0.9242\n",
      "Epoch 17/50\n",
      "60000/60000 [==============================] - 10s 163us/step - loss: 0.2676 - categorical_accuracy: 0.9261\n",
      "Epoch 18/50\n",
      "60000/60000 [==============================] - 9s 156us/step - loss: 0.2699 - categorical_accuracy: 0.9233\n",
      "Epoch 19/50\n",
      "60000/60000 [==============================] - 10s 166us/step - loss: 0.2640 - categorical_accuracy: 0.9260\n",
      "Epoch 20/50\n",
      "60000/60000 [==============================] - 10s 164us/step - loss: 0.2661 - categorical_accuracy: 0.9248\n",
      "Epoch 21/50\n",
      "60000/60000 [==============================] - 11s 181us/step - loss: 0.2641 - categorical_accuracy: 0.9249\n",
      "Epoch 22/50\n",
      "60000/60000 [==============================] - 11s 182us/step - loss: 0.2658 - categorical_accuracy: 0.9251\n",
      "Epoch 23/50\n",
      "60000/60000 [==============================] - 9s 158us/step - loss: 0.2660 - categorical_accuracy: 0.9251\n",
      "Epoch 24/50\n",
      "60000/60000 [==============================] - 8s 137us/step - loss: 0.2612 - categorical_accuracy: 0.9268\n",
      "Epoch 25/50\n",
      "60000/60000 [==============================] - 9s 153us/step - loss: 0.2634 - categorical_accuracy: 0.9254\n",
      "Epoch 26/50\n",
      "60000/60000 [==============================] - 10s 171us/step - loss: 0.2613 - categorical_accuracy: 0.9261\n",
      "Epoch 27/50\n",
      "60000/60000 [==============================] - 9s 143us/step - loss: 0.2654 - categorical_accuracy: 0.9255\n",
      "Epoch 28/50\n",
      "60000/60000 [==============================] - 11s 179us/step - loss: 0.2632 - categorical_accuracy: 0.9242\n",
      "Epoch 29/50\n",
      "60000/60000 [==============================] - 9s 157us/step - loss: 0.2594 - categorical_accuracy: 0.9264\n",
      "Epoch 30/50\n",
      "60000/60000 [==============================] - 12s 199us/step - loss: 0.2603 - categorical_accuracy: 0.9253\n",
      "Epoch 31/50\n",
      "60000/60000 [==============================] - 8s 126us/step - loss: 0.2607 - categorical_accuracy: 0.9256\n",
      "Epoch 32/50\n",
      "60000/60000 [==============================] - 13s 209us/step - loss: 0.2586 - categorical_accuracy: 0.9258\n",
      "Epoch 33/50\n",
      "60000/60000 [==============================] - 11s 178us/step - loss: 0.2576 - categorical_accuracy: 0.9257\n",
      "Epoch 34/50\n",
      "60000/60000 [==============================] - 7s 123us/step - loss: 0.2578 - categorical_accuracy: 0.9262\n",
      "Epoch 35/50\n",
      "60000/60000 [==============================] - 9s 157us/step - loss: 0.2601 - categorical_accuracy: 0.9248\n",
      "Epoch 36/50\n",
      "60000/60000 [==============================] - 11s 187us/step - loss: 0.2582 - categorical_accuracy: 0.9266\n",
      "Epoch 37/50\n",
      "60000/60000 [==============================] - 7s 121us/step - loss: 0.2597 - categorical_accuracy: 0.9253\n",
      "Epoch 38/50\n",
      "60000/60000 [==============================] - 11s 187us/step - loss: 0.2577 - categorical_accuracy: 0.9254\n",
      "Epoch 39/50\n",
      "60000/60000 [==============================] - 14s 239us/step - loss: 0.2566 - categorical_accuracy: 0.9270\n",
      "Epoch 40/50\n",
      "60000/60000 [==============================] - 11s 182us/step - loss: 0.2563 - categorical_accuracy: 0.9270\n",
      "Epoch 41/50\n",
      "60000/60000 [==============================] - 12s 203us/step - loss: 0.2586 - categorical_accuracy: 0.9256\n",
      "Epoch 42/50\n",
      "60000/60000 [==============================] - 12s 194us/step - loss: 0.2571 - categorical_accuracy: 0.9259\n",
      "Epoch 43/50\n",
      "60000/60000 [==============================] - 9s 142us/step - loss: 0.2579 - categorical_accuracy: 0.9257\n",
      "Epoch 44/50\n",
      "60000/60000 [==============================] - 12s 199us/step - loss: 0.2549 - categorical_accuracy: 0.9267\n",
      "Epoch 45/50\n",
      "60000/60000 [==============================] - 12s 196us/step - loss: 0.2543 - categorical_accuracy: 0.9268\n",
      "Epoch 46/50\n",
      "60000/60000 [==============================] - 11s 190us/step - loss: 0.2558 - categorical_accuracy: 0.9261\n",
      "Epoch 47/50\n",
      "60000/60000 [==============================] - 12s 202us/step - loss: 0.2554 - categorical_accuracy: 0.9261\n",
      "Epoch 48/50\n",
      "60000/60000 [==============================] - 10s 159us/step - loss: 0.2547 - categorical_accuracy: 0.9260\n",
      "Epoch 49/50\n",
      "60000/60000 [==============================] - 12s 193us/step - loss: 0.2560 - categorical_accuracy: 0.9260\n",
      "Epoch 50/50\n",
      "60000/60000 [==============================] - 11s 180us/step - loss: 0.2540 - categorical_accuracy: 0.9270\n",
      "10000/10000 [==============================] - 1s 129us/step\n",
      "[0.37211414417997, 0.914299998998642]\n"
     ]
    }
   ],
   "source": [
    "net_ca = NeuralNetwork(dim_x*dim_y ,[10], [sig_func])# 92,7% - treino / 91,43% - teste\n",
    "data_ca = net_ca.fit(dataset, \"mini-batch\", 50, lr_ = 0.01, type = \"class\", mini_batch_size = 60, \n",
    "                   tvt_ratio = [len(norm_input_train), 0, len(norm_input_test)], momentum_ = 0.0, print_info = True, \n",
    "                   loss_ = \"categorical_crossentropy\", opt = \"adam\")"
   ]
  },
  {
   "cell_type": "code",
   "execution_count": 24,
   "metadata": {
    "collapsed": true
   },
   "outputs": [
    {
     "name": "stdout",
     "output_type": "stream",
     "text": [
      "Epoch 1/50\n",
      "60000/60000 [==============================] - 10s 174us/step - loss: 1.6223 - categorical_accuracy: 0.7759\n",
      "Epoch 2/50\n",
      "60000/60000 [==============================] - 10s 164us/step - loss: 1.4822 - categorical_accuracy: 0.7873\n",
      "Epoch 3/50\n",
      "60000/60000 [==============================] - 11s 179us/step - loss: 1.4534 - categorical_accuracy: 0.7883\n",
      "Epoch 4/50\n",
      "60000/60000 [==============================] - 10s 174us/step - loss: 1.4459 - categorical_accuracy: 0.7859\n",
      "Epoch 5/50\n",
      "60000/60000 [==============================] - 10s 166us/step - loss: 1.4396 - categorical_accuracy: 0.7874\n",
      "Epoch 6/50\n",
      "60000/60000 [==============================] - 10s 169us/step - loss: 1.4372 - categorical_accuracy: 0.7869\n",
      "Epoch 7/50\n",
      "60000/60000 [==============================] - 11s 183us/step - loss: 1.4337 - categorical_accuracy: 0.7890\n",
      "Epoch 8/50\n",
      "60000/60000 [==============================] - 10s 174us/step - loss: 1.4324 - categorical_accuracy: 0.7877\n",
      "Epoch 9/50\n",
      "60000/60000 [==============================] - 11s 176us/step - loss: 1.4337 - categorical_accuracy: 0.7860\n",
      "Epoch 10/50\n",
      "60000/60000 [==============================] - 10s 173us/step - loss: 1.4291 - categorical_accuracy: 0.7903\n",
      "Epoch 11/50\n",
      "60000/60000 [==============================] - 10s 174us/step - loss: 1.4334 - categorical_accuracy: 0.7839\n",
      "Epoch 12/50\n",
      "60000/60000 [==============================] - 11s 187us/step - loss: 1.4286 - categorical_accuracy: 0.7894\n",
      "Epoch 13/50\n",
      "60000/60000 [==============================] - 11s 183us/step - loss: 1.4302 - categorical_accuracy: 0.7892\n",
      "Epoch 14/50\n",
      "60000/60000 [==============================] - 10s 173us/step - loss: 1.4298 - categorical_accuracy: 0.7869\n",
      "Epoch 15/50\n",
      "60000/60000 [==============================] - 10s 159us/step - loss: 1.4316 - categorical_accuracy: 0.7861\n",
      "Epoch 16/50\n",
      "60000/60000 [==============================] - 10s 160us/step - loss: 1.4309 - categorical_accuracy: 0.7853\n",
      "Epoch 17/50\n",
      "60000/60000 [==============================] - 13s 224us/step - loss: 1.4282 - categorical_accuracy: 0.7878\n",
      "Epoch 18/50\n",
      "60000/60000 [==============================] - 12s 193us/step - loss: 1.4271 - categorical_accuracy: 0.7920\n",
      "Epoch 19/50\n",
      "60000/60000 [==============================] - 12s 202us/step - loss: 1.4289 - categorical_accuracy: 0.7890\n",
      "Epoch 20/50\n",
      "60000/60000 [==============================] - 10s 174us/step - loss: 1.4304 - categorical_accuracy: 0.7866\n",
      "Epoch 21/50\n",
      "60000/60000 [==============================] - 9s 155us/step - loss: 1.4284 - categorical_accuracy: 0.7880\n",
      "Epoch 22/50\n",
      "60000/60000 [==============================] - 8s 135us/step - loss: 1.4283 - categorical_accuracy: 0.7907\n",
      "Epoch 23/50\n",
      "60000/60000 [==============================] - 8s 133us/step - loss: 1.4318 - categorical_accuracy: 0.7826\n",
      "Epoch 24/50\n",
      "60000/60000 [==============================] - 8s 138us/step - loss: 1.4251 - categorical_accuracy: 0.7894\n",
      "Epoch 25/50\n",
      "60000/60000 [==============================] - 8s 130us/step - loss: 1.4307 - categorical_accuracy: 0.7857\n",
      "Epoch 26/50\n",
      "60000/60000 [==============================] - 8s 130us/step - loss: 1.4315 - categorical_accuracy: 0.7859\n",
      "Epoch 27/50\n",
      "60000/60000 [==============================] - 8s 138us/step - loss: 1.4305 - categorical_accuracy: 0.7841\n",
      "Epoch 28/50\n",
      "60000/60000 [==============================] - 8s 138us/step - loss: 1.4258 - categorical_accuracy: 0.7872\n",
      "Epoch 29/50\n",
      "60000/60000 [==============================] - 8s 126us/step - loss: 1.4248 - categorical_accuracy: 0.7883\n",
      "Epoch 30/50\n",
      "60000/60000 [==============================] - 7s 124us/step - loss: 1.4267 - categorical_accuracy: 0.7880\n",
      "Epoch 31/50\n",
      "60000/60000 [==============================] - 8s 127us/step - loss: 1.4279 - categorical_accuracy: 0.7863\n",
      "Epoch 32/50\n",
      "60000/60000 [==============================] - 9s 144us/step - loss: 1.4270 - categorical_accuracy: 0.7893\n",
      "Epoch 33/50\n",
      "60000/60000 [==============================] - 8s 135us/step - loss: 1.4277 - categorical_accuracy: 0.7876\n",
      "Epoch 34/50\n",
      "60000/60000 [==============================] - 9s 148us/step - loss: 1.4263 - categorical_accuracy: 0.7894\n",
      "Epoch 35/50\n",
      "60000/60000 [==============================] - 7s 121us/step - loss: 1.4289 - categorical_accuracy: 0.7871\n",
      "Epoch 36/50\n",
      "60000/60000 [==============================] - 8s 125us/step - loss: 1.4275 - categorical_accuracy: 0.7868\n",
      "Epoch 37/50\n",
      "60000/60000 [==============================] - 8s 141us/step - loss: 1.4255 - categorical_accuracy: 0.7901\n",
      "Epoch 38/50\n",
      "60000/60000 [==============================] - 8s 135us/step - loss: 1.4270 - categorical_accuracy: 0.7876\n",
      "Epoch 39/50\n",
      "60000/60000 [==============================] - 7s 122us/step - loss: 1.4263 - categorical_accuracy: 0.7896\n",
      "Epoch 40/50\n",
      "60000/60000 [==============================] - 8s 135us/step - loss: 1.4275 - categorical_accuracy: 0.7862\n",
      "Epoch 41/50\n",
      "60000/60000 [==============================] - 8s 131us/step - loss: 1.4266 - categorical_accuracy: 0.7898\n",
      "Epoch 42/50\n",
      "60000/60000 [==============================] - 8s 136us/step - loss: 1.4305 - categorical_accuracy: 0.7846\n",
      "Epoch 43/50\n",
      "60000/60000 [==============================] - 8s 130us/step - loss: 1.4288 - categorical_accuracy: 0.7858\n",
      "Epoch 44/50\n",
      "60000/60000 [==============================] - 8s 137us/step - loss: 1.4271 - categorical_accuracy: 0.7872\n",
      "Epoch 45/50\n",
      "60000/60000 [==============================] - 8s 142us/step - loss: 1.4261 - categorical_accuracy: 0.7892\n",
      "Epoch 46/50\n",
      "60000/60000 [==============================] - 8s 129us/step - loss: 1.4265 - categorical_accuracy: 0.7880\n",
      "Epoch 47/50\n",
      "60000/60000 [==============================] - 8s 136us/step - loss: 1.4239 - categorical_accuracy: 0.7899\n",
      "Epoch 48/50\n",
      "60000/60000 [==============================] - 7s 119us/step - loss: 1.4240 - categorical_accuracy: 0.7919\n",
      "Epoch 49/50\n",
      "60000/60000 [==============================] - 8s 138us/step - loss: 1.4258 - categorical_accuracy: 0.7904\n",
      "Epoch 50/50\n",
      "60000/60000 [==============================] - 8s 131us/step - loss: 1.4294 - categorical_accuracy: 0.7871\n",
      "10000/10000 [==============================] - 1s 52us/step\n",
      "[1.3951284816265106, 0.8105999991893769]\n"
     ]
    }
   ],
   "source": [
    "net_cu = NeuralNetwork(dim_x*dim_y ,[10], [sig_func], \"l2\", 0.1)# 92,63% - treino / 92,30% - teste\n",
    "data_cu = net_cu.fit(dataset, \"mini-batch\", 50, lr_ = 0.01, type = \"class\", mini_batch_size = 60, \n",
    "                   tvt_ratio = [len(norm_input_train), 0, len(norm_input_test)], momentum_ = 0.0, print_info = True, \n",
    "                   loss_ = \"categorical_crossentropy\", opt = \"adam\")"
   ]
  },
  {
   "cell_type": "markdown",
   "metadata": {},
   "source": [
    "#### 3 - Rede Neural 7"
   ]
  },
  {
   "cell_type": "code",
   "execution_count": 26,
   "metadata": {
    "collapsed": true
   },
   "outputs": [
    {
     "name": "stdout",
     "output_type": "stream",
     "text": [
      "Epoch 1/35\n",
      "60000/60000 [==============================] - 8s 139us/step - loss: 0.3801 - categorical_accuracy: 0.9017\n",
      "Epoch 2/35\n",
      "60000/60000 [==============================] - 8s 130us/step - loss: 0.1887 - categorical_accuracy: 0.9465\n",
      "Epoch 3/35\n",
      "60000/60000 [==============================] - 8s 125us/step - loss: 0.1468 - categorical_accuracy: 0.9585\n",
      "Epoch 4/35\n",
      "60000/60000 [==============================] - 8s 134us/step - loss: 0.1216 - categorical_accuracy: 0.9647\n",
      "Epoch 5/35\n",
      "60000/60000 [==============================] - 8s 137us/step - loss: 0.1051 - categorical_accuracy: 0.9704\n",
      "Epoch 6/35\n",
      "60000/60000 [==============================] - 8s 131us/step - loss: 0.0925 - categorical_accuracy: 0.9736\n",
      "Epoch 7/35\n",
      "60000/60000 [==============================] - 9s 143us/step - loss: 0.0832 - categorical_accuracy: 0.9761\n",
      "Epoch 8/35\n",
      "60000/60000 [==============================] - 9s 148us/step - loss: 0.0753 - categorical_accuracy: 0.9787\n",
      "Epoch 9/35\n",
      "60000/60000 [==============================] - 9s 146us/step - loss: 0.0688 - categorical_accuracy: 0.9803\n",
      "Epoch 10/35\n",
      "60000/60000 [==============================] - 8s 135us/step - loss: 0.0629 - categorical_accuracy: 0.9827\n",
      "Epoch 11/35\n",
      "60000/60000 [==============================] - 9s 155us/step - loss: 0.0576 - categorical_accuracy: 0.9840\n",
      "Epoch 12/35\n",
      "60000/60000 [==============================] - 9s 146us/step - loss: 0.0535 - categorical_accuracy: 0.9850\n",
      "Epoch 13/35\n",
      "60000/60000 [==============================] - 9s 158us/step - loss: 0.0496 - categorical_accuracy: 0.9868\n",
      "Epoch 14/35\n",
      "60000/60000 [==============================] - 9s 149us/step - loss: 0.0455 - categorical_accuracy: 0.9881\n",
      "Epoch 15/35\n",
      "60000/60000 [==============================] - 9s 146us/step - loss: 0.0424 - categorical_accuracy: 0.9890\n",
      "Epoch 16/35\n",
      "60000/60000 [==============================] - 10s 172us/step - loss: 0.0393 - categorical_accuracy: 0.9898\n",
      "Epoch 17/35\n",
      "60000/60000 [==============================] - 9s 155us/step - loss: 0.0367 - categorical_accuracy: 0.9906\n",
      "Epoch 18/35\n",
      "60000/60000 [==============================] - 9s 152us/step - loss: 0.0343 - categorical_accuracy: 0.9916\n",
      "Epoch 19/35\n",
      "60000/60000 [==============================] - 9s 154us/step - loss: 0.0318 - categorical_accuracy: 0.9924\n",
      "Epoch 20/35\n",
      "60000/60000 [==============================] - 8s 127us/step - loss: 0.0298 - categorical_accuracy: 0.9928\n",
      "Epoch 21/35\n",
      "60000/60000 [==============================] - 10s 166us/step - loss: 0.0281 - categorical_accuracy: 0.9935\n",
      "Epoch 22/35\n",
      "60000/60000 [==============================] - 10s 161us/step - loss: 0.0260 - categorical_accuracy: 0.9945\n",
      "Epoch 23/35\n",
      "60000/60000 [==============================] - 10s 169us/step - loss: 0.0248 - categorical_accuracy: 0.9946\n",
      "Epoch 24/35\n",
      "60000/60000 [==============================] - 8s 136us/step - loss: 0.0229 - categorical_accuracy: 0.9953\n",
      "Epoch 25/35\n",
      "60000/60000 [==============================] - 10s 171us/step - loss: 0.0211 - categorical_accuracy: 0.9960\n",
      "Epoch 26/35\n",
      "60000/60000 [==============================] - 9s 152us/step - loss: 0.0202 - categorical_accuracy: 0.9961\n",
      "Epoch 27/35\n",
      "60000/60000 [==============================] - 10s 162us/step - loss: 0.0190 - categorical_accuracy: 0.9963\n",
      "Epoch 28/35\n",
      "60000/60000 [==============================] - 9s 155us/step - loss: 0.0172 - categorical_accuracy: 0.9969\n",
      "Epoch 29/35\n",
      "60000/60000 [==============================] - 10s 170us/step - loss: 0.0164 - categorical_accuracy: 0.9973\n",
      "Epoch 30/35\n",
      "60000/60000 [==============================] - 10s 170us/step - loss: 0.0152 - categorical_accuracy: 0.9973\n",
      "Epoch 31/35\n",
      "60000/60000 [==============================] - 10s 174us/step - loss: 0.0144 - categorical_accuracy: 0.9975\n",
      "Epoch 32/35\n",
      "60000/60000 [==============================] - 9s 156us/step - loss: 0.0135 - categorical_accuracy: 0.9979\n",
      "Epoch 33/35\n",
      "60000/60000 [==============================] - 10s 161us/step - loss: 0.0124 - categorical_accuracy: 0.9982\n",
      "Epoch 34/35\n",
      "60000/60000 [==============================] - 9s 156us/step - loss: 0.0118 - categorical_accuracy: 0.9983\n",
      "Epoch 35/35\n",
      "60000/60000 [==============================] - 11s 177us/step - loss: 0.0108 - categorical_accuracy: 0.9987\n",
      "10000/10000 [==============================] - 1s 80us/step\n",
      "[0.1093390559800173, 0.9715000030398369]\n"
     ]
    }
   ],
   "source": [
    "net_7 = NeuralNetwork(dim_x*dim_y ,[50, 10], 2*[sig_func]) # 99.87% - treino / 97.15% - teste\n",
    "data_7 = net_7.fit(dataset, \"mini-batch\", 35, lr_ = 0.01, type = \"class\", mini_batch_size = 75, \n",
    "                   tvt_ratio = [len(norm_input_train), 0, len(norm_input_test)], momentum_ = 0.0, print_info = True,\n",
    "                   loss_ = \"categorical_crossentropy\", opt = \"adamax\")"
   ]
  },
  {
   "cell_type": "code",
   "execution_count": 27,
   "metadata": {
    "collapsed": true
   },
   "outputs": [
    {
     "data": {
      "image/png": "[encoded data removed]",
      "text/plain": [
       "<matplotlib.figure.Figure at 0x7f76accb1dd8>"
      ]
     },
     "metadata": {},
     "output_type": "display_data"
    }
   ],
   "source": [
    "plot_graph(data_7, \"Numbers\", \"Epoch\", \"Error\", figsizex = 16, figsizey = 8)"
   ]
  },
  {
   "cell_type": "markdown",
   "metadata": {},
   "source": [
    "#### 4 - Rede Neural 9"
   ]
  },
  {
   "cell_type": "code",
   "execution_count": 31,
   "metadata": {
    "collapsed": true
   },
   "outputs": [
    {
     "name": "stdout",
     "output_type": "stream",
     "text": [
      "Epoch 1/40\n",
      "60000/60000 [==============================] - 10s 170us/step - loss: 0.5725 - categorical_accuracy: 0.8634\n",
      "Epoch 2/40\n",
      "60000/60000 [==============================] - 10s 168us/step - loss: 0.2196 - categorical_accuracy: 0.9380\n",
      "Epoch 3/40\n",
      "60000/60000 [==============================] - 9s 148us/step - loss: 0.1673 - categorical_accuracy: 0.9523\n",
      "Epoch 4/40\n",
      "60000/60000 [==============================] - 10s 172us/step - loss: 0.1388 - categorical_accuracy: 0.9601\n",
      "Epoch 5/40\n",
      "60000/60000 [==============================] - 7s 113us/step - loss: 0.1226 - categorical_accuracy: 0.9645\n",
      "Epoch 6/40\n",
      "60000/60000 [==============================] - 6s 105us/step - loss: 0.1091 - categorical_accuracy: 0.9688\n",
      "Epoch 7/40\n",
      "60000/60000 [==============================] - 6s 94us/step - loss: 0.1003 - categorical_accuracy: 0.9709\n",
      "Epoch 8/40\n",
      "60000/60000 [==============================] - 6s 94us/step - loss: 0.0913 - categorical_accuracy: 0.9734\n",
      "Epoch 9/40\n",
      "60000/60000 [==============================] - 7s 113us/step - loss: 0.0857 - categorical_accuracy: 0.9752\n",
      "Epoch 10/40\n",
      "60000/60000 [==============================] - 6s 106us/step - loss: 0.0791 - categorical_accuracy: 0.9774\n",
      "Epoch 11/40\n",
      "60000/60000 [==============================] - 6s 108us/step - loss: 0.0740 - categorical_accuracy: 0.9786\n",
      "Epoch 12/40\n",
      "60000/60000 [==============================] - 6s 102us/step - loss: 0.0696 - categorical_accuracy: 0.9799\n",
      "Epoch 13/40\n",
      "60000/60000 [==============================] - 7s 115us/step - loss: 0.0661 - categorical_accuracy: 0.9812\n",
      "Epoch 14/40\n",
      "60000/60000 [==============================] - 7s 110us/step - loss: 0.0622 - categorical_accuracy: 0.9824\n",
      "Epoch 15/40\n",
      "60000/60000 [==============================] - 7s 114us/step - loss: 0.0591 - categorical_accuracy: 0.9832\n",
      "Epoch 16/40\n",
      "60000/60000 [==============================] - 12s 197us/step - loss: 0.0558 - categorical_accuracy: 0.9843\n",
      "Epoch 17/40\n",
      "60000/60000 [==============================] - 11s 179us/step - loss: 0.0530 - categorical_accuracy: 0.9851\n",
      "Epoch 18/40\n",
      "60000/60000 [==============================] - 10s 168us/step - loss: 0.0509 - categorical_accuracy: 0.9857\n",
      "Epoch 19/40\n",
      "60000/60000 [==============================] - 10s 171us/step - loss: 0.0483 - categorical_accuracy: 0.9865\n",
      "Epoch 20/40\n",
      "60000/60000 [==============================] - 12s 202us/step - loss: 0.0463 - categorical_accuracy: 0.9871\n",
      "Epoch 21/40\n",
      "60000/60000 [==============================] - 11s 190us/step - loss: 0.0439 - categorical_accuracy: 0.9879\n",
      "Epoch 22/40\n",
      "60000/60000 [==============================] - 11s 187us/step - loss: 0.0419 - categorical_accuracy: 0.9886\n",
      "Epoch 23/40\n",
      "60000/60000 [==============================] - 12s 201us/step - loss: 0.0402 - categorical_accuracy: 0.9895\n",
      "Epoch 24/40\n",
      "60000/60000 [==============================] - 11s 189us/step - loss: 0.0386 - categorical_accuracy: 0.9893\n",
      "Epoch 25/40\n",
      "60000/60000 [==============================] - 11s 185us/step - loss: 0.0370 - categorical_accuracy: 0.9897\n",
      "Epoch 26/40\n",
      "60000/60000 [==============================] - 11s 177us/step - loss: 0.0355 - categorical_accuracy: 0.9905\n",
      "Epoch 27/40\n",
      "60000/60000 [==============================] - 13s 212us/step - loss: 0.0339 - categorical_accuracy: 0.9908\n",
      "Epoch 28/40\n",
      "60000/60000 [==============================] - 11s 191us/step - loss: 0.0323 - categorical_accuracy: 0.9913\n",
      "Epoch 29/40\n",
      "60000/60000 [==============================] - 13s 215us/step - loss: 0.0305 - categorical_accuracy: 0.9918\n",
      "Epoch 30/40\n",
      "60000/60000 [==============================] - 11s 190us/step - loss: 0.0289 - categorical_accuracy: 0.9926\n",
      "Epoch 31/40\n",
      "60000/60000 [==============================] - 12s 203us/step - loss: 0.0285 - categorical_accuracy: 0.9924\n",
      "Epoch 32/40\n",
      "60000/60000 [==============================] - 14s 226us/step - loss: 0.0269 - categorical_accuracy: 0.9929\n",
      "Epoch 33/40\n",
      "60000/60000 [==============================] - 12s 205us/step - loss: 0.0257 - categorical_accuracy: 0.9929\n",
      "Epoch 34/40\n",
      "60000/60000 [==============================] - 13s 217us/step - loss: 0.0243 - categorical_accuracy: 0.9936\n",
      "Epoch 35/40\n",
      "60000/60000 [==============================] - 14s 230us/step - loss: 0.0239 - categorical_accuracy: 0.9940\n",
      "Epoch 36/40\n",
      "60000/60000 [==============================] - 14s 229us/step - loss: 0.0227 - categorical_accuracy: 0.9942\n",
      "Epoch 37/40\n",
      "60000/60000 [==============================] - 13s 218us/step - loss: 0.0213 - categorical_accuracy: 0.9948\n",
      "Epoch 38/40\n",
      "60000/60000 [==============================] - 12s 196us/step - loss: 0.0207 - categorical_accuracy: 0.9950\n",
      "Epoch 39/40\n",
      "60000/60000 [==============================] - 13s 211us/step - loss: 0.0192 - categorical_accuracy: 0.9956\n",
      "Epoch 40/40\n",
      "60000/60000 [==============================] - 12s 207us/step - loss: 0.0192 - categorical_accuracy: 0.9953\n",
      "10000/10000 [==============================] - 1s 84us/step\n",
      "[0.1624200159085158, 0.9637999958992004]\n"
     ]
    }
   ],
   "source": [
    "net_9 = NeuralNetwork(dim_x*dim_y ,[30, 20, 10], 3*[sig_func]) # 99.53% - treino / 96.37% - teste\n",
    "data_9 = net_9.fit(dataset, \"mini-batch\", 40, lr_ = 0.01, type = \"class\", mini_batch_size = 60, \n",
    "                   tvt_ratio = [len(norm_input_train), 0, len(norm_input_test)], momentum_ = 0.0, print_info = True,\n",
    "                   loss_ = \"categorical_crossentropy\", opt = \"adamax\")"
   ]
  },
  {
   "cell_type": "code",
   "execution_count": 32,
   "metadata": {
    "collapsed": true
   },
   "outputs": [
    {
     "data": {
      "image/png": "[encoded data removed]",
      "text/plain": [
       "<matplotlib.figure.Figure at 0x7f76abe2b4e0>"
      ]
     },
     "metadata": {},
     "output_type": "display_data"
    }
   ],
   "source": [
    "plot_graph(data_9, \"Numbers\", \"Epoch\", \"Error\", figsizex = 16, figsizey = 8)"
   ]
  }
 ],
 "metadata": {
  "kernelspec": {
   "display_name": "Python 3",
   "language": "python",
   "name": "python3"
  },
  "language_info": {
   "codemirror_mode": {
    "name": "ipython",
    "version": 3
   },
   "file_extension": ".py",
   "mimetype": "text/x-python",
   "name": "python",
   "nbconvert_exporter": "python",
   "pygments_lexer": "ipython3",
   "version": "3.6.4"
  }
 },
 "nbformat": 4,
 "nbformat_minor": 2
}
