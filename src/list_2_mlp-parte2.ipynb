{
 "cells": [
  {
   "cell_type": "code",
   "execution_count": 1,
   "metadata": {},
   "outputs": [
    {
     "name": "stderr",
     "output_type": "stream",
     "text": [
      "/home/xeds/.conda/envs/atividade1/lib/python3.6/site-packages/h5py/__init__.py:36: FutureWarning: Conversion of the second argument of issubdtype from `float` to `np.floating` is deprecated. In future, it will be treated as `np.float64 == np.dtype(float).type`.\n",
      "  from ._conv import register_converters as _register_converters\n",
      "Using TensorFlow backend.\n"
     ]
    }
   ],
   "source": [
    "import numpy as np\n",
    "from data import Instance, DataSet\n",
    "from miscellaneous import initialize_data, plot_graph, plot_points\n",
    "from neural_network import NeuralNetwork\n",
    "from activation_function import *\n",
    "import matplotlib.pyplot as plt\n",
    "from keras.datasets import mnist\n",
    "import copy"
   ]
  },
  {
   "cell_type": "markdown",
   "metadata": {},
   "source": [
    "### Leitura do conjunto de dados"
   ]
  },
  {
   "cell_type": "code",
   "execution_count": 2,
   "metadata": {},
   "outputs": [],
   "source": [
    "(x_train, y_train), (x_test, y_test) = mnist.load_data()"
   ]
  },
  {
   "cell_type": "markdown",
   "metadata": {},
   "source": [
    "### Descobrindo o número de instâncias e as dimensões de cada uma"
   ]
  },
  {
   "cell_type": "code",
   "execution_count": 3,
   "metadata": {},
   "outputs": [],
   "source": [
    "num_instances, dim_x, dim_y = x_train.shape\n",
    "num_instances += x_test.shape[0]"
   ]
  },
  {
   "cell_type": "markdown",
   "metadata": {},
   "source": [
    "### Normalizando"
   ]
  },
  {
   "cell_type": "code",
   "execution_count": 4,
   "metadata": {},
   "outputs": [],
   "source": [
    "#Treinamento\n",
    "norm_input_train = [np.divide(i.astype(np.float32),255).flatten() for i in x_train]\n",
    "\n",
    "output_train = []\n",
    "y = 10*[0.0]\n",
    "\n",
    "for n in y_train:\n",
    "    y[n] = 1.0\n",
    "    output_train.append(copy.deepcopy(y))\n",
    "    y[n] = 0.0"
   ]
  },
  {
   "cell_type": "code",
   "execution_count": 5,
   "metadata": {},
   "outputs": [],
   "source": [
    "#Teste\n",
    "norm_input_test = [np.divide(i.astype(np.float32),255).flatten() for i in x_test]\n",
    "\n",
    "output_test = []\n",
    "y = 10*[0.0]\n",
    "\n",
    "for n in y_test:\n",
    "    y[n] = 1.0\n",
    "    output_test.append(copy.deepcopy(y))\n",
    "    y[n] = 0.0"
   ]
  },
  {
   "cell_type": "markdown",
   "metadata": {},
   "source": [
    "### Organizando o dataset para ser passado no padrão aceito pela rede neural"
   ]
  },
  {
   "cell_type": "code",
   "execution_count": 6,
   "metadata": {},
   "outputs": [],
   "source": [
    "dataset = DataSet() \n",
    "\n",
    "for i,j in zip(norm_input_train + norm_input_test, output_train + output_test):\n",
    "    dataset.add(Instance(i,j))"
   ]
  },
  {
   "cell_type": "markdown",
   "metadata": {},
   "source": [
    "### Regularização"
   ]
  },
  {
   "cell_type": "markdown",
   "metadata": {},
   "source": [
    "#### 1 - Rede Neural 2"
   ]
  },
  {
   "cell_type": "code",
   "execution_count": 7,
   "metadata": {
    "collapsed": true
   },
   "outputs": [
    {
     "name": "stdout",
     "output_type": "stream",
     "text": [
      "Epoch 1/50\n",
      "60000/60000 [==============================] - 11s 176us/step - loss: 0.1012 - categorical_accuracy: 0.7877\n",
      "Epoch 2/50\n",
      "60000/60000 [==============================] - 9s 142us/step - loss: 0.0502 - categorical_accuracy: 0.8443\n",
      "Epoch 3/50\n",
      "60000/60000 [==============================] - 9s 157us/step - loss: 0.0495 - categorical_accuracy: 0.8456\n",
      "Epoch 4/50\n",
      "60000/60000 [==============================] - 7s 112us/step - loss: 0.0495 - categorical_accuracy: 0.8449\n",
      "Epoch 5/50\n",
      "60000/60000 [==============================] - 6s 102us/step - loss: 0.0495 - categorical_accuracy: 0.8445\n",
      "Epoch 6/50\n",
      "60000/60000 [==============================] - 6s 108us/step - loss: 0.0495 - categorical_accuracy: 0.8452\n",
      "Epoch 7/50\n",
      "60000/60000 [==============================] - 7s 116us/step - loss: 0.0495 - categorical_accuracy: 0.8440\n",
      "Epoch 8/50\n",
      "60000/60000 [==============================] - 7s 112us/step - loss: 0.0495 - categorical_accuracy: 0.8449\n",
      "Epoch 9/50\n",
      "60000/60000 [==============================] - 8s 130us/step - loss: 0.0495 - categorical_accuracy: 0.8453\n",
      "Epoch 10/50\n",
      "60000/60000 [==============================] - 10s 161us/step - loss: 0.0495 - categorical_accuracy: 0.8430\n",
      "Epoch 11/50\n",
      "60000/60000 [==============================] - 9s 142us/step - loss: 0.0495 - categorical_accuracy: 0.8447\n",
      "Epoch 12/50\n",
      "60000/60000 [==============================] - 10s 159us/step - loss: 0.0495 - categorical_accuracy: 0.8446\n",
      "Epoch 13/50\n",
      "60000/60000 [==============================] - 10s 168us/step - loss: 0.0495 - categorical_accuracy: 0.8441\n",
      "Epoch 14/50\n",
      "60000/60000 [==============================] - 10s 163us/step - loss: 0.0495 - categorical_accuracy: 0.8441\n",
      "Epoch 15/50\n",
      "60000/60000 [==============================] - 10s 172us/step - loss: 0.0495 - categorical_accuracy: 0.8445\n",
      "Epoch 16/50\n",
      "60000/60000 [==============================] - 9s 149us/step - loss: 0.0495 - categorical_accuracy: 0.8445\n",
      "Epoch 17/50\n",
      "60000/60000 [==============================] - 8s 135us/step - loss: 0.0495 - categorical_accuracy: 0.8455\n",
      "Epoch 18/50\n",
      "60000/60000 [==============================] - 11s 176us/step - loss: 0.0495 - categorical_accuracy: 0.8438\n",
      "Epoch 19/50\n",
      "60000/60000 [==============================] - 9s 156us/step - loss: 0.0495 - categorical_accuracy: 0.8451\n",
      "Epoch 20/50\n",
      "60000/60000 [==============================] - 10s 167us/step - loss: 0.0495 - categorical_accuracy: 0.8450\n",
      "Epoch 21/50\n",
      "60000/60000 [==============================] - 10s 165us/step - loss: 0.0495 - categorical_accuracy: 0.8449\n",
      "Epoch 22/50\n",
      "60000/60000 [==============================] - 10s 170us/step - loss: 0.0495 - categorical_accuracy: 0.8439\n",
      "Epoch 23/50\n",
      "60000/60000 [==============================] - 10s 164us/step - loss: 0.0495 - categorical_accuracy: 0.8448\n",
      "Epoch 24/50\n",
      "60000/60000 [==============================] - 9s 144us/step - loss: 0.0495 - categorical_accuracy: 0.8446\n",
      "Epoch 25/50\n",
      "60000/60000 [==============================] - 9s 152us/step - loss: 0.0495 - categorical_accuracy: 0.8444\n",
      "Epoch 26/50\n",
      "60000/60000 [==============================] - 9s 143us/step - loss: 0.0495 - categorical_accuracy: 0.8446\n",
      "Epoch 27/50\n",
      "60000/60000 [==============================] - 9s 155us/step - loss: 0.0495 - categorical_accuracy: 0.8436\n",
      "Epoch 28/50\n",
      "60000/60000 [==============================] - 11s 188us/step - loss: 0.0495 - categorical_accuracy: 0.8450\n",
      "Epoch 29/50\n",
      "60000/60000 [==============================] - 11s 180us/step - loss: 0.0495 - categorical_accuracy: 0.8459\n",
      "Epoch 30/50\n",
      "60000/60000 [==============================] - 10s 164us/step - loss: 0.0495 - categorical_accuracy: 0.8437\n",
      "Epoch 31/50\n",
      "60000/60000 [==============================] - 10s 169us/step - loss: 0.0495 - categorical_accuracy: 0.8453\n",
      "Epoch 32/50\n",
      "60000/60000 [==============================] - 11s 180us/step - loss: 0.0495 - categorical_accuracy: 0.8441\n",
      "Epoch 33/50\n",
      "60000/60000 [==============================] - 8s 141us/step - loss: 0.0495 - categorical_accuracy: 0.8455\n",
      "Epoch 34/50\n",
      "60000/60000 [==============================] - 10s 169us/step - loss: 0.0495 - categorical_accuracy: 0.8455\n",
      "Epoch 35/50\n",
      "60000/60000 [==============================] - 10s 164us/step - loss: 0.0495 - categorical_accuracy: 0.8454\n",
      "Epoch 36/50\n",
      "60000/60000 [==============================] - 11s 182us/step - loss: 0.0495 - categorical_accuracy: 0.8450\n",
      "Epoch 37/50\n",
      "60000/60000 [==============================] - 9s 155us/step - loss: 0.0495 - categorical_accuracy: 0.8453\n",
      "Epoch 38/50\n",
      "60000/60000 [==============================] - 15s 242us/step - loss: 0.0495 - categorical_accuracy: 0.8443\n",
      "Epoch 39/50\n",
      "60000/60000 [==============================] - 10s 168us/step - loss: 0.0495 - categorical_accuracy: 0.8444\n",
      "Epoch 40/50\n",
      "60000/60000 [==============================] - 11s 192us/step - loss: 0.0495 - categorical_accuracy: 0.8457\n",
      "Epoch 41/50\n",
      "60000/60000 [==============================] - 12s 192us/step - loss: 0.0495 - categorical_accuracy: 0.8456\n",
      "Epoch 42/50\n",
      "60000/60000 [==============================] - 12s 194us/step - loss: 0.0495 - categorical_accuracy: 0.8442\n",
      "Epoch 43/50\n",
      "60000/60000 [==============================] - 11s 180us/step - loss: 0.0495 - categorical_accuracy: 0.8442\n",
      "Epoch 44/50\n",
      "60000/60000 [==============================] - 9s 146us/step - loss: 0.0495 - categorical_accuracy: 0.8450\n",
      "Epoch 45/50\n",
      "60000/60000 [==============================] - 8s 135us/step - loss: 0.0495 - categorical_accuracy: 0.8444\n",
      "Epoch 46/50\n",
      "60000/60000 [==============================] - 10s 167us/step - loss: 0.0495 - categorical_accuracy: 0.8445\n",
      "Epoch 47/50\n",
      "60000/60000 [==============================] - 10s 168us/step - loss: 0.0495 - categorical_accuracy: 0.8445\n",
      "Epoch 48/50\n",
      "60000/60000 [==============================] - 9s 154us/step - loss: 0.0495 - categorical_accuracy: 0.8452\n",
      "Epoch 49/50\n",
      "60000/60000 [==============================] - 10s 170us/step - loss: 0.0495 - categorical_accuracy: 0.8445\n",
      "Epoch 50/50\n",
      "60000/60000 [==============================] - 10s 160us/step - loss: 0.0495 - categorical_accuracy: 0.8451\n",
      "10000/10000 [==============================] - 0s 42us/step\n",
      "[0.048763533696532246, 0.8591000013351441]\n"
     ]
    }
   ],
   "source": [
    "net_2 = NeuralNetwork(dim_x*dim_y ,[10], [tanh_func],\"l2\",0.01) # 84,53% - treino / 87,13% - teste\n",
    "data_2 = net_2.fit(dataset, \"mini-batch\", 50, lr_ = 0.1, type = \"class\", mini_batch_size = 60, \n",
    "                   tvt_ratio = [len(norm_input_train), 0, len(norm_input_test)], print_info = True)"
   ]
  },
  {
   "cell_type": "code",
   "execution_count": 8,
   "metadata": {
    "collapsed": true
   },
   "outputs": [
    {
     "data": {
      "image/png": "[encoded data removed]",
      "text/plain": [
       "<matplotlib.figure.Figure at 0x7f4d168cb630>"
      ]
     },
     "metadata": {},
     "output_type": "display_data"
    }
   ],
   "source": [
    "plot_graph(data_2, \"Numbers\", \"Epoch\", \"Error\", figsizex = 16, figsizey = 8)"
   ]
  },
  {
   "cell_type": "markdown",
   "metadata": {},
   "source": [
    "#### 2 - Rede Neural 3"
   ]
  },
  {
   "cell_type": "code",
   "execution_count": 16,
   "metadata": {
    "collapsed": true
   },
   "outputs": [
    {
     "name": "stdout",
     "output_type": "stream",
     "text": [
      "Epoch 1/50\n",
      "60000/60000 [==============================] - 9s 155us/step - loss: 0.3835 - categorical_accuracy: 0.8905\n",
      "Epoch 2/50\n",
      "60000/60000 [==============================] - 7s 121us/step - loss: 0.3094 - categorical_accuracy: 0.9130\n",
      "Epoch 3/50\n",
      "60000/60000 [==============================] - 7s 114us/step - loss: 0.2972 - categorical_accuracy: 0.9155\n",
      "Epoch 4/50\n",
      "60000/60000 [==============================] - 8s 126us/step - loss: 0.2911 - categorical_accuracy: 0.9181\n",
      "Epoch 5/50\n",
      "60000/60000 [==============================] - 8s 140us/step - loss: 0.2869 - categorical_accuracy: 0.9198\n",
      "Epoch 6/50\n",
      "60000/60000 [==============================] - 7s 118us/step - loss: 0.2825 - categorical_accuracy: 0.9204\n",
      "Epoch 7/50\n",
      "60000/60000 [==============================] - 8s 136us/step - loss: 0.2796 - categorical_accuracy: 0.9215\n",
      "Epoch 8/50\n",
      "60000/60000 [==============================] - 8s 133us/step - loss: 0.2786 - categorical_accuracy: 0.9216\n",
      "Epoch 9/50\n",
      "60000/60000 [==============================] - 8s 134us/step - loss: 0.2747 - categorical_accuracy: 0.9233\n",
      "Epoch 10/50\n",
      "60000/60000 [==============================] - 9s 153us/step - loss: 0.2725 - categorical_accuracy: 0.9231\n",
      "Epoch 11/50\n",
      "60000/60000 [==============================] - 9s 151us/step - loss: 0.2705 - categorical_accuracy: 0.9239\n",
      "Epoch 12/50\n",
      "60000/60000 [==============================] - 10s 165us/step - loss: 0.2689 - categorical_accuracy: 0.9240\n",
      "Epoch 13/50\n",
      "60000/60000 [==============================] - 10s 170us/step - loss: 0.2693 - categorical_accuracy: 0.9246\n",
      "Epoch 14/50\n",
      "60000/60000 [==============================] - 10s 170us/step - loss: 0.2674 - categorical_accuracy: 0.9249\n",
      "Epoch 15/50\n",
      "60000/60000 [==============================] - 10s 160us/step - loss: 0.2667 - categorical_accuracy: 0.9244\n",
      "Epoch 16/50\n",
      "60000/60000 [==============================] - 11s 178us/step - loss: 0.2653 - categorical_accuracy: 0.9256\n",
      "Epoch 17/50\n",
      "60000/60000 [==============================] - 9s 157us/step - loss: 0.2641 - categorical_accuracy: 0.9258\n",
      "Epoch 18/50\n",
      "60000/60000 [==============================] - 10s 166us/step - loss: 0.2641 - categorical_accuracy: 0.9265\n",
      "Epoch 19/50\n",
      "60000/60000 [==============================] - 10s 169us/step - loss: 0.2619 - categorical_accuracy: 0.9262\n",
      "Epoch 20/50\n",
      "60000/60000 [==============================] - 10s 169us/step - loss: 0.2618 - categorical_accuracy: 0.9256\n",
      "Epoch 21/50\n",
      "60000/60000 [==============================] - 11s 176us/step - loss: 0.2608 - categorical_accuracy: 0.9259\n",
      "Epoch 22/50\n",
      "60000/60000 [==============================] - 11s 177us/step - loss: 0.2600 - categorical_accuracy: 0.9269\n",
      "Epoch 23/50\n",
      "60000/60000 [==============================] - 10s 167us/step - loss: 0.2590 - categorical_accuracy: 0.9257\n",
      "Epoch 24/50\n",
      "60000/60000 [==============================] - 9s 154us/step - loss: 0.2577 - categorical_accuracy: 0.9270\n",
      "Epoch 25/50\n",
      "60000/60000 [==============================] - 11s 180us/step - loss: 0.2575 - categorical_accuracy: 0.9267\n",
      "Epoch 26/50\n",
      "60000/60000 [==============================] - 10s 168us/step - loss: 0.2560 - categorical_accuracy: 0.9280\n",
      "Epoch 27/50\n",
      "60000/60000 [==============================] - 10s 159us/step - loss: 0.2565 - categorical_accuracy: 0.9275\n",
      "Epoch 28/50\n",
      "60000/60000 [==============================] - 9s 158us/step - loss: 0.2561 - categorical_accuracy: 0.9279\n",
      "Epoch 29/50\n",
      "60000/60000 [==============================] - 9s 152us/step - loss: 0.2546 - categorical_accuracy: 0.9269\n",
      "Epoch 30/50\n",
      "60000/60000 [==============================] - 10s 164us/step - loss: 0.2551 - categorical_accuracy: 0.9274\n",
      "Epoch 31/50\n",
      "60000/60000 [==============================] - 11s 191us/step - loss: 0.2550 - categorical_accuracy: 0.9266\n",
      "Epoch 32/50\n",
      "60000/60000 [==============================] - 10s 174us/step - loss: 0.2530 - categorical_accuracy: 0.9291\n",
      "Epoch 33/50\n",
      "60000/60000 [==============================] - 12s 193us/step - loss: 0.2528 - categorical_accuracy: 0.9273\n",
      "Epoch 34/50\n",
      "60000/60000 [==============================] - 11s 178us/step - loss: 0.2524 - categorical_accuracy: 0.9280\n",
      "Epoch 35/50\n",
      "60000/60000 [==============================] - 11s 176us/step - loss: 0.2524 - categorical_accuracy: 0.9281\n",
      "Epoch 36/50\n",
      "60000/60000 [==============================] - 11s 176us/step - loss: 0.2515 - categorical_accuracy: 0.9281\n",
      "Epoch 37/50\n",
      "60000/60000 [==============================] - 9s 155us/step - loss: 0.2511 - categorical_accuracy: 0.9281\n",
      "Epoch 38/50\n",
      "60000/60000 [==============================] - 12s 202us/step - loss: 0.2512 - categorical_accuracy: 0.9285\n",
      "Epoch 39/50\n",
      "60000/60000 [==============================] - 11s 183us/step - loss: 0.2503 - categorical_accuracy: 0.9281\n",
      "Epoch 40/50\n",
      "60000/60000 [==============================] - 11s 188us/step - loss: 0.2486 - categorical_accuracy: 0.9284\n",
      "Epoch 41/50\n",
      "60000/60000 [==============================] - 9s 155us/step - loss: 0.2499 - categorical_accuracy: 0.9287\n",
      "Epoch 42/50\n",
      "60000/60000 [==============================] - 11s 191us/step - loss: 0.2489 - categorical_accuracy: 0.9285\n",
      "Epoch 43/50\n",
      "60000/60000 [==============================] - 10s 165us/step - loss: 0.2497 - categorical_accuracy: 0.9283\n",
      "Epoch 44/50\n",
      "60000/60000 [==============================] - 13s 216us/step - loss: 0.2479 - categorical_accuracy: 0.9290\n",
      "Epoch 45/50\n",
      "60000/60000 [==============================] - 9s 156us/step - loss: 0.2483 - categorical_accuracy: 0.9278\n",
      "Epoch 46/50\n",
      "60000/60000 [==============================] - 11s 182us/step - loss: 0.2475 - categorical_accuracy: 0.9294\n",
      "Epoch 47/50\n",
      "60000/60000 [==============================] - 9s 158us/step - loss: 0.2481 - categorical_accuracy: 0.9278\n",
      "Epoch 48/50\n",
      "60000/60000 [==============================] - 12s 196us/step - loss: 0.2486 - categorical_accuracy: 0.9285\n",
      "Epoch 49/50\n",
      "60000/60000 [==============================] - 11s 177us/step - loss: 0.2466 - categorical_accuracy: 0.9286\n",
      "Epoch 50/50\n",
      "60000/60000 [==============================] - 11s 190us/step - loss: 0.2464 - categorical_accuracy: 0.9287\n",
      "10000/10000 [==============================] - 1s 65us/step\n",
      "[0.29394059619214385, 0.9200999987125397]\n"
     ]
    }
   ],
   "source": [
    "net_3 = NeuralNetwork(dim_x*dim_y ,[10], [sig_func])# 92,87% - treino / 92% - teste\n",
    "data_3 = net_3.fit(dataset, \"mini-batch\", 50, lr_ = 0.5, type = \"class\", mini_batch_size = 60, \n",
    "                   tvt_ratio = [len(norm_input_train), 0, len(norm_input_test)], momentum_ = 0.3, print_info = True, \n",
    "                   loss_ = \"categorical_crossentropy\")#, opt = \"adam\")"
   ]
  },
  {
   "cell_type": "code",
   "execution_count": 7,
   "metadata": {
    "scrolled": true
   },
   "outputs": [
    {
     "ename": "NameError",
     "evalue": "name 'data_3' is not defined",
     "output_type": "error",
     "traceback": [
      "\u001b[0;31m---------------------------------------------------------------------------\u001b[0m",
      "\u001b[0;31mNameError\u001b[0m                                 Traceback (most recent call last)",
      "\u001b[0;32m<ipython-input-7-474e5b2548c6>\u001b[0m in \u001b[0;36m<module>\u001b[0;34m()\u001b[0m\n\u001b[0;32m----> 1\u001b[0;31m \u001b[0mplot_graph\u001b[0m\u001b[0;34m(\u001b[0m\u001b[0mdata_3\u001b[0m\u001b[0;34m,\u001b[0m \u001b[0;34m\"Numbers\"\u001b[0m\u001b[0;34m,\u001b[0m \u001b[0;34m\"Epoch\"\u001b[0m\u001b[0;34m,\u001b[0m \u001b[0;34m\"Error\"\u001b[0m\u001b[0;34m,\u001b[0m \u001b[0mfigsizex\u001b[0m \u001b[0;34m=\u001b[0m \u001b[0;36m16\u001b[0m\u001b[0;34m,\u001b[0m \u001b[0mfigsizey\u001b[0m \u001b[0;34m=\u001b[0m \u001b[0;36m8\u001b[0m\u001b[0;34m)\u001b[0m\u001b[0;34m\u001b[0m\u001b[0m\n\u001b[0m",
      "\u001b[0;31mNameError\u001b[0m: name 'data_3' is not defined"
     ]
    }
   ],
   "source": [
    "plot_graph(data_3, \"Numbers\", \"Epoch\", \"Error\", figsizex = 16, figsizey = 8)"
   ]
  },
  {
   "cell_type": "code",
   "execution_count": 21,
   "metadata": {},
   "outputs": [
    {
     "name": "stdout",
     "output_type": "stream",
     "text": [
      "Epoch 1/50\n",
      "60000/60000 [==============================] - 8s 126us/step - loss: 0.3634 - categorical_accuracy: 0.8979\n",
      "Epoch 2/50\n",
      "60000/60000 [==============================] - 8s 127us/step - loss: 0.3106 - categorical_accuracy: 0.9149\n",
      "Epoch 3/50\n",
      "60000/60000 [==============================] - 8s 132us/step - loss: 0.2976 - categorical_accuracy: 0.9185\n",
      "Epoch 4/50\n",
      "60000/60000 [==============================] - 8s 140us/step - loss: 0.2950 - categorical_accuracy: 0.9202\n",
      "Epoch 5/50\n",
      "60000/60000 [==============================] - 9s 148us/step - loss: 0.2916 - categorical_accuracy: 0.9214\n",
      "Epoch 6/50\n",
      "60000/60000 [==============================] - 8s 141us/step - loss: 0.2884 - categorical_accuracy: 0.9205\n",
      "Epoch 7/50\n",
      "60000/60000 [==============================] - 9s 151us/step - loss: 0.2836 - categorical_accuracy: 0.9211\n",
      "Epoch 8/50\n",
      "60000/60000 [==============================] - 9s 156us/step - loss: 0.2794 - categorical_accuracy: 0.9230\n",
      "Epoch 9/50\n",
      "60000/60000 [==============================] - 8s 127us/step - loss: 0.2793 - categorical_accuracy: 0.9223\n",
      "Epoch 10/50\n",
      "60000/60000 [==============================] - 8s 126us/step - loss: 0.2824 - categorical_accuracy: 0.9220\n",
      "Epoch 11/50\n",
      "60000/60000 [==============================] - 9s 151us/step - loss: 0.2747 - categorical_accuracy: 0.9233\n",
      "Epoch 12/50\n",
      "60000/60000 [==============================] - 10s 164us/step - loss: 0.2719 - categorical_accuracy: 0.9245\n",
      "Epoch 13/50\n",
      "60000/60000 [==============================] - 9s 153us/step - loss: 0.2747 - categorical_accuracy: 0.9231\n",
      "Epoch 14/50\n",
      "60000/60000 [==============================] - 11s 175us/step - loss: 0.2712 - categorical_accuracy: 0.9243\n",
      "Epoch 15/50\n",
      "60000/60000 [==============================] - 10s 167us/step - loss: 0.2714 - categorical_accuracy: 0.9243\n",
      "Epoch 16/50\n",
      "60000/60000 [==============================] - 9s 157us/step - loss: 0.2706 - categorical_accuracy: 0.9242\n",
      "Epoch 17/50\n",
      "60000/60000 [==============================] - 10s 163us/step - loss: 0.2676 - categorical_accuracy: 0.9261\n",
      "Epoch 18/50\n",
      "60000/60000 [==============================] - 9s 156us/step - loss: 0.2699 - categorical_accuracy: 0.9233\n",
      "Epoch 19/50\n",
      "60000/60000 [==============================] - 10s 166us/step - loss: 0.2640 - categorical_accuracy: 0.9260\n",
      "Epoch 20/50\n",
      "60000/60000 [==============================] - 10s 164us/step - loss: 0.2661 - categorical_accuracy: 0.9248\n",
      "Epoch 21/50\n",
      "60000/60000 [==============================] - 11s 181us/step - loss: 0.2641 - categorical_accuracy: 0.9249\n",
      "Epoch 22/50\n",
      "60000/60000 [==============================] - 11s 182us/step - loss: 0.2658 - categorical_accuracy: 0.9251\n",
      "Epoch 23/50\n",
      "60000/60000 [==============================] - 9s 158us/step - loss: 0.2660 - categorical_accuracy: 0.9251\n",
      "Epoch 24/50\n",
      "60000/60000 [==============================] - 8s 137us/step - loss: 0.2612 - categorical_accuracy: 0.9268\n",
      "Epoch 25/50\n",
      "60000/60000 [==============================] - 9s 153us/step - loss: 0.2634 - categorical_accuracy: 0.9254\n",
      "Epoch 26/50\n",
      "60000/60000 [==============================] - 10s 171us/step - loss: 0.2613 - categorical_accuracy: 0.9261\n",
      "Epoch 27/50\n",
      "60000/60000 [==============================] - 9s 143us/step - loss: 0.2654 - categorical_accuracy: 0.9255\n",
      "Epoch 28/50\n",
      "60000/60000 [==============================] - 11s 179us/step - loss: 0.2632 - categorical_accuracy: 0.9242\n",
      "Epoch 29/50\n",
      "60000/60000 [==============================] - 9s 157us/step - loss: 0.2594 - categorical_accuracy: 0.9264\n",
      "Epoch 30/50\n",
      "60000/60000 [==============================] - 12s 199us/step - loss: 0.2603 - categorical_accuracy: 0.9253\n",
      "Epoch 31/50\n",
      "60000/60000 [==============================] - 8s 126us/step - loss: 0.2607 - categorical_accuracy: 0.9256\n",
      "Epoch 32/50\n",
      "60000/60000 [==============================] - 13s 209us/step - loss: 0.2586 - categorical_accuracy: 0.9258\n",
      "Epoch 33/50\n",
      "60000/60000 [==============================] - 11s 178us/step - loss: 0.2576 - categorical_accuracy: 0.9257\n",
      "Epoch 34/50\n",
      "60000/60000 [==============================] - 7s 123us/step - loss: 0.2578 - categorical_accuracy: 0.9262\n",
      "Epoch 35/50\n",
      "60000/60000 [==============================] - 9s 157us/step - loss: 0.2601 - categorical_accuracy: 0.9248\n",
      "Epoch 36/50\n",
      "60000/60000 [==============================] - 11s 187us/step - loss: 0.2582 - categorical_accuracy: 0.9266\n",
      "Epoch 37/50\n",
      "60000/60000 [==============================] - 7s 121us/step - loss: 0.2597 - categorical_accuracy: 0.9253\n",
      "Epoch 38/50\n",
      "60000/60000 [==============================] - 11s 187us/step - loss: 0.2577 - categorical_accuracy: 0.9254\n",
      "Epoch 39/50\n",
      "60000/60000 [==============================] - 14s 239us/step - loss: 0.2566 - categorical_accuracy: 0.9270\n",
      "Epoch 40/50\n",
      "60000/60000 [==============================] - 11s 182us/step - loss: 0.2563 - categorical_accuracy: 0.9270\n",
      "Epoch 41/50\n",
      "60000/60000 [==============================] - 12s 203us/step - loss: 0.2586 - categorical_accuracy: 0.9256\n",
      "Epoch 42/50\n",
      "60000/60000 [==============================] - 12s 194us/step - loss: 0.2571 - categorical_accuracy: 0.9259\n",
      "Epoch 43/50\n",
      "60000/60000 [==============================] - 9s 142us/step - loss: 0.2579 - categorical_accuracy: 0.9257\n",
      "Epoch 44/50\n",
      "60000/60000 [==============================] - 12s 199us/step - loss: 0.2549 - categorical_accuracy: 0.9267\n",
      "Epoch 45/50\n",
      "60000/60000 [==============================] - 12s 196us/step - loss: 0.2543 - categorical_accuracy: 0.9268\n",
      "Epoch 46/50\n",
      "60000/60000 [==============================] - 11s 190us/step - loss: 0.2558 - categorical_accuracy: 0.9261\n",
      "Epoch 47/50\n",
      "60000/60000 [==============================] - 12s 202us/step - loss: 0.2554 - categorical_accuracy: 0.9261\n",
      "Epoch 48/50\n",
      "60000/60000 [==============================] - 10s 159us/step - loss: 0.2547 - categorical_accuracy: 0.9260\n",
      "Epoch 49/50\n",
      "60000/60000 [==============================] - 12s 193us/step - loss: 0.2560 - categorical_accuracy: 0.9260\n",
      "Epoch 50/50\n",
      "60000/60000 [==============================] - 11s 180us/step - loss: 0.2540 - categorical_accuracy: 0.9270\n",
      "10000/10000 [==============================] - 1s 129us/step\n",
      "[0.37211414417997, 0.914299998998642]\n"
     ]
    }
   ],
   "source": [
    "net_ca = NeuralNetwork(dim_x*dim_y ,[10], [sig_func])# 92,7% - treino / 91,43% - teste\n",
    "data_ca = net_ca.fit(dataset, \"mini-batch\", 50, lr_ = 0.01, type = \"class\", mini_batch_size = 60, \n",
    "                   tvt_ratio = [len(norm_input_train), 0, len(norm_input_test)], momentum_ = 0.0, print_info = True, \n",
    "                   loss_ = \"categorical_crossentropy\", opt = \"adam\")"
   ]
  },
  {
   "cell_type": "code",
   "execution_count": 24,
   "metadata": {},
   "outputs": [
    {
     "name": "stdout",
     "output_type": "stream",
     "text": [
      "Epoch 1/50\n",
      "60000/60000 [==============================] - 10s 174us/step - loss: 1.6223 - categorical_accuracy: 0.7759\n",
      "Epoch 2/50\n",
      "60000/60000 [==============================] - 10s 164us/step - loss: 1.4822 - categorical_accuracy: 0.7873\n",
      "Epoch 3/50\n",
      "60000/60000 [==============================] - 11s 179us/step - loss: 1.4534 - categorical_accuracy: 0.7883\n",
      "Epoch 4/50\n",
      "60000/60000 [==============================] - 10s 174us/step - loss: 1.4459 - categorical_accuracy: 0.7859\n",
      "Epoch 5/50\n",
      "60000/60000 [==============================] - 10s 166us/step - loss: 1.4396 - categorical_accuracy: 0.7874\n",
      "Epoch 6/50\n",
      "60000/60000 [==============================] - 10s 169us/step - loss: 1.4372 - categorical_accuracy: 0.7869\n",
      "Epoch 7/50\n",
      "60000/60000 [==============================] - 11s 183us/step - loss: 1.4337 - categorical_accuracy: 0.7890\n",
      "Epoch 8/50\n",
      "60000/60000 [==============================] - 10s 174us/step - loss: 1.4324 - categorical_accuracy: 0.7877\n",
      "Epoch 9/50\n",
      "60000/60000 [==============================] - 11s 176us/step - loss: 1.4337 - categorical_accuracy: 0.7860\n",
      "Epoch 10/50\n",
      "60000/60000 [==============================] - 10s 173us/step - loss: 1.4291 - categorical_accuracy: 0.7903\n",
      "Epoch 11/50\n",
      "60000/60000 [==============================] - 10s 174us/step - loss: 1.4334 - categorical_accuracy: 0.7839\n",
      "Epoch 12/50\n",
      "60000/60000 [==============================] - 11s 187us/step - loss: 1.4286 - categorical_accuracy: 0.7894\n",
      "Epoch 13/50\n",
      "60000/60000 [==============================] - 11s 183us/step - loss: 1.4302 - categorical_accuracy: 0.7892\n",
      "Epoch 14/50\n",
      "60000/60000 [==============================] - 10s 173us/step - loss: 1.4298 - categorical_accuracy: 0.7869\n",
      "Epoch 15/50\n",
      "60000/60000 [==============================] - 10s 159us/step - loss: 1.4316 - categorical_accuracy: 0.7861\n",
      "Epoch 16/50\n",
      "60000/60000 [==============================] - 10s 160us/step - loss: 1.4309 - categorical_accuracy: 0.7853\n",
      "Epoch 17/50\n",
      "60000/60000 [==============================] - 13s 224us/step - loss: 1.4282 - categorical_accuracy: 0.7878\n",
      "Epoch 18/50\n",
      "60000/60000 [==============================] - 12s 193us/step - loss: 1.4271 - categorical_accuracy: 0.7920\n",
      "Epoch 19/50\n",
      "60000/60000 [==============================] - 12s 202us/step - loss: 1.4289 - categorical_accuracy: 0.7890\n",
      "Epoch 20/50\n",
      "60000/60000 [==============================] - 10s 174us/step - loss: 1.4304 - categorical_accuracy: 0.7866\n",
      "Epoch 21/50\n",
      "60000/60000 [==============================] - 9s 155us/step - loss: 1.4284 - categorical_accuracy: 0.7880\n",
      "Epoch 22/50\n",
      "60000/60000 [==============================] - 8s 135us/step - loss: 1.4283 - categorical_accuracy: 0.7907\n",
      "Epoch 23/50\n",
      "60000/60000 [==============================] - 8s 133us/step - loss: 1.4318 - categorical_accuracy: 0.7826\n",
      "Epoch 24/50\n",
      "60000/60000 [==============================] - 8s 138us/step - loss: 1.4251 - categorical_accuracy: 0.7894\n",
      "Epoch 25/50\n",
      "60000/60000 [==============================] - 8s 130us/step - loss: 1.4307 - categorical_accuracy: 0.7857\n",
      "Epoch 26/50\n",
      "60000/60000 [==============================] - 8s 130us/step - loss: 1.4315 - categorical_accuracy: 0.7859\n",
      "Epoch 27/50\n",
      "60000/60000 [==============================] - 8s 138us/step - loss: 1.4305 - categorical_accuracy: 0.7841\n",
      "Epoch 28/50\n",
      "60000/60000 [==============================] - 8s 138us/step - loss: 1.4258 - categorical_accuracy: 0.7872\n",
      "Epoch 29/50\n",
      "60000/60000 [==============================] - 8s 126us/step - loss: 1.4248 - categorical_accuracy: 0.7883\n",
      "Epoch 30/50\n",
      "60000/60000 [==============================] - 7s 124us/step - loss: 1.4267 - categorical_accuracy: 0.7880\n",
      "Epoch 31/50\n",
      "60000/60000 [==============================] - 8s 127us/step - loss: 1.4279 - categorical_accuracy: 0.7863\n",
      "Epoch 32/50\n",
      "60000/60000 [==============================] - 9s 144us/step - loss: 1.4270 - categorical_accuracy: 0.7893\n",
      "Epoch 33/50\n",
      "60000/60000 [==============================] - 8s 135us/step - loss: 1.4277 - categorical_accuracy: 0.7876\n",
      "Epoch 34/50\n",
      "60000/60000 [==============================] - 9s 148us/step - loss: 1.4263 - categorical_accuracy: 0.7894\n",
      "Epoch 35/50\n",
      "60000/60000 [==============================] - 7s 121us/step - loss: 1.4289 - categorical_accuracy: 0.7871\n",
      "Epoch 36/50\n",
      "60000/60000 [==============================] - 8s 125us/step - loss: 1.4275 - categorical_accuracy: 0.7868\n",
      "Epoch 37/50\n",
      "60000/60000 [==============================] - 8s 141us/step - loss: 1.4255 - categorical_accuracy: 0.7901\n",
      "Epoch 38/50\n",
      "60000/60000 [==============================] - 8s 135us/step - loss: 1.4270 - categorical_accuracy: 0.7876\n",
      "Epoch 39/50\n",
      "60000/60000 [==============================] - 7s 122us/step - loss: 1.4263 - categorical_accuracy: 0.7896\n",
      "Epoch 40/50\n",
      "60000/60000 [==============================] - 8s 135us/step - loss: 1.4275 - categorical_accuracy: 0.7862\n",
      "Epoch 41/50\n",
      "60000/60000 [==============================] - 8s 131us/step - loss: 1.4266 - categorical_accuracy: 0.7898\n",
      "Epoch 42/50\n",
      "60000/60000 [==============================] - 8s 136us/step - loss: 1.4305 - categorical_accuracy: 0.7846\n",
      "Epoch 43/50\n",
      "60000/60000 [==============================] - 8s 130us/step - loss: 1.4288 - categorical_accuracy: 0.7858\n",
      "Epoch 44/50\n",
      "60000/60000 [==============================] - 8s 137us/step - loss: 1.4271 - categorical_accuracy: 0.7872\n",
      "Epoch 45/50\n",
      "60000/60000 [==============================] - 8s 142us/step - loss: 1.4261 - categorical_accuracy: 0.7892\n",
      "Epoch 46/50\n",
      "60000/60000 [==============================] - 8s 129us/step - loss: 1.4265 - categorical_accuracy: 0.7880\n",
      "Epoch 47/50\n",
      "60000/60000 [==============================] - 8s 136us/step - loss: 1.4239 - categorical_accuracy: 0.7899\n",
      "Epoch 48/50\n",
      "60000/60000 [==============================] - 7s 119us/step - loss: 1.4240 - categorical_accuracy: 0.7919\n",
      "Epoch 49/50\n",
      "60000/60000 [==============================] - 8s 138us/step - loss: 1.4258 - categorical_accuracy: 0.7904\n",
      "Epoch 50/50\n",
      "60000/60000 [==============================] - 8s 131us/step - loss: 1.4294 - categorical_accuracy: 0.7871\n",
      "10000/10000 [==============================] - 1s 52us/step\n",
      "[1.3951284816265106, 0.8105999991893769]\n"
     ]
    }
   ],
   "source": [
    "net_cu = NeuralNetwork(dim_x*dim_y ,[10], [sig_func], \"l2\", 0.1)# 92,63% - treino / 92,30% - teste\n",
    "data_cu = net_cu.fit(dataset, \"mini-batch\", 50, lr_ = 0.01, type = \"class\", mini_batch_size = 60, \n",
    "                   tvt_ratio = [len(norm_input_train), 0, len(norm_input_test)], momentum_ = 0.0, print_info = True, \n",
    "                   loss_ = \"categorical_crossentropy\", opt = \"adam\")"
   ]
  },
  {
   "cell_type": "markdown",
   "metadata": {},
   "source": [
    "#### 3 - Rede Neural 7"
   ]
  },
  {
   "cell_type": "code",
   "execution_count": 39,
   "metadata": {
    "collapsed": true
   },
   "outputs": [
    {
     "name": "stdout",
     "output_type": "stream",
     "text": [
      "Epoch 1/100\n",
      "60000/60000 [==============================] - 6s 105us/step - loss: 4.7518 - categorical_accuracy: 0.1078\n",
      "Epoch 2/100\n",
      "60000/60000 [==============================] - 5s 86us/step - loss: 4.7102 - categorical_accuracy: 0.1072\n",
      "Epoch 3/100\n",
      "60000/60000 [==============================] - 5s 80us/step - loss: 4.7099 - categorical_accuracy: 0.1044\n",
      "Epoch 4/100\n",
      "60000/60000 [==============================] - 5s 87us/step - loss: 4.7129 - categorical_accuracy: 0.1058\n",
      "Epoch 5/100\n",
      "60000/60000 [==============================] - 6s 92us/step - loss: 4.7099 - categorical_accuracy: 0.1046\n",
      "Epoch 6/100\n",
      "60000/60000 [==============================] - 6s 108us/step - loss: 4.7103 - categorical_accuracy: 0.1051\n",
      "Epoch 7/100\n",
      "60000/60000 [==============================] - 5s 82us/step - loss: 4.7106 - categorical_accuracy: 0.1070\n",
      "Epoch 8/100\n",
      "60000/60000 [==============================] - 6s 98us/step - loss: 4.7119 - categorical_accuracy: 0.1080\n",
      "Epoch 9/100\n",
      "60000/60000 [==============================] - 6s 105us/step - loss: 4.7101 - categorical_accuracy: 0.1064\n",
      "Epoch 10/100\n",
      "60000/60000 [==============================] - 6s 102us/step - loss: 4.7105 - categorical_accuracy: 0.1072\n",
      "Epoch 11/100\n",
      "60000/60000 [==============================] - 6s 102us/step - loss: 4.7097 - categorical_accuracy: 0.1074\n",
      "Epoch 12/100\n",
      "60000/60000 [==============================] - 6s 99us/step - loss: 4.7105 - categorical_accuracy: 0.1085\n",
      "Epoch 13/100\n",
      "60000/60000 [==============================] - 6s 106us/step - loss: 4.7114 - categorical_accuracy: 0.1044\n",
      "Epoch 14/100\n",
      "60000/60000 [==============================] - 6s 98us/step - loss: 4.7118 - categorical_accuracy: 0.1061\n",
      "Epoch 15/100\n",
      "60000/60000 [==============================] - 6s 98us/step - loss: 4.7123 - categorical_accuracy: 0.1058\n",
      "Epoch 16/100\n",
      "60000/60000 [==============================] - 4s 64us/step - loss: 4.7118 - categorical_accuracy: 0.1081\n",
      "Epoch 17/100\n",
      "60000/60000 [==============================] - 5s 89us/step - loss: 4.7111 - categorical_accuracy: 0.1058\n",
      "Epoch 18/100\n",
      "60000/60000 [==============================] - 5s 82us/step - loss: 4.7103 - categorical_accuracy: 0.1071\n",
      "Epoch 19/100\n",
      "60000/60000 [==============================] - 5s 75us/step - loss: 4.7119 - categorical_accuracy: 0.1071\n",
      "Epoch 20/100\n",
      "60000/60000 [==============================] - 4s 69us/step - loss: 4.7113 - categorical_accuracy: 0.1084\n",
      "Epoch 21/100\n",
      "60000/60000 [==============================] - 5s 90us/step - loss: 4.7122 - categorical_accuracy: 0.1079\n",
      "Epoch 22/100\n",
      "60000/60000 [==============================] - 5s 82us/step - loss: 4.7123 - categorical_accuracy: 0.1066\n",
      "Epoch 23/100\n",
      "60000/60000 [==============================] - 4s 74us/step - loss: 4.7117 - categorical_accuracy: 0.1080\n",
      "Epoch 24/100\n",
      "60000/60000 [==============================] - 4s 75us/step - loss: 4.7107 - categorical_accuracy: 0.1076\n",
      "Epoch 25/100\n",
      "60000/60000 [==============================] - 5s 82us/step - loss: 4.7105 - categorical_accuracy: 0.1082\n",
      "Epoch 26/100\n",
      "60000/60000 [==============================] - 5s 77us/step - loss: 4.7130 - categorical_accuracy: 0.1062\n",
      "Epoch 27/100\n",
      "60000/60000 [==============================] - 4s 74us/step - loss: 4.7128 - categorical_accuracy: 0.1077\n",
      "Epoch 28/100\n",
      "60000/60000 [==============================] - 5s 83us/step - loss: 4.7128 - categorical_accuracy: 0.1076\n",
      "Epoch 29/100\n",
      "60000/60000 [==============================] - 5s 78us/step - loss: 4.7130 - categorical_accuracy: 0.1081\n",
      "Epoch 30/100\n",
      "60000/60000 [==============================] - 6s 95us/step - loss: 4.7125 - categorical_accuracy: 0.1083\n",
      "Epoch 31/100\n",
      "60000/60000 [==============================] - 7s 121us/step - loss: 4.7121 - categorical_accuracy: 0.1081\n",
      "Epoch 32/100\n",
      "29820/60000 [=============>................] - ETA: 3s - loss: 4.7154 - categorical_accuracy: 0.1063"
     ]
    },
    {
     "ename": "KeyboardInterrupt",
     "evalue": "",
     "output_type": "error",
     "traceback": [
      "\u001b[0;31m---------------------------------------------------------------------------\u001b[0m",
      "\u001b[0;31mKeyboardInterrupt\u001b[0m                         Traceback (most recent call last)",
      "\u001b[0;32m<ipython-input-39-5a2eb621250f>\u001b[0m in \u001b[0;36m<module>\u001b[0;34m()\u001b[0m\n\u001b[1;32m      1\u001b[0m \u001b[0mnet_7\u001b[0m \u001b[0;34m=\u001b[0m \u001b[0mNeuralNetwork\u001b[0m\u001b[0;34m(\u001b[0m\u001b[0mdim_x\u001b[0m\u001b[0;34m*\u001b[0m\u001b[0mdim_y\u001b[0m \u001b[0;34m,\u001b[0m\u001b[0;34m[\u001b[0m\u001b[0;36m50\u001b[0m\u001b[0;34m,\u001b[0m \u001b[0;36m10\u001b[0m\u001b[0;34m]\u001b[0m\u001b[0;34m,\u001b[0m \u001b[0;36m2\u001b[0m\u001b[0;34m*\u001b[0m\u001b[0;34m[\u001b[0m\u001b[0msig_func\u001b[0m\u001b[0;34m]\u001b[0m\u001b[0;34m,\u001b[0m \u001b[0;34m\"l1_l2\"\u001b[0m\u001b[0;34m,\u001b[0m \u001b[0;36m0.01\u001b[0m\u001b[0;34m)\u001b[0m \u001b[0;31m# 99.07% - treino / 96.96% - teste\u001b[0m\u001b[0;34m\u001b[0m\u001b[0m\n\u001b[1;32m      2\u001b[0m data_7 = net_7.fit(dataset, \"mini-batch\", 100, lr_ = 0.8, type = \"class\", mini_batch_size = 60, \n\u001b[0;32m----> 3\u001b[0;31m                    tvt_ratio = [len(norm_input_train), 0, len(norm_input_test)], momentum_ = 0.9, print_info = True)\n\u001b[0m",
      "\u001b[0;32m~/.conda/envs/atividade1/Deep-learning/src/neural_network.py\u001b[0m in \u001b[0;36mfit\u001b[0;34m(self, data_set, training_type, num_epoch, mini_batch_size, tvt_ratio, type, print_info, loss_, opt, lr_, momentum_, decay_, rho_, epsilon_, beta_1_, beta_2_, schedule_decay_)\u001b[0m\n\u001b[1;32m    134\u001b[0m                                                           \u001b[0mverbose\u001b[0m \u001b[0;34m=\u001b[0m \u001b[0mverb\u001b[0m\u001b[0;34m,\u001b[0m\u001b[0;34m\u001b[0m\u001b[0m\n\u001b[1;32m    135\u001b[0m                                                           \u001b[0mvalidation_data\u001b[0m \u001b[0;34m=\u001b[0m \u001b[0mval_data\u001b[0m\u001b[0;34m,\u001b[0m\u001b[0;34m\u001b[0m\u001b[0m\n\u001b[0;32m--> 136\u001b[0;31m \t\t\t\t\t\t\t  shuffle = True )\n\u001b[0m\u001b[1;32m    137\u001b[0m \u001b[0;34m\u001b[0m\u001b[0m\n\u001b[1;32m    138\u001b[0m                 \u001b[0;32mif\u001b[0m \u001b[0mtest_set_size\u001b[0m \u001b[0;34m>\u001b[0m \u001b[0;36m0\u001b[0m\u001b[0;34m:\u001b[0m\u001b[0;34m\u001b[0m\u001b[0m\n",
      "\u001b[0;32m~/.conda/envs/atividade1/lib/python3.6/site-packages/keras/models.py\u001b[0m in \u001b[0;36mfit\u001b[0;34m(self, x, y, batch_size, epochs, verbose, callbacks, validation_split, validation_data, shuffle, class_weight, sample_weight, initial_epoch, steps_per_epoch, validation_steps, **kwargs)\u001b[0m\n\u001b[1;32m    961\u001b[0m                               \u001b[0minitial_epoch\u001b[0m\u001b[0;34m=\u001b[0m\u001b[0minitial_epoch\u001b[0m\u001b[0;34m,\u001b[0m\u001b[0;34m\u001b[0m\u001b[0m\n\u001b[1;32m    962\u001b[0m                               \u001b[0msteps_per_epoch\u001b[0m\u001b[0;34m=\u001b[0m\u001b[0msteps_per_epoch\u001b[0m\u001b[0;34m,\u001b[0m\u001b[0;34m\u001b[0m\u001b[0m\n\u001b[0;32m--> 963\u001b[0;31m                               validation_steps=validation_steps)\n\u001b[0m\u001b[1;32m    964\u001b[0m \u001b[0;34m\u001b[0m\u001b[0m\n\u001b[1;32m    965\u001b[0m     def evaluate(self, x=None, y=None,\n",
      "\u001b[0;32m~/.conda/envs/atividade1/lib/python3.6/site-packages/keras/engine/training.py\u001b[0m in \u001b[0;36mfit\u001b[0;34m(self, x, y, batch_size, epochs, verbose, callbacks, validation_split, validation_data, shuffle, class_weight, sample_weight, initial_epoch, steps_per_epoch, validation_steps, **kwargs)\u001b[0m\n\u001b[1;32m   1703\u001b[0m                               \u001b[0minitial_epoch\u001b[0m\u001b[0;34m=\u001b[0m\u001b[0minitial_epoch\u001b[0m\u001b[0;34m,\u001b[0m\u001b[0;34m\u001b[0m\u001b[0m\n\u001b[1;32m   1704\u001b[0m                               \u001b[0msteps_per_epoch\u001b[0m\u001b[0;34m=\u001b[0m\u001b[0msteps_per_epoch\u001b[0m\u001b[0;34m,\u001b[0m\u001b[0;34m\u001b[0m\u001b[0m\n\u001b[0;32m-> 1705\u001b[0;31m                               validation_steps=validation_steps)\n\u001b[0m\u001b[1;32m   1706\u001b[0m \u001b[0;34m\u001b[0m\u001b[0m\n\u001b[1;32m   1707\u001b[0m     def evaluate(self, x=None, y=None,\n",
      "\u001b[0;32m~/.conda/envs/atividade1/lib/python3.6/site-packages/keras/engine/training.py\u001b[0m in \u001b[0;36m_fit_loop\u001b[0;34m(self, f, ins, out_labels, batch_size, epochs, verbose, callbacks, val_f, val_ins, shuffle, callback_metrics, initial_epoch, steps_per_epoch, validation_steps)\u001b[0m\n\u001b[1;32m   1233\u001b[0m                         \u001b[0mins_batch\u001b[0m\u001b[0;34m[\u001b[0m\u001b[0mi\u001b[0m\u001b[0;34m]\u001b[0m \u001b[0;34m=\u001b[0m \u001b[0mins_batch\u001b[0m\u001b[0;34m[\u001b[0m\u001b[0mi\u001b[0m\u001b[0;34m]\u001b[0m\u001b[0;34m.\u001b[0m\u001b[0mtoarray\u001b[0m\u001b[0;34m(\u001b[0m\u001b[0;34m)\u001b[0m\u001b[0;34m\u001b[0m\u001b[0m\n\u001b[1;32m   1234\u001b[0m \u001b[0;34m\u001b[0m\u001b[0m\n\u001b[0;32m-> 1235\u001b[0;31m                     \u001b[0mouts\u001b[0m \u001b[0;34m=\u001b[0m \u001b[0mf\u001b[0m\u001b[0;34m(\u001b[0m\u001b[0mins_batch\u001b[0m\u001b[0;34m)\u001b[0m\u001b[0;34m\u001b[0m\u001b[0m\n\u001b[0m\u001b[1;32m   1236\u001b[0m                     \u001b[0;32mif\u001b[0m \u001b[0;32mnot\u001b[0m \u001b[0misinstance\u001b[0m\u001b[0;34m(\u001b[0m\u001b[0mouts\u001b[0m\u001b[0;34m,\u001b[0m \u001b[0mlist\u001b[0m\u001b[0;34m)\u001b[0m\u001b[0;34m:\u001b[0m\u001b[0;34m\u001b[0m\u001b[0m\n\u001b[1;32m   1237\u001b[0m                         \u001b[0mouts\u001b[0m \u001b[0;34m=\u001b[0m \u001b[0;34m[\u001b[0m\u001b[0mouts\u001b[0m\u001b[0;34m]\u001b[0m\u001b[0;34m\u001b[0m\u001b[0m\n",
      "\u001b[0;32m~/.conda/envs/atividade1/lib/python3.6/site-packages/keras/backend/tensorflow_backend.py\u001b[0m in \u001b[0;36m__call__\u001b[0;34m(self, inputs)\u001b[0m\n\u001b[1;32m   2476\u001b[0m         \u001b[0msession\u001b[0m \u001b[0;34m=\u001b[0m \u001b[0mget_session\u001b[0m\u001b[0;34m(\u001b[0m\u001b[0;34m)\u001b[0m\u001b[0;34m\u001b[0m\u001b[0m\n\u001b[1;32m   2477\u001b[0m         updated = session.run(fetches=fetches, feed_dict=feed_dict,\n\u001b[0;32m-> 2478\u001b[0;31m                               **self.session_kwargs)\n\u001b[0m\u001b[1;32m   2479\u001b[0m         \u001b[0;32mreturn\u001b[0m \u001b[0mupdated\u001b[0m\u001b[0;34m[\u001b[0m\u001b[0;34m:\u001b[0m\u001b[0mlen\u001b[0m\u001b[0;34m(\u001b[0m\u001b[0mself\u001b[0m\u001b[0;34m.\u001b[0m\u001b[0moutputs\u001b[0m\u001b[0;34m)\u001b[0m\u001b[0;34m]\u001b[0m\u001b[0;34m\u001b[0m\u001b[0m\n\u001b[1;32m   2480\u001b[0m \u001b[0;34m\u001b[0m\u001b[0m\n",
      "\u001b[0;32m~/.conda/envs/atividade1/lib/python3.6/site-packages/tensorflow/python/client/session.py\u001b[0m in \u001b[0;36mrun\u001b[0;34m(self, fetches, feed_dict, options, run_metadata)\u001b[0m\n\u001b[1;32m    903\u001b[0m     \u001b[0;32mtry\u001b[0m\u001b[0;34m:\u001b[0m\u001b[0;34m\u001b[0m\u001b[0m\n\u001b[1;32m    904\u001b[0m       result = self._run(None, fetches, feed_dict, options_ptr,\n\u001b[0;32m--> 905\u001b[0;31m                          run_metadata_ptr)\n\u001b[0m\u001b[1;32m    906\u001b[0m       \u001b[0;32mif\u001b[0m \u001b[0mrun_metadata\u001b[0m\u001b[0;34m:\u001b[0m\u001b[0;34m\u001b[0m\u001b[0m\n\u001b[1;32m    907\u001b[0m         \u001b[0mproto_data\u001b[0m \u001b[0;34m=\u001b[0m \u001b[0mtf_session\u001b[0m\u001b[0;34m.\u001b[0m\u001b[0mTF_GetBuffer\u001b[0m\u001b[0;34m(\u001b[0m\u001b[0mrun_metadata_ptr\u001b[0m\u001b[0;34m)\u001b[0m\u001b[0;34m\u001b[0m\u001b[0m\n",
      "\u001b[0;32m~/.conda/envs/atividade1/lib/python3.6/site-packages/tensorflow/python/client/session.py\u001b[0m in \u001b[0;36m_run\u001b[0;34m(self, handle, fetches, feed_dict, options, run_metadata)\u001b[0m\n\u001b[1;32m   1135\u001b[0m     \u001b[0;32mif\u001b[0m \u001b[0mfinal_fetches\u001b[0m \u001b[0;32mor\u001b[0m \u001b[0mfinal_targets\u001b[0m \u001b[0;32mor\u001b[0m \u001b[0;34m(\u001b[0m\u001b[0mhandle\u001b[0m \u001b[0;32mand\u001b[0m \u001b[0mfeed_dict_tensor\u001b[0m\u001b[0;34m)\u001b[0m\u001b[0;34m:\u001b[0m\u001b[0;34m\u001b[0m\u001b[0m\n\u001b[1;32m   1136\u001b[0m       results = self._do_run(handle, final_targets, final_fetches,\n\u001b[0;32m-> 1137\u001b[0;31m                              feed_dict_tensor, options, run_metadata)\n\u001b[0m\u001b[1;32m   1138\u001b[0m     \u001b[0;32melse\u001b[0m\u001b[0;34m:\u001b[0m\u001b[0;34m\u001b[0m\u001b[0m\n\u001b[1;32m   1139\u001b[0m       \u001b[0mresults\u001b[0m \u001b[0;34m=\u001b[0m \u001b[0;34m[\u001b[0m\u001b[0;34m]\u001b[0m\u001b[0;34m\u001b[0m\u001b[0m\n",
      "\u001b[0;32m~/.conda/envs/atividade1/lib/python3.6/site-packages/tensorflow/python/client/session.py\u001b[0m in \u001b[0;36m_do_run\u001b[0;34m(self, handle, target_list, fetch_list, feed_dict, options, run_metadata)\u001b[0m\n\u001b[1;32m   1353\u001b[0m     \u001b[0;32mif\u001b[0m \u001b[0mhandle\u001b[0m \u001b[0;32mis\u001b[0m \u001b[0;32mNone\u001b[0m\u001b[0;34m:\u001b[0m\u001b[0;34m\u001b[0m\u001b[0m\n\u001b[1;32m   1354\u001b[0m       return self._do_call(_run_fn, self._session, feeds, fetches, targets,\n\u001b[0;32m-> 1355\u001b[0;31m                            options, run_metadata)\n\u001b[0m\u001b[1;32m   1356\u001b[0m     \u001b[0;32melse\u001b[0m\u001b[0;34m:\u001b[0m\u001b[0;34m\u001b[0m\u001b[0m\n\u001b[1;32m   1357\u001b[0m       \u001b[0;32mreturn\u001b[0m \u001b[0mself\u001b[0m\u001b[0;34m.\u001b[0m\u001b[0m_do_call\u001b[0m\u001b[0;34m(\u001b[0m\u001b[0m_prun_fn\u001b[0m\u001b[0;34m,\u001b[0m \u001b[0mself\u001b[0m\u001b[0;34m.\u001b[0m\u001b[0m_session\u001b[0m\u001b[0;34m,\u001b[0m \u001b[0mhandle\u001b[0m\u001b[0;34m,\u001b[0m \u001b[0mfeeds\u001b[0m\u001b[0;34m,\u001b[0m \u001b[0mfetches\u001b[0m\u001b[0;34m)\u001b[0m\u001b[0;34m\u001b[0m\u001b[0m\n",
      "\u001b[0;32m~/.conda/envs/atividade1/lib/python3.6/site-packages/tensorflow/python/client/session.py\u001b[0m in \u001b[0;36m_do_call\u001b[0;34m(self, fn, *args)\u001b[0m\n\u001b[1;32m   1359\u001b[0m   \u001b[0;32mdef\u001b[0m \u001b[0m_do_call\u001b[0m\u001b[0;34m(\u001b[0m\u001b[0mself\u001b[0m\u001b[0;34m,\u001b[0m \u001b[0mfn\u001b[0m\u001b[0;34m,\u001b[0m \u001b[0;34m*\u001b[0m\u001b[0margs\u001b[0m\u001b[0;34m)\u001b[0m\u001b[0;34m:\u001b[0m\u001b[0;34m\u001b[0m\u001b[0m\n\u001b[1;32m   1360\u001b[0m     \u001b[0;32mtry\u001b[0m\u001b[0;34m:\u001b[0m\u001b[0;34m\u001b[0m\u001b[0m\n\u001b[0;32m-> 1361\u001b[0;31m       \u001b[0;32mreturn\u001b[0m \u001b[0mfn\u001b[0m\u001b[0;34m(\u001b[0m\u001b[0;34m*\u001b[0m\u001b[0margs\u001b[0m\u001b[0;34m)\u001b[0m\u001b[0;34m\u001b[0m\u001b[0m\n\u001b[0m\u001b[1;32m   1362\u001b[0m     \u001b[0;32mexcept\u001b[0m \u001b[0merrors\u001b[0m\u001b[0;34m.\u001b[0m\u001b[0mOpError\u001b[0m \u001b[0;32mas\u001b[0m \u001b[0me\u001b[0m\u001b[0;34m:\u001b[0m\u001b[0;34m\u001b[0m\u001b[0m\n\u001b[1;32m   1363\u001b[0m       \u001b[0mmessage\u001b[0m \u001b[0;34m=\u001b[0m \u001b[0mcompat\u001b[0m\u001b[0;34m.\u001b[0m\u001b[0mas_text\u001b[0m\u001b[0;34m(\u001b[0m\u001b[0me\u001b[0m\u001b[0;34m.\u001b[0m\u001b[0mmessage\u001b[0m\u001b[0;34m)\u001b[0m\u001b[0;34m\u001b[0m\u001b[0m\n",
      "\u001b[0;32m~/.conda/envs/atividade1/lib/python3.6/site-packages/tensorflow/python/client/session.py\u001b[0m in \u001b[0;36m_run_fn\u001b[0;34m(session, feed_dict, fetch_list, target_list, options, run_metadata)\u001b[0m\n\u001b[1;32m   1338\u001b[0m         \u001b[0;32melse\u001b[0m\u001b[0;34m:\u001b[0m\u001b[0;34m\u001b[0m\u001b[0m\n\u001b[1;32m   1339\u001b[0m           return tf_session.TF_Run(session, options, feed_dict, fetch_list,\n\u001b[0;32m-> 1340\u001b[0;31m                                    target_list, status, run_metadata)\n\u001b[0m\u001b[1;32m   1341\u001b[0m \u001b[0;34m\u001b[0m\u001b[0m\n\u001b[1;32m   1342\u001b[0m     \u001b[0;32mdef\u001b[0m \u001b[0m_prun_fn\u001b[0m\u001b[0;34m(\u001b[0m\u001b[0msession\u001b[0m\u001b[0;34m,\u001b[0m \u001b[0mhandle\u001b[0m\u001b[0;34m,\u001b[0m \u001b[0mfeed_dict\u001b[0m\u001b[0;34m,\u001b[0m \u001b[0mfetch_list\u001b[0m\u001b[0;34m)\u001b[0m\u001b[0;34m:\u001b[0m\u001b[0;34m\u001b[0m\u001b[0m\n",
      "\u001b[0;31mKeyboardInterrupt\u001b[0m: "
     ]
    }
   ],
   "source": [
    "net_7 = NeuralNetwork(dim_x*dim_y ,[50, 10], 2*[sig_func], \"l1_l2\", 0.01) # 99.07% - treino / 96.96% - teste\n",
    "data_7 = net_7.fit(dataset, \"mini-batch\", 100, lr_ = 0.8, type = \"class\", mini_batch_size = 60, \n",
    "                   tvt_ratio = [len(norm_input_train), 0, len(norm_input_test)], momentum_ = 0.9, print_info = True)"
   ]
  },
  {
   "cell_type": "code",
   "execution_count": null,
   "metadata": {},
   "outputs": [],
   "source": [
    "plot_graph(data_7, \"Numbers\", \"Epoch\", \"Error\", figsizex = 16, figsizey = 8)"
   ]
  },
  {
   "cell_type": "markdown",
   "metadata": {},
   "source": [
    "#### 4 - Rede Neural 9"
   ]
  },
  {
   "cell_type": "code",
   "execution_count": 27,
   "metadata": {
    "scrolled": true
   },
   "outputs": [
    {
     "name": "stdout",
     "output_type": "stream",
     "text": [
      "Epoch 1/100\n",
      "60000/60000 [==============================] - 11s 192us/step - loss: 128.7199 - categorical_accuracy: 0.1023\n",
      "Epoch 2/100\n",
      "60000/60000 [==============================] - 11s 180us/step - loss: 129.2923 - categorical_accuracy: 0.1033\n",
      "Epoch 3/100\n",
      " 5280/60000 [=>............................] - ETA: 13s - loss: 129.8176 - categorical_accuracy: 0.1055"
     ]
    },
    {
     "ename": "KeyboardInterrupt",
     "evalue": "",
     "output_type": "error",
     "traceback": [
      "\u001b[0;31m---------------------------------------------------------------------------\u001b[0m",
      "\u001b[0;31mKeyboardInterrupt\u001b[0m                         Traceback (most recent call last)",
      "\u001b[0;32m<ipython-input-27-e0129ad60f9b>\u001b[0m in \u001b[0;36m<module>\u001b[0;34m()\u001b[0m\n\u001b[1;32m      1\u001b[0m \u001b[0mnet_9\u001b[0m \u001b[0;34m=\u001b[0m \u001b[0mNeuralNetwork\u001b[0m\u001b[0;34m(\u001b[0m\u001b[0mdim_x\u001b[0m\u001b[0;34m*\u001b[0m\u001b[0mdim_y\u001b[0m \u001b[0;34m,\u001b[0m\u001b[0;34m[\u001b[0m\u001b[0;36m30\u001b[0m\u001b[0;34m,\u001b[0m \u001b[0;36m20\u001b[0m\u001b[0;34m,\u001b[0m \u001b[0;36m10\u001b[0m\u001b[0;34m]\u001b[0m\u001b[0;34m,\u001b[0m \u001b[0;36m3\u001b[0m\u001b[0;34m*\u001b[0m\u001b[0;34m[\u001b[0m\u001b[0msig_func\u001b[0m\u001b[0;34m]\u001b[0m\u001b[0;34m,\u001b[0m \u001b[0;34m\"l1\"\u001b[0m\u001b[0;34m,\u001b[0m \u001b[0;36m0.1\u001b[0m\u001b[0;34m)\u001b[0m \u001b[0;31m# 99.23% - treino / 96.24% - teste\u001b[0m\u001b[0;34m\u001b[0m\u001b[0m\n\u001b[1;32m      2\u001b[0m data_9 = net_9.fit(dataset, \"mini-batch\", 100, lr_ = 0.8, type = \"class\", mini_batch_size = 60, \n\u001b[0;32m----> 3\u001b[0;31m                    tvt_ratio = [len(norm_input_train), 0, len(norm_input_test)], momentum_ = 0.9, print_info = True)\n\u001b[0m",
      "\u001b[0;32m~/.conda/envs/atividade1/Deep-learning/src/neural_network.py\u001b[0m in \u001b[0;36mfit\u001b[0;34m(self, data_set, training_type, num_epoch, mini_batch_size, tvt_ratio, type, print_info, loss_, opt, lr_, momentum_, decay_, rho_, epsilon_, beta_1_, beta_2_, schedule_decay_)\u001b[0m\n\u001b[1;32m    134\u001b[0m                                                           \u001b[0mverbose\u001b[0m \u001b[0;34m=\u001b[0m \u001b[0mverb\u001b[0m\u001b[0;34m,\u001b[0m\u001b[0;34m\u001b[0m\u001b[0m\n\u001b[1;32m    135\u001b[0m                                                           \u001b[0mvalidation_data\u001b[0m \u001b[0;34m=\u001b[0m \u001b[0mval_data\u001b[0m\u001b[0;34m,\u001b[0m\u001b[0;34m\u001b[0m\u001b[0m\n\u001b[0;32m--> 136\u001b[0;31m \t\t\t\t\t\t\t  shuffle = True )\n\u001b[0m\u001b[1;32m    137\u001b[0m \u001b[0;34m\u001b[0m\u001b[0m\n\u001b[1;32m    138\u001b[0m                 \u001b[0;32mif\u001b[0m \u001b[0mtest_set_size\u001b[0m \u001b[0;34m>\u001b[0m \u001b[0;36m0\u001b[0m\u001b[0;34m:\u001b[0m\u001b[0;34m\u001b[0m\u001b[0m\n",
      "\u001b[0;32m~/.conda/envs/atividade1/lib/python3.6/site-packages/keras/models.py\u001b[0m in \u001b[0;36mfit\u001b[0;34m(self, x, y, batch_size, epochs, verbose, callbacks, validation_split, validation_data, shuffle, class_weight, sample_weight, initial_epoch, steps_per_epoch, validation_steps, **kwargs)\u001b[0m\n\u001b[1;32m    961\u001b[0m                               \u001b[0minitial_epoch\u001b[0m\u001b[0;34m=\u001b[0m\u001b[0minitial_epoch\u001b[0m\u001b[0;34m,\u001b[0m\u001b[0;34m\u001b[0m\u001b[0m\n\u001b[1;32m    962\u001b[0m                               \u001b[0msteps_per_epoch\u001b[0m\u001b[0;34m=\u001b[0m\u001b[0msteps_per_epoch\u001b[0m\u001b[0;34m,\u001b[0m\u001b[0;34m\u001b[0m\u001b[0m\n\u001b[0;32m--> 963\u001b[0;31m                               validation_steps=validation_steps)\n\u001b[0m\u001b[1;32m    964\u001b[0m \u001b[0;34m\u001b[0m\u001b[0m\n\u001b[1;32m    965\u001b[0m     def evaluate(self, x=None, y=None,\n",
      "\u001b[0;32m~/.conda/envs/atividade1/lib/python3.6/site-packages/keras/engine/training.py\u001b[0m in \u001b[0;36mfit\u001b[0;34m(self, x, y, batch_size, epochs, verbose, callbacks, validation_split, validation_data, shuffle, class_weight, sample_weight, initial_epoch, steps_per_epoch, validation_steps, **kwargs)\u001b[0m\n\u001b[1;32m   1703\u001b[0m                               \u001b[0minitial_epoch\u001b[0m\u001b[0;34m=\u001b[0m\u001b[0minitial_epoch\u001b[0m\u001b[0;34m,\u001b[0m\u001b[0;34m\u001b[0m\u001b[0m\n\u001b[1;32m   1704\u001b[0m                               \u001b[0msteps_per_epoch\u001b[0m\u001b[0;34m=\u001b[0m\u001b[0msteps_per_epoch\u001b[0m\u001b[0;34m,\u001b[0m\u001b[0;34m\u001b[0m\u001b[0m\n\u001b[0;32m-> 1705\u001b[0;31m                               validation_steps=validation_steps)\n\u001b[0m\u001b[1;32m   1706\u001b[0m \u001b[0;34m\u001b[0m\u001b[0m\n\u001b[1;32m   1707\u001b[0m     def evaluate(self, x=None, y=None,\n",
      "\u001b[0;32m~/.conda/envs/atividade1/lib/python3.6/site-packages/keras/engine/training.py\u001b[0m in \u001b[0;36m_fit_loop\u001b[0;34m(self, f, ins, out_labels, batch_size, epochs, verbose, callbacks, val_f, val_ins, shuffle, callback_metrics, initial_epoch, steps_per_epoch, validation_steps)\u001b[0m\n\u001b[1;32m   1233\u001b[0m                         \u001b[0mins_batch\u001b[0m\u001b[0;34m[\u001b[0m\u001b[0mi\u001b[0m\u001b[0;34m]\u001b[0m \u001b[0;34m=\u001b[0m \u001b[0mins_batch\u001b[0m\u001b[0;34m[\u001b[0m\u001b[0mi\u001b[0m\u001b[0;34m]\u001b[0m\u001b[0;34m.\u001b[0m\u001b[0mtoarray\u001b[0m\u001b[0;34m(\u001b[0m\u001b[0;34m)\u001b[0m\u001b[0;34m\u001b[0m\u001b[0m\n\u001b[1;32m   1234\u001b[0m \u001b[0;34m\u001b[0m\u001b[0m\n\u001b[0;32m-> 1235\u001b[0;31m                     \u001b[0mouts\u001b[0m \u001b[0;34m=\u001b[0m \u001b[0mf\u001b[0m\u001b[0;34m(\u001b[0m\u001b[0mins_batch\u001b[0m\u001b[0;34m)\u001b[0m\u001b[0;34m\u001b[0m\u001b[0m\n\u001b[0m\u001b[1;32m   1236\u001b[0m                     \u001b[0;32mif\u001b[0m \u001b[0;32mnot\u001b[0m \u001b[0misinstance\u001b[0m\u001b[0;34m(\u001b[0m\u001b[0mouts\u001b[0m\u001b[0;34m,\u001b[0m \u001b[0mlist\u001b[0m\u001b[0;34m)\u001b[0m\u001b[0;34m:\u001b[0m\u001b[0;34m\u001b[0m\u001b[0m\n\u001b[1;32m   1237\u001b[0m                         \u001b[0mouts\u001b[0m \u001b[0;34m=\u001b[0m \u001b[0;34m[\u001b[0m\u001b[0mouts\u001b[0m\u001b[0;34m]\u001b[0m\u001b[0;34m\u001b[0m\u001b[0m\n",
      "\u001b[0;32m~/.conda/envs/atividade1/lib/python3.6/site-packages/keras/backend/tensorflow_backend.py\u001b[0m in \u001b[0;36m__call__\u001b[0;34m(self, inputs)\u001b[0m\n\u001b[1;32m   2476\u001b[0m         \u001b[0msession\u001b[0m \u001b[0;34m=\u001b[0m \u001b[0mget_session\u001b[0m\u001b[0;34m(\u001b[0m\u001b[0;34m)\u001b[0m\u001b[0;34m\u001b[0m\u001b[0m\n\u001b[1;32m   2477\u001b[0m         updated = session.run(fetches=fetches, feed_dict=feed_dict,\n\u001b[0;32m-> 2478\u001b[0;31m                               **self.session_kwargs)\n\u001b[0m\u001b[1;32m   2479\u001b[0m         \u001b[0;32mreturn\u001b[0m \u001b[0mupdated\u001b[0m\u001b[0;34m[\u001b[0m\u001b[0;34m:\u001b[0m\u001b[0mlen\u001b[0m\u001b[0;34m(\u001b[0m\u001b[0mself\u001b[0m\u001b[0;34m.\u001b[0m\u001b[0moutputs\u001b[0m\u001b[0;34m)\u001b[0m\u001b[0;34m]\u001b[0m\u001b[0;34m\u001b[0m\u001b[0m\n\u001b[1;32m   2480\u001b[0m \u001b[0;34m\u001b[0m\u001b[0m\n",
      "\u001b[0;32m~/.conda/envs/atividade1/lib/python3.6/site-packages/tensorflow/python/client/session.py\u001b[0m in \u001b[0;36mrun\u001b[0;34m(self, fetches, feed_dict, options, run_metadata)\u001b[0m\n\u001b[1;32m    903\u001b[0m     \u001b[0;32mtry\u001b[0m\u001b[0;34m:\u001b[0m\u001b[0;34m\u001b[0m\u001b[0m\n\u001b[1;32m    904\u001b[0m       result = self._run(None, fetches, feed_dict, options_ptr,\n\u001b[0;32m--> 905\u001b[0;31m                          run_metadata_ptr)\n\u001b[0m\u001b[1;32m    906\u001b[0m       \u001b[0;32mif\u001b[0m \u001b[0mrun_metadata\u001b[0m\u001b[0;34m:\u001b[0m\u001b[0;34m\u001b[0m\u001b[0m\n\u001b[1;32m    907\u001b[0m         \u001b[0mproto_data\u001b[0m \u001b[0;34m=\u001b[0m \u001b[0mtf_session\u001b[0m\u001b[0;34m.\u001b[0m\u001b[0mTF_GetBuffer\u001b[0m\u001b[0;34m(\u001b[0m\u001b[0mrun_metadata_ptr\u001b[0m\u001b[0;34m)\u001b[0m\u001b[0;34m\u001b[0m\u001b[0m\n",
      "\u001b[0;32m~/.conda/envs/atividade1/lib/python3.6/site-packages/tensorflow/python/client/session.py\u001b[0m in \u001b[0;36m_run\u001b[0;34m(self, handle, fetches, feed_dict, options, run_metadata)\u001b[0m\n\u001b[1;32m   1135\u001b[0m     \u001b[0;32mif\u001b[0m \u001b[0mfinal_fetches\u001b[0m \u001b[0;32mor\u001b[0m \u001b[0mfinal_targets\u001b[0m \u001b[0;32mor\u001b[0m \u001b[0;34m(\u001b[0m\u001b[0mhandle\u001b[0m \u001b[0;32mand\u001b[0m \u001b[0mfeed_dict_tensor\u001b[0m\u001b[0;34m)\u001b[0m\u001b[0;34m:\u001b[0m\u001b[0;34m\u001b[0m\u001b[0m\n\u001b[1;32m   1136\u001b[0m       results = self._do_run(handle, final_targets, final_fetches,\n\u001b[0;32m-> 1137\u001b[0;31m                              feed_dict_tensor, options, run_metadata)\n\u001b[0m\u001b[1;32m   1138\u001b[0m     \u001b[0;32melse\u001b[0m\u001b[0;34m:\u001b[0m\u001b[0;34m\u001b[0m\u001b[0m\n\u001b[1;32m   1139\u001b[0m       \u001b[0mresults\u001b[0m \u001b[0;34m=\u001b[0m \u001b[0;34m[\u001b[0m\u001b[0;34m]\u001b[0m\u001b[0;34m\u001b[0m\u001b[0m\n",
      "\u001b[0;32m~/.conda/envs/atividade1/lib/python3.6/site-packages/tensorflow/python/client/session.py\u001b[0m in \u001b[0;36m_do_run\u001b[0;34m(self, handle, target_list, fetch_list, feed_dict, options, run_metadata)\u001b[0m\n\u001b[1;32m   1353\u001b[0m     \u001b[0;32mif\u001b[0m \u001b[0mhandle\u001b[0m \u001b[0;32mis\u001b[0m \u001b[0;32mNone\u001b[0m\u001b[0;34m:\u001b[0m\u001b[0;34m\u001b[0m\u001b[0m\n\u001b[1;32m   1354\u001b[0m       return self._do_call(_run_fn, self._session, feeds, fetches, targets,\n\u001b[0;32m-> 1355\u001b[0;31m                            options, run_metadata)\n\u001b[0m\u001b[1;32m   1356\u001b[0m     \u001b[0;32melse\u001b[0m\u001b[0;34m:\u001b[0m\u001b[0;34m\u001b[0m\u001b[0m\n\u001b[1;32m   1357\u001b[0m       \u001b[0;32mreturn\u001b[0m \u001b[0mself\u001b[0m\u001b[0;34m.\u001b[0m\u001b[0m_do_call\u001b[0m\u001b[0;34m(\u001b[0m\u001b[0m_prun_fn\u001b[0m\u001b[0;34m,\u001b[0m \u001b[0mself\u001b[0m\u001b[0;34m.\u001b[0m\u001b[0m_session\u001b[0m\u001b[0;34m,\u001b[0m \u001b[0mhandle\u001b[0m\u001b[0;34m,\u001b[0m \u001b[0mfeeds\u001b[0m\u001b[0;34m,\u001b[0m \u001b[0mfetches\u001b[0m\u001b[0;34m)\u001b[0m\u001b[0;34m\u001b[0m\u001b[0m\n",
      "\u001b[0;32m~/.conda/envs/atividade1/lib/python3.6/site-packages/tensorflow/python/client/session.py\u001b[0m in \u001b[0;36m_do_call\u001b[0;34m(self, fn, *args)\u001b[0m\n\u001b[1;32m   1359\u001b[0m   \u001b[0;32mdef\u001b[0m \u001b[0m_do_call\u001b[0m\u001b[0;34m(\u001b[0m\u001b[0mself\u001b[0m\u001b[0;34m,\u001b[0m \u001b[0mfn\u001b[0m\u001b[0;34m,\u001b[0m \u001b[0;34m*\u001b[0m\u001b[0margs\u001b[0m\u001b[0;34m)\u001b[0m\u001b[0;34m:\u001b[0m\u001b[0;34m\u001b[0m\u001b[0m\n\u001b[1;32m   1360\u001b[0m     \u001b[0;32mtry\u001b[0m\u001b[0;34m:\u001b[0m\u001b[0;34m\u001b[0m\u001b[0m\n\u001b[0;32m-> 1361\u001b[0;31m       \u001b[0;32mreturn\u001b[0m \u001b[0mfn\u001b[0m\u001b[0;34m(\u001b[0m\u001b[0;34m*\u001b[0m\u001b[0margs\u001b[0m\u001b[0;34m)\u001b[0m\u001b[0;34m\u001b[0m\u001b[0m\n\u001b[0m\u001b[1;32m   1362\u001b[0m     \u001b[0;32mexcept\u001b[0m \u001b[0merrors\u001b[0m\u001b[0;34m.\u001b[0m\u001b[0mOpError\u001b[0m \u001b[0;32mas\u001b[0m \u001b[0me\u001b[0m\u001b[0;34m:\u001b[0m\u001b[0;34m\u001b[0m\u001b[0m\n\u001b[1;32m   1363\u001b[0m       \u001b[0mmessage\u001b[0m \u001b[0;34m=\u001b[0m \u001b[0mcompat\u001b[0m\u001b[0;34m.\u001b[0m\u001b[0mas_text\u001b[0m\u001b[0;34m(\u001b[0m\u001b[0me\u001b[0m\u001b[0;34m.\u001b[0m\u001b[0mmessage\u001b[0m\u001b[0;34m)\u001b[0m\u001b[0;34m\u001b[0m\u001b[0m\n",
      "\u001b[0;32m~/.conda/envs/atividade1/lib/python3.6/site-packages/tensorflow/python/client/session.py\u001b[0m in \u001b[0;36m_run_fn\u001b[0;34m(session, feed_dict, fetch_list, target_list, options, run_metadata)\u001b[0m\n\u001b[1;32m   1338\u001b[0m         \u001b[0;32melse\u001b[0m\u001b[0;34m:\u001b[0m\u001b[0;34m\u001b[0m\u001b[0m\n\u001b[1;32m   1339\u001b[0m           return tf_session.TF_Run(session, options, feed_dict, fetch_list,\n\u001b[0;32m-> 1340\u001b[0;31m                                    target_list, status, run_metadata)\n\u001b[0m\u001b[1;32m   1341\u001b[0m \u001b[0;34m\u001b[0m\u001b[0m\n\u001b[1;32m   1342\u001b[0m     \u001b[0;32mdef\u001b[0m \u001b[0m_prun_fn\u001b[0m\u001b[0;34m(\u001b[0m\u001b[0msession\u001b[0m\u001b[0;34m,\u001b[0m \u001b[0mhandle\u001b[0m\u001b[0;34m,\u001b[0m \u001b[0mfeed_dict\u001b[0m\u001b[0;34m,\u001b[0m \u001b[0mfetch_list\u001b[0m\u001b[0;34m)\u001b[0m\u001b[0;34m:\u001b[0m\u001b[0;34m\u001b[0m\u001b[0m\n",
      "\u001b[0;31mKeyboardInterrupt\u001b[0m: "
     ]
    }
   ],
   "source": [
    "net_9 = NeuralNetwork(dim_x*dim_y ,[30, 20, 10], 3*[sig_func], \"l1\", 0.1) # 99.23% - treino / 96.24% - teste\n",
    "data_9 = net_9.fit(dataset, \"mini-batch\", 100, lr_ = 0.8, type = \"class\", mini_batch_size = 60, \n",
    "                   tvt_ratio = [len(norm_input_train), 0, len(norm_input_test)], momentum_ = 0.9, print_info = True)"
   ]
  },
  {
   "cell_type": "code",
   "execution_count": 9,
   "metadata": {
    "collapsed": true
   },
   "outputs": [
    {
     "data": {
      "image/png": "[encoded data removed]",
      "text/plain": [
       "<matplotlib.figure.Figure at 0x7f1efe8d1908>"
      ]
     },
     "metadata": {},
     "output_type": "display_data"
    }
   ],
   "source": [
    "plot_graph(data_9, \"Numbers\", \"Epoch\", \"Error\", figsizex = 16, figsizey = 8)"
   ]
  },
  {
   "cell_type": "code",
   "execution_count": null,
   "metadata": {},
   "outputs": [],
   "source": []
  }
 ],
 "metadata": {
  "kernelspec": {
   "display_name": "Python 3",
   "language": "python",
   "name": "python3"
  },
  "language_info": {
   "codemirror_mode": {
    "name": "ipython",
    "version": 3
   },
   "file_extension": ".py",
   "mimetype": "text/x-python",
   "name": "python",
   "nbconvert_exporter": "python",
   "pygments_lexer": "ipython3",
   "version": "3.6.4"
  }
 },
 "nbformat": 4,
 "nbformat_minor": 2
}
