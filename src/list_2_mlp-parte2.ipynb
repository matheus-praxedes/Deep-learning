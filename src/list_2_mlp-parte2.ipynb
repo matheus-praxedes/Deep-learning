{
 "cells": [
  {
   "cell_type": "code",
   "execution_count": 2,
   "metadata": {},
   "outputs": [
    {
     "name": "stderr",
     "output_type": "stream",
     "text": [
      "/home/xeds/.conda/envs/atividade1/lib/python3.6/site-packages/h5py/__init__.py:36: FutureWarning: Conversion of the second argument of issubdtype from `float` to `np.floating` is deprecated. In future, it will be treated as `np.float64 == np.dtype(float).type`.\n",
      "  from ._conv import register_converters as _register_converters\n",
      "Using TensorFlow backend.\n"
     ]
    }
   ],
   "source": [
    "import numpy as np\n",
    "from data import Instance, DataSet\n",
    "from miscellaneous import initialize_data, plot_graph, plot_points\n",
    "from neural_network import NeuralNetwork\n",
    "from activation_function import *\n",
    "import matplotlib.pyplot as plt\n",
    "from keras.datasets import mnist\n",
    "from sklearn.metrics import confusion_matrix\n",
    "import seaborn as sns\n",
    "import warnings\n",
    "import itertools\n",
    "warnings.filterwarnings('ignore')\n",
    "import copy"
   ]
  },
  {
   "cell_type": "code",
   "execution_count": 3,
   "metadata": {},
   "outputs": [],
   "source": [
    "def plot_confusion_matrix(cm, classes,\n",
    "                          normalize=False,\n",
    "                          title='Confusion matrix',\n",
    "                          cmap=plt.cm.Blues):\n",
    "\n",
    "    plt.imshow(cm, interpolation='nearest', cmap=cmap)\n",
    "    plt.title(title)\n",
    "    tick_marks = np.arange(len(classes))\n",
    "    plt.xticks(tick_marks, classes, rotation=45)\n",
    "    plt.yticks(tick_marks, classes)\n",
    "\n",
    "    fmt = '.2f' if normalize else 'd'\n",
    "    thresh = cm.max() / 2.\n",
    "    for i, j in itertools.product(range(cm.shape[0]), range(cm.shape[1])):\n",
    "        plt.text(j, i, format(cm[i, j], fmt),\n",
    "                 horizontalalignment=\"center\",\n",
    "                 color=\"white\" if cm[i, j] > thresh else \"black\")\n",
    "\n",
    "    plt.tight_layout()\n",
    "    plt.ylabel('True label')\n",
    "    plt.xlabel('Predicted label')"
   ]
  },
  {
   "cell_type": "markdown",
   "metadata": {},
   "source": [
    "### Leitura do conjunto de dados"
   ]
  },
  {
   "cell_type": "code",
   "execution_count": 4,
   "metadata": {},
   "outputs": [],
   "source": [
    "(x_train, y_train), (x_test, y_test) = mnist.load_data()"
   ]
  },
  {
   "cell_type": "markdown",
   "metadata": {},
   "source": [
    "### Descobrindo o número de instâncias e as dimensões de cada uma"
   ]
  },
  {
   "cell_type": "code",
   "execution_count": 5,
   "metadata": {},
   "outputs": [],
   "source": [
    "num_instances, dim_x, dim_y = x_train.shape\n",
    "num_instances += x_test.shape[0]"
   ]
  },
  {
   "cell_type": "markdown",
   "metadata": {},
   "source": [
    "### Normalizando"
   ]
  },
  {
   "cell_type": "code",
   "execution_count": 6,
   "metadata": {},
   "outputs": [],
   "source": [
    "#Treinamento\n",
    "norm_input_train = [np.divide(i.astype(np.float32),255).flatten() for i in x_train]\n",
    "\n",
    "output_train = []\n",
    "y = 10*[0.0]\n",
    "\n",
    "for n in y_train:\n",
    "    y[n] = 1.0\n",
    "    output_train.append(copy.deepcopy(y))\n",
    "    y[n] = 0.0"
   ]
  },
  {
   "cell_type": "code",
   "execution_count": 7,
   "metadata": {},
   "outputs": [],
   "source": [
    "#Teste\n",
    "norm_input_test = [np.divide(i.astype(np.float32),255).flatten() for i in x_test]\n",
    "\n",
    "output_test = []\n",
    "y = 10*[0.0]\n",
    "\n",
    "for n in y_test:\n",
    "    y[n] = 1.0\n",
    "    output_test.append(copy.deepcopy(y))\n",
    "    y[n] = 0.0"
   ]
  },
  {
   "cell_type": "markdown",
   "metadata": {},
   "source": [
    "### Organizando o dataset para ser passado no padrão aceito pela rede neural"
   ]
  },
  {
   "cell_type": "code",
   "execution_count": 8,
   "metadata": {},
   "outputs": [],
   "source": [
    "dataset = DataSet() \n",
    "\n",
    "for i,j in zip(norm_input_train + norm_input_test, output_train + output_test):\n",
    "    dataset.add(Instance(i,j))"
   ]
  },
  {
   "cell_type": "markdown",
   "metadata": {},
   "source": [
    "### Regularização"
   ]
  },
  {
   "cell_type": "markdown",
   "metadata": {},
   "source": [
    "#### 1 - Rede Neural 2"
   ]
  },
  {
   "cell_type": "code",
   "execution_count": 8,
   "metadata": {
    "collapsed": true
   },
   "outputs": [
    {
     "name": "stdout",
     "output_type": "stream",
     "text": [
      "Epoch 1/50\n",
      "60000/60000 [==============================] - 4s 72us/step - loss: 0.1003 - categorical_accuracy: 0.7882\n",
      "Epoch 2/50\n",
      "60000/60000 [==============================] - 2s 33us/step - loss: 0.0502 - categorical_accuracy: 0.8441\n",
      "Epoch 3/50\n",
      "60000/60000 [==============================] - 2s 33us/step - loss: 0.0495 - categorical_accuracy: 0.8454\n",
      "Epoch 4/50\n",
      "60000/60000 [==============================] - 2s 35us/step - loss: 0.0495 - categorical_accuracy: 0.8448\n",
      "Epoch 5/50\n",
      "60000/60000 [==============================] - 2s 39us/step - loss: 0.0495 - categorical_accuracy: 0.8445\n",
      "Epoch 6/50\n",
      "60000/60000 [==============================] - 2s 36us/step - loss: 0.0495 - categorical_accuracy: 0.8451\n",
      "Epoch 7/50\n",
      "60000/60000 [==============================] - 2s 31us/step - loss: 0.0495 - categorical_accuracy: 0.8440\n",
      "Epoch 8/50\n",
      "60000/60000 [==============================] - 2s 30us/step - loss: 0.0495 - categorical_accuracy: 0.8449\n",
      "Epoch 9/50\n",
      "60000/60000 [==============================] - 2s 40us/step - loss: 0.0495 - categorical_accuracy: 0.8453\n",
      "Epoch 10/50\n",
      "60000/60000 [==============================] - 3s 44us/step - loss: 0.0495 - categorical_accuracy: 0.8430\n",
      "Epoch 11/50\n",
      "60000/60000 [==============================] - 2s 30us/step - loss: 0.0495 - categorical_accuracy: 0.8447\n",
      "Epoch 12/50\n",
      "60000/60000 [==============================] - 2s 31us/step - loss: 0.0495 - categorical_accuracy: 0.8446\n",
      "Epoch 13/50\n",
      "60000/60000 [==============================] - 2s 33us/step - loss: 0.0495 - categorical_accuracy: 0.8441\n",
      "Epoch 14/50\n",
      "60000/60000 [==============================] - 2s 31us/step - loss: 0.0495 - categorical_accuracy: 0.8441\n",
      "Epoch 15/50\n",
      "60000/60000 [==============================] - 2s 30us/step - loss: 0.0495 - categorical_accuracy: 0.8445\n",
      "Epoch 16/50\n",
      "60000/60000 [==============================] - 2s 33us/step - loss: 0.0495 - categorical_accuracy: 0.8445\n",
      "Epoch 17/50\n",
      "60000/60000 [==============================] - 2s 30us/step - loss: 0.0495 - categorical_accuracy: 0.8455\n",
      "Epoch 18/50\n",
      "60000/60000 [==============================] - 2s 33us/step - loss: 0.0495 - categorical_accuracy: 0.8438\n",
      "Epoch 19/50\n",
      "60000/60000 [==============================] - 2s 36us/step - loss: 0.0495 - categorical_accuracy: 0.8451\n",
      "Epoch 20/50\n",
      "60000/60000 [==============================] - 2s 34us/step - loss: 0.0495 - categorical_accuracy: 0.8450\n",
      "Epoch 21/50\n",
      "60000/60000 [==============================] - 3s 53us/step - loss: 0.0495 - categorical_accuracy: 0.8449\n",
      "Epoch 22/50\n",
      "60000/60000 [==============================] - 2s 38us/step - loss: 0.0495 - categorical_accuracy: 0.8439\n",
      "Epoch 23/50\n",
      "60000/60000 [==============================] - 2s 32us/step - loss: 0.0495 - categorical_accuracy: 0.8448\n",
      "Epoch 24/50\n",
      "60000/60000 [==============================] - 2s 37us/step - loss: 0.0495 - categorical_accuracy: 0.8446\n",
      "Epoch 25/50\n",
      "60000/60000 [==============================] - 2s 33us/step - loss: 0.0495 - categorical_accuracy: 0.8444 1s - l\n",
      "Epoch 26/50\n",
      "60000/60000 [==============================] - 3s 55us/step - loss: 0.0495 - categorical_accuracy: 0.8446\n",
      "Epoch 27/50\n",
      "60000/60000 [==============================] - 4s 64us/step - loss: 0.0495 - categorical_accuracy: 0.8436\n",
      "Epoch 28/50\n",
      "60000/60000 [==============================] - 3s 45us/step - loss: 0.0495 - categorical_accuracy: 0.8450\n",
      "Epoch 29/50\n",
      "60000/60000 [==============================] - 2s 41us/step - loss: 0.0495 - categorical_accuracy: 0.8459\n",
      "Epoch 30/50\n",
      "60000/60000 [==============================] - 2s 33us/step - loss: 0.0495 - categorical_accuracy: 0.8437\n",
      "Epoch 31/50\n",
      "60000/60000 [==============================] - 2s 36us/step - loss: 0.0495 - categorical_accuracy: 0.8453\n",
      "Epoch 32/50\n",
      "60000/60000 [==============================] - 2s 30us/step - loss: 0.0495 - categorical_accuracy: 0.8441\n",
      "Epoch 33/50\n",
      "60000/60000 [==============================] - 2s 31us/step - loss: 0.0495 - categorical_accuracy: 0.8455\n",
      "Epoch 34/50\n",
      "60000/60000 [==============================] - 2s 40us/step - loss: 0.0495 - categorical_accuracy: 0.8455\n",
      "Epoch 35/50\n",
      "60000/60000 [==============================] - 3s 54us/step - loss: 0.0495 - categorical_accuracy: 0.8454\n",
      "Epoch 36/50\n",
      "60000/60000 [==============================] - 2s 39us/step - loss: 0.0495 - categorical_accuracy: 0.8450\n",
      "Epoch 37/50\n",
      "60000/60000 [==============================] - 2s 30us/step - loss: 0.0495 - categorical_accuracy: 0.8453\n",
      "Epoch 38/50\n",
      "60000/60000 [==============================] - 2s 34us/step - loss: 0.0495 - categorical_accuracy: 0.8443\n",
      "Epoch 39/50\n",
      "60000/60000 [==============================] - 2s 30us/step - loss: 0.0495 - categorical_accuracy: 0.8444\n",
      "Epoch 40/50\n",
      "60000/60000 [==============================] - 2s 35us/step - loss: 0.0495 - categorical_accuracy: 0.8457\n",
      "Epoch 41/50\n",
      "60000/60000 [==============================] - 2s 32us/step - loss: 0.0495 - categorical_accuracy: 0.8456\n",
      "Epoch 42/50\n",
      "60000/60000 [==============================] - 2s 31us/step - loss: 0.0495 - categorical_accuracy: 0.8442\n",
      "Epoch 43/50\n",
      "60000/60000 [==============================] - 2s 31us/step - loss: 0.0495 - categorical_accuracy: 0.8442\n",
      "Epoch 44/50\n",
      "60000/60000 [==============================] - 2s 33us/step - loss: 0.0495 - categorical_accuracy: 0.8450\n",
      "Epoch 45/50\n",
      "60000/60000 [==============================] - 2s 34us/step - loss: 0.0495 - categorical_accuracy: 0.8444\n",
      "Epoch 46/50\n",
      "60000/60000 [==============================] - 2s 33us/step - loss: 0.0495 - categorical_accuracy: 0.8445\n",
      "Epoch 47/50\n",
      "60000/60000 [==============================] - 2s 33us/step - loss: 0.0495 - categorical_accuracy: 0.8445\n",
      "Epoch 48/50\n",
      "60000/60000 [==============================] - 2s 30us/step - loss: 0.0495 - categorical_accuracy: 0.8452\n",
      "Epoch 49/50\n",
      "60000/60000 [==============================] - 2s 33us/step - loss: 0.0495 - categorical_accuracy: 0.8445\n",
      "Epoch 50/50\n",
      "60000/60000 [==============================] - 2s 30us/step - loss: 0.0495 - categorical_accuracy: 0.8451\n",
      "10000/10000 [==============================] - 0s 20us/step\n",
      "[0.048763537801802155, 0.8591000013351441]\n"
     ]
    }
   ],
   "source": [
    "net_2 = NeuralNetwork(dim_x*dim_y ,[10], [tanh_func],\"l2\",0.01) # 84,51% - treino / 85,91% - teste\n",
    "data_2 = net_2.fit(dataset, \"mini-batch\", 50, lr_ = 0.1, type = \"class\", mini_batch_size = 60, \n",
    "                   tvt_ratio = [len(norm_input_train), 0, len(norm_input_test)], print_info = True)"
   ]
  },
  {
   "cell_type": "code",
   "execution_count": 9,
   "metadata": {
    "collapsed": true
   },
   "outputs": [
    {
     "data": {
      "image/png": "[encoded data removed]",
      "text/plain": [
       "<Figure size 1152x576 with 1 Axes>"
      ]
     },
     "metadata": {},
     "output_type": "display_data"
    }
   ],
   "source": [
    "plot_graph(data_2, \"Numbers\", \"Epoch\", \"Error\", figsizex = 16, figsizey = 8)"
   ]
  },
  {
   "cell_type": "code",
   "execution_count": 16,
   "metadata": {},
   "outputs": [
    {
     "data": {
      "image/png": "[encoded data removed]",
      "text/plain": [
       "<Figure size 432x288 with 1 Axes>"
      ]
     },
     "metadata": {},
     "output_type": "display_data"
    },
    {
     "name": "stdout",
     "output_type": "stream",
     "text": [
      "Test Accuracy:  85.91 %\n"
     ]
    }
   ],
   "source": [
    "correct = []\n",
    "predict = []\n",
    "for i in range(len(net_2.confusion_matrix)):\n",
    "    for j in range(len(net_2.confusion_matrix)):\n",
    "        correct = correct + net_2.confusion_matrix[i][j] * [i]\n",
    "        predict = predict + net_2.confusion_matrix[i][j] * [j]\n",
    "            \n",
    "mat = confusion_matrix(correct, predict)\n",
    "plot_confusion_matrix(mat, classes = [str(i) for i in range(0,10)], title = 'Confusion matrix')\n",
    "plt.show()\n",
    "\n",
    "correct_count = 0\n",
    "total_count = 0\n",
    "for i in range(len(net_2.confusion_matrix)):\n",
    "    for j in range(len(net_2.confusion_matrix)):\n",
    "        total_count += net_2.confusion_matrix[i][j]\n",
    "        if(i == j):\n",
    "            correct_count += net_2.confusion_matrix[i][j]\n",
    "\n",
    "print('Test Accuracy: ', correct_count/total_count * 100, '%')"
   ]
  },
  {
   "cell_type": "markdown",
   "metadata": {},
   "source": [
    "#### 2 - Rede Neural 3"
   ]
  },
  {
   "cell_type": "code",
   "execution_count": 17,
   "metadata": {
    "collapsed": true
   },
   "outputs": [
    {
     "name": "stdout",
     "output_type": "stream",
     "text": [
      "Epoch 1/50\n",
      "60000/60000 [==============================] - 3s 49us/step - loss: 0.3828 - categorical_accuracy: 0.8905\n",
      "Epoch 2/50\n",
      "60000/60000 [==============================] - 3s 42us/step - loss: 0.3074 - categorical_accuracy: 0.9129\n",
      "Epoch 3/50\n",
      "60000/60000 [==============================] - 2s 36us/step - loss: 0.2981 - categorical_accuracy: 0.9160\n",
      "Epoch 4/50\n",
      "60000/60000 [==============================] - 2s 35us/step - loss: 0.2911 - categorical_accuracy: 0.9176\n",
      "Epoch 5/50\n",
      "60000/60000 [==============================] - 2s 36us/step - loss: 0.2860 - categorical_accuracy: 0.9191\n",
      "Epoch 6/50\n",
      "60000/60000 [==============================] - 2s 34us/step - loss: 0.2842 - categorical_accuracy: 0.9198\n",
      "Epoch 7/50\n",
      "60000/60000 [==============================] - 3s 42us/step - loss: 0.2789 - categorical_accuracy: 0.9225\n",
      "Epoch 8/50\n",
      "60000/60000 [==============================] - 2s 36us/step - loss: 0.2768 - categorical_accuracy: 0.9217\n",
      "Epoch 9/50\n",
      "60000/60000 [==============================] - 2s 36us/step - loss: 0.2733 - categorical_accuracy: 0.9233\n",
      "Epoch 10/50\n",
      "60000/60000 [==============================] - 2s 35us/step - loss: 0.2725 - categorical_accuracy: 0.9226\n",
      "Epoch 11/50\n",
      "60000/60000 [==============================] - 2s 34us/step - loss: 0.2711 - categorical_accuracy: 0.9230\n",
      "Epoch 12/50\n",
      "60000/60000 [==============================] - 2s 33us/step - loss: 0.2701 - categorical_accuracy: 0.9243\n",
      "Epoch 13/50\n",
      "60000/60000 [==============================] - 2s 34us/step - loss: 0.2686 - categorical_accuracy: 0.9241\n",
      "Epoch 14/50\n",
      "60000/60000 [==============================] - 2s 37us/step - loss: 0.2681 - categorical_accuracy: 0.9241\n",
      "Epoch 15/50\n",
      "60000/60000 [==============================] - 3s 43us/step - loss: 0.2662 - categorical_accuracy: 0.9250 0s - loss: 0.2661 - cate\n",
      "Epoch 16/50\n",
      "60000/60000 [==============================] - 2s 37us/step - loss: 0.2655 - categorical_accuracy: 0.9252\n",
      "Epoch 17/50\n",
      "60000/60000 [==============================] - 3s 45us/step - loss: 0.2645 - categorical_accuracy: 0.9251\n",
      "Epoch 18/50\n",
      "60000/60000 [==============================] - 3s 44us/step - loss: 0.2626 - categorical_accuracy: 0.9263\n",
      "Epoch 19/50\n",
      "60000/60000 [==============================] - 2s 35us/step - loss: 0.2610 - categorical_accuracy: 0.9270\n",
      "Epoch 20/50\n",
      "60000/60000 [==============================] - 2s 36us/step - loss: 0.2612 - categorical_accuracy: 0.9263\n",
      "Epoch 21/50\n",
      "60000/60000 [==============================] - 2s 36us/step - loss: 0.2604 - categorical_accuracy: 0.9271\n",
      "Epoch 22/50\n",
      "60000/60000 [==============================] - 2s 35us/step - loss: 0.2594 - categorical_accuracy: 0.9260\n",
      "Epoch 23/50\n",
      "60000/60000 [==============================] - 3s 43us/step - loss: 0.2587 - categorical_accuracy: 0.9263\n",
      "Epoch 24/50\n",
      "60000/60000 [==============================] - 3s 43us/step - loss: 0.2580 - categorical_accuracy: 0.9269\n",
      "Epoch 25/50\n",
      "60000/60000 [==============================] - 2s 37us/step - loss: 0.2573 - categorical_accuracy: 0.9272\n",
      "Epoch 26/50\n",
      "60000/60000 [==============================] - 2s 33us/step - loss: 0.2571 - categorical_accuracy: 0.9260\n",
      "Epoch 27/50\n",
      "60000/60000 [==============================] - 2s 36us/step - loss: 0.2553 - categorical_accuracy: 0.9285\n",
      "Epoch 28/50\n",
      "60000/60000 [==============================] - 2s 37us/step - loss: 0.2559 - categorical_accuracy: 0.9269\n",
      "Epoch 29/50\n",
      "60000/60000 [==============================] - 2s 35us/step - loss: 0.2550 - categorical_accuracy: 0.9269\n",
      "Epoch 30/50\n",
      "60000/60000 [==============================] - 2s 36us/step - loss: 0.2549 - categorical_accuracy: 0.9274\n",
      "Epoch 31/50\n",
      "60000/60000 [==============================] - 2s 35us/step - loss: 0.2540 - categorical_accuracy: 0.9266\n",
      "Epoch 32/50\n",
      "60000/60000 [==============================] - 2s 38us/step - loss: 0.2545 - categorical_accuracy: 0.9266\n",
      "Epoch 33/50\n",
      "60000/60000 [==============================] - 2s 39us/step - loss: 0.2524 - categorical_accuracy: 0.9288\n",
      "Epoch 34/50\n",
      "60000/60000 [==============================] - 2s 36us/step - loss: 0.2520 - categorical_accuracy: 0.9283\n",
      "Epoch 35/50\n",
      "60000/60000 [==============================] - 2s 34us/step - loss: 0.2526 - categorical_accuracy: 0.9275\n",
      "Epoch 36/50\n",
      "60000/60000 [==============================] - 2s 34us/step - loss: 0.2516 - categorical_accuracy: 0.9274\n",
      "Epoch 37/50\n",
      "60000/60000 [==============================] - 2s 35us/step - loss: 0.2511 - categorical_accuracy: 0.9279\n",
      "Epoch 38/50\n",
      "60000/60000 [==============================] - 2s 32us/step - loss: 0.2514 - categorical_accuracy: 0.9286\n",
      "Epoch 39/50\n",
      "60000/60000 [==============================] - 2s 37us/step - loss: 0.2509 - categorical_accuracy: 0.9284\n",
      "Epoch 40/50\n",
      "60000/60000 [==============================] - 2s 39us/step - loss: 0.2505 - categorical_accuracy: 0.9285\n",
      "Epoch 41/50\n",
      "60000/60000 [==============================] - 2s 39us/step - loss: 0.2499 - categorical_accuracy: 0.9284\n",
      "Epoch 42/50\n",
      "60000/60000 [==============================] - 2s 39us/step - loss: 0.2510 - categorical_accuracy: 0.9286\n",
      "Epoch 43/50\n",
      "60000/60000 [==============================] - 2s 39us/step - loss: 0.2489 - categorical_accuracy: 0.9281\n",
      "Epoch 44/50\n",
      "60000/60000 [==============================] - 2s 39us/step - loss: 0.2492 - categorical_accuracy: 0.9280 0s - loss: 0.2492 - categorical_accuracy: 0.92\n",
      "Epoch 45/50\n",
      "60000/60000 [==============================] - 2s 37us/step - loss: 0.2490 - categorical_accuracy: 0.9288\n",
      "Epoch 46/50\n",
      "60000/60000 [==============================] - 2s 34us/step - loss: 0.2473 - categorical_accuracy: 0.9285\n",
      "Epoch 47/50\n",
      "60000/60000 [==============================] - 2s 33us/step - loss: 0.2478 - categorical_accuracy: 0.9292\n",
      "Epoch 48/50\n",
      "60000/60000 [==============================] - 2s 34us/step - loss: 0.2478 - categorical_accuracy: 0.9285\n",
      "Epoch 49/50\n",
      "60000/60000 [==============================] - 2s 37us/step - loss: 0.2472 - categorical_accuracy: 0.9286\n",
      "Epoch 50/50\n",
      "60000/60000 [==============================] - 2s 35us/step - loss: 0.2469 - categorical_accuracy: 0.9286\n",
      "10000/10000 [==============================] - 0s 23us/step\n",
      "[0.28204030404984953, 0.9220999985933304]\n"
     ]
    }
   ],
   "source": [
    "net_3 = NeuralNetwork(dim_x*dim_y ,[10], [sig_func])# 92,86% - treino / 92,21% - teste\n",
    "data_3 = net_3.fit(dataset, \"mini-batch\", 50, lr_ = 0.5, type = \"class\", mini_batch_size = 60, \n",
    "                   tvt_ratio = [len(norm_input_train), 0, len(norm_input_test)], momentum_ = 0.3, print_info = True, \n",
    "                   loss_ = \"categorical_crossentropy\")"
   ]
  },
  {
   "cell_type": "code",
   "execution_count": null,
   "metadata": {},
   "outputs": [],
   "source": [
    "plot_graph(data_3, \"Numbers\", \"Epoch\", \"Error\", figsizex = 16, figsizey = 8)"
   ]
  },
  {
   "cell_type": "code",
   "execution_count": 19,
   "metadata": {},
   "outputs": [
    {
     "data": {
      "image/png": "[encoded data removed]",
      "text/plain": [
       "<Figure size 432x288 with 1 Axes>"
      ]
     },
     "metadata": {},
     "output_type": "display_data"
    },
    {
     "name": "stdout",
     "output_type": "stream",
     "text": [
      "Test Accuracy:  92.21000000000001 %\n"
     ]
    }
   ],
   "source": [
    "correct = []\n",
    "predict = []\n",
    "for i in range(len(net_3.confusion_matrix)):\n",
    "    for j in range(len(net_3.confusion_matrix)):\n",
    "        correct = correct + net_3.confusion_matrix[i][j] * [i]\n",
    "        predict = predict + net_3.confusion_matrix[i][j] * [j]\n",
    "            \n",
    "mat = confusion_matrix(correct, predict)\n",
    "plot_confusion_matrix(mat, classes = [str(i) for i in range(0,10)], title = 'Confusion matrix')\n",
    "plt.show()\n",
    "\n",
    "correct_count = 0\n",
    "total_count = 0\n",
    "for i in range(len(net_3.confusion_matrix)):\n",
    "    for j in range(len(net_3.confusion_matrix)):\n",
    "        total_count += net_3.confusion_matrix[i][j]\n",
    "        if(i == j):\n",
    "            correct_count += net_3.confusion_matrix[i][j]\n",
    "\n",
    "print('Test Accuracy: ', correct_count/total_count * 100, '%')"
   ]
  },
  {
   "cell_type": "markdown",
   "metadata": {},
   "source": [
    "#### Apenas testes"
   ]
  },
  {
   "cell_type": "code",
   "execution_count": 10,
   "metadata": {
    "collapsed": true
   },
   "outputs": [
    {
     "name": "stdout",
     "output_type": "stream",
     "text": [
      "Epoch 1/50\n",
      "60000/60000 [==============================] - 10s 160us/step - loss: 0.3658 - categorical_accuracy: 0.8964\n",
      "Epoch 2/50\n",
      "60000/60000 [==============================] - 9s 145us/step - loss: 0.3125 - categorical_accuracy: 0.9147\n",
      "Epoch 3/50\n",
      "60000/60000 [==============================] - 7s 116us/step - loss: 0.2991 - categorical_accuracy: 0.9179\n",
      "Epoch 4/50\n",
      "60000/60000 [==============================] - 8s 135us/step - loss: 0.2953 - categorical_accuracy: 0.9190\n",
      "Epoch 5/50\n",
      "60000/60000 [==============================] - 8s 134us/step - loss: 0.2924 - categorical_accuracy: 0.9204\n",
      "Epoch 6/50\n",
      "60000/60000 [==============================] - 7s 118us/step - loss: 0.2893 - categorical_accuracy: 0.9204\n",
      "Epoch 7/50\n",
      "60000/60000 [==============================] - 8s 126us/step - loss: 0.2838 - categorical_accuracy: 0.9223\n",
      "Epoch 8/50\n",
      "60000/60000 [==============================] - 8s 131us/step - loss: 0.2806 - categorical_accuracy: 0.9231\n",
      "Epoch 9/50\n",
      "60000/60000 [==============================] - 9s 155us/step - loss: 0.2784 - categorical_accuracy: 0.9248\n",
      "Epoch 10/50\n",
      "60000/60000 [==============================] - 14s 227us/step - loss: 0.2793 - categorical_accuracy: 0.9224\n",
      "Epoch 11/50\n",
      "60000/60000 [==============================] - 9s 149us/step - loss: 0.2767 - categorical_accuracy: 0.9225\n",
      "Epoch 12/50\n",
      "60000/60000 [==============================] - 11s 191us/step - loss: 0.2737 - categorical_accuracy: 0.9251\n",
      "Epoch 13/50\n",
      "60000/60000 [==============================] - 11s 184us/step - loss: 0.2717 - categorical_accuracy: 0.9248\n",
      "Epoch 14/50\n",
      "60000/60000 [==============================] - 6s 103us/step - loss: 0.2717 - categorical_accuracy: 0.9232\n",
      "Epoch 15/50\n",
      "60000/60000 [==============================] - 8s 128us/step - loss: 0.2715 - categorical_accuracy: 0.9247\n",
      "Epoch 16/50\n",
      "60000/60000 [==============================] - 8s 132us/step - loss: 0.2681 - categorical_accuracy: 0.9252\n",
      "Epoch 17/50\n",
      "60000/60000 [==============================] - 5s 91us/step - loss: 0.2672 - categorical_accuracy: 0.9247\n",
      "Epoch 18/50\n",
      "60000/60000 [==============================] - 7s 111us/step - loss: 0.2679 - categorical_accuracy: 0.9263\n",
      "Epoch 19/50\n",
      "60000/60000 [==============================] - 8s 137us/step - loss: 0.2660 - categorical_accuracy: 0.9249\n",
      "Epoch 20/50\n",
      "60000/60000 [==============================] - 6s 98us/step - loss: 0.2651 - categorical_accuracy: 0.9259\n",
      "Epoch 21/50\n",
      "60000/60000 [==============================] - 5s 86us/step - loss: 0.2647 - categorical_accuracy: 0.9254\n",
      "Epoch 22/50\n",
      "60000/60000 [==============================] - 6s 107us/step - loss: 0.2652 - categorical_accuracy: 0.9259\n",
      "Epoch 23/50\n",
      "60000/60000 [==============================] - 5s 83us/step - loss: 0.2648 - categorical_accuracy: 0.9255\n",
      "Epoch 24/50\n",
      "60000/60000 [==============================] - 5s 77us/step - loss: 0.2622 - categorical_accuracy: 0.9257\n",
      "Epoch 25/50\n",
      "60000/60000 [==============================] - 4s 75us/step - loss: 0.2656 - categorical_accuracy: 0.9249\n",
      "Epoch 26/50\n",
      "60000/60000 [==============================] - 5s 90us/step - loss: 0.2638 - categorical_accuracy: 0.9255\n",
      "Epoch 27/50\n",
      "60000/60000 [==============================] - 10s 168us/step - loss: 0.2603 - categorical_accuracy: 0.9261\n",
      "Epoch 28/50\n",
      "60000/60000 [==============================] - 10s 159us/step - loss: 0.2624 - categorical_accuracy: 0.9253\n",
      "Epoch 29/50\n",
      "60000/60000 [==============================] - 9s 157us/step - loss: 0.2624 - categorical_accuracy: 0.9252\n",
      "Epoch 30/50\n",
      "60000/60000 [==============================] - 9s 154us/step - loss: 0.2609 - categorical_accuracy: 0.9253\n",
      "Epoch 31/50\n",
      "60000/60000 [==============================] - 10s 161us/step - loss: 0.2653 - categorical_accuracy: 0.9254\n",
      "Epoch 32/50\n",
      "60000/60000 [==============================] - 9s 148us/step - loss: 0.2592 - categorical_accuracy: 0.9263\n",
      "Epoch 33/50\n",
      "60000/60000 [==============================] - 10s 163us/step - loss: 0.2586 - categorical_accuracy: 0.9265\n",
      "Epoch 34/50\n",
      "60000/60000 [==============================] - 9s 153us/step - loss: 0.2594 - categorical_accuracy: 0.9256\n",
      "Epoch 35/50\n",
      "60000/60000 [==============================] - 9s 154us/step - loss: 0.2568 - categorical_accuracy: 0.9263\n",
      "Epoch 36/50\n",
      "60000/60000 [==============================] - 9s 158us/step - loss: 0.2592 - categorical_accuracy: 0.9252\n",
      "Epoch 37/50\n",
      "60000/60000 [==============================] - 9s 158us/step - loss: 0.2576 - categorical_accuracy: 0.9257\n",
      "Epoch 38/50\n",
      "60000/60000 [==============================] - 9s 143us/step - loss: 0.2586 - categorical_accuracy: 0.9262\n",
      "Epoch 39/50\n",
      "60000/60000 [==============================] - 9s 145us/step - loss: 0.2567 - categorical_accuracy: 0.9271\n",
      "Epoch 40/50\n",
      "60000/60000 [==============================] - 9s 154us/step - loss: 0.2567 - categorical_accuracy: 0.9255\n",
      "Epoch 41/50\n",
      "60000/60000 [==============================] - 10s 172us/step - loss: 0.2587 - categorical_accuracy: 0.9258\n",
      "Epoch 42/50\n",
      "60000/60000 [==============================] - 6s 104us/step - loss: 0.2550 - categorical_accuracy: 0.9268\n",
      "Epoch 43/50\n",
      "60000/60000 [==============================] - 9s 145us/step - loss: 0.2583 - categorical_accuracy: 0.9249\n",
      "Epoch 44/50\n",
      "60000/60000 [==============================] - 9s 152us/step - loss: 0.2526 - categorical_accuracy: 0.9267\n",
      "Epoch 45/50\n",
      "60000/60000 [==============================] - 8s 133us/step - loss: 0.2554 - categorical_accuracy: 0.9264\n",
      "Epoch 46/50\n",
      "60000/60000 [==============================] - 5s 87us/step - loss: 0.2561 - categorical_accuracy: 0.9267\n",
      "Epoch 47/50\n",
      "60000/60000 [==============================] - 5s 84us/step - loss: 0.2553 - categorical_accuracy: 0.9265\n",
      "Epoch 48/50\n",
      "60000/60000 [==============================] - 5s 78us/step - loss: 0.2551 - categorical_accuracy: 0.9262\n",
      "Epoch 49/50\n",
      "60000/60000 [==============================] - 5s 75us/step - loss: 0.2530 - categorical_accuracy: 0.9271\n",
      "Epoch 50/50\n",
      "60000/60000 [==============================] - 10s 168us/step - loss: 0.2538 - categorical_accuracy: 0.9266\n",
      "10000/10000 [==============================] - 1s 62us/step\n",
      "[0.3683990104296245, 0.9149999994039536]\n"
     ]
    }
   ],
   "source": [
    "net_ca = NeuralNetwork(dim_x*dim_y ,[10], [sig_func])# 92,66% - treino / 91,5% - teste\n",
    "data_ca = net_ca.fit(dataset, \"mini-batch\", 50, lr_ = 0.01, type = \"class\", mini_batch_size = 60, \n",
    "                   tvt_ratio = [len(norm_input_train), 0, len(norm_input_test)], momentum_ = 0.0, print_info = True, \n",
    "                   loss_ = \"categorical_crossentropy\", opt = \"adam\")"
   ]
  },
  {
   "cell_type": "code",
   "execution_count": 18,
   "metadata": {
    "collapsed": true
   },
   "outputs": [
    {
     "name": "stdout",
     "output_type": "stream",
     "text": [
      "Epoch 1/50\n",
      "60000/60000 [==============================] - 9s 156us/step - loss: 1.6306 - categorical_accuracy: 0.7731\n",
      "Epoch 2/50\n",
      "60000/60000 [==============================] - 10s 173us/step - loss: 1.4874 - categorical_accuracy: 0.7825\n",
      "Epoch 3/50\n",
      "60000/60000 [==============================] - 10s 163us/step - loss: 1.4547 - categorical_accuracy: 0.7848\n",
      "Epoch 4/50\n",
      "60000/60000 [==============================] - 10s 173us/step - loss: 1.4470 - categorical_accuracy: 0.7844\n",
      "Epoch 5/50\n",
      "60000/60000 [==============================] - 11s 183us/step - loss: 1.4356 - categorical_accuracy: 0.7899\n",
      "Epoch 6/50\n",
      "60000/60000 [==============================] - 10s 171us/step - loss: 1.4342 - categorical_accuracy: 0.7884\n",
      "Epoch 7/50\n",
      "60000/60000 [==============================] - 11s 189us/step - loss: 1.4333 - categorical_accuracy: 0.7902\n",
      "Epoch 8/50\n",
      "60000/60000 [==============================] - 9s 157us/step - loss: 1.4317 - categorical_accuracy: 0.7891\n",
      "Epoch 9/50\n",
      "60000/60000 [==============================] - 10s 166us/step - loss: 1.4291 - categorical_accuracy: 0.7892\n",
      "Epoch 10/50\n",
      "60000/60000 [==============================] - 11s 180us/step - loss: 1.4341 - categorical_accuracy: 0.7840\n",
      "Epoch 11/50\n",
      "60000/60000 [==============================] - 12s 201us/step - loss: 1.4302 - categorical_accuracy: 0.7875\n",
      "Epoch 12/50\n",
      "60000/60000 [==============================] - 12s 197us/step - loss: 1.4305 - categorical_accuracy: 0.7865\n",
      "Epoch 13/50\n",
      "60000/60000 [==============================] - 12s 194us/step - loss: 1.4331 - categorical_accuracy: 0.7837\n",
      "Epoch 14/50\n",
      "60000/60000 [==============================] - 10s 170us/step - loss: 1.4294 - categorical_accuracy: 0.7892\n",
      "Epoch 15/50\n",
      "60000/60000 [==============================] - 11s 187us/step - loss: 1.4329 - categorical_accuracy: 0.7842\n",
      "Epoch 16/50\n",
      "60000/60000 [==============================] - 11s 185us/step - loss: 1.4279 - categorical_accuracy: 0.7858\n",
      "Epoch 17/50\n",
      "60000/60000 [==============================] - 13s 219us/step - loss: 1.4300 - categorical_accuracy: 0.7882\n",
      "Epoch 18/50\n",
      "60000/60000 [==============================] - 15s 248us/step - loss: 1.4297 - categorical_accuracy: 0.7862\n",
      "Epoch 19/50\n",
      "60000/60000 [==============================] - 13s 214us/step - loss: 1.4320 - categorical_accuracy: 0.7847\n",
      "Epoch 20/50\n",
      "60000/60000 [==============================] - 15s 256us/step - loss: 1.4257 - categorical_accuracy: 0.7905\n",
      "Epoch 21/50\n",
      "60000/60000 [==============================] - 14s 232us/step - loss: 1.4268 - categorical_accuracy: 0.7887\n",
      "Epoch 22/50\n",
      "60000/60000 [==============================] - 11s 181us/step - loss: 1.4278 - categorical_accuracy: 0.7866\n",
      "Epoch 23/50\n",
      "60000/60000 [==============================] - 15s 251us/step - loss: 1.4276 - categorical_accuracy: 0.7884\n",
      "Epoch 24/50\n",
      "60000/60000 [==============================] - 14s 234us/step - loss: 1.4261 - categorical_accuracy: 0.7878\n",
      "Epoch 25/50\n",
      "60000/60000 [==============================] - 13s 221us/step - loss: 1.4244 - categorical_accuracy: 0.7891\n",
      "Epoch 26/50\n",
      "60000/60000 [==============================] - 9s 157us/step - loss: 1.4301 - categorical_accuracy: 0.7852\n",
      "Epoch 27/50\n",
      "60000/60000 [==============================] - 9s 152us/step - loss: 1.4277 - categorical_accuracy: 0.7872\n",
      "Epoch 28/50\n",
      "60000/60000 [==============================] - 8s 132us/step - loss: 1.4294 - categorical_accuracy: 0.7870\n",
      "Epoch 29/50\n",
      "60000/60000 [==============================] - 8s 141us/step - loss: 1.4274 - categorical_accuracy: 0.7875\n",
      "Epoch 30/50\n",
      "60000/60000 [==============================] - 9s 146us/step - loss: 1.4274 - categorical_accuracy: 0.7860\n",
      "Epoch 31/50\n",
      "60000/60000 [==============================] - 9s 146us/step - loss: 1.4291 - categorical_accuracy: 0.7867\n",
      "Epoch 32/50\n",
      "60000/60000 [==============================] - 8s 132us/step - loss: 1.4252 - categorical_accuracy: 0.7892\n",
      "Epoch 33/50\n",
      "60000/60000 [==============================] - 8s 139us/step - loss: 1.4280 - categorical_accuracy: 0.7867\n",
      "Epoch 34/50\n",
      "60000/60000 [==============================] - 9s 151us/step - loss: 1.4289 - categorical_accuracy: 0.7878\n",
      "Epoch 35/50\n",
      "60000/60000 [==============================] - 8s 139us/step - loss: 1.4267 - categorical_accuracy: 0.7880\n",
      "Epoch 36/50\n",
      "60000/60000 [==============================] - 9s 151us/step - loss: 1.4301 - categorical_accuracy: 0.7865\n",
      "Epoch 37/50\n",
      "60000/60000 [==============================] - 8s 127us/step - loss: 1.4293 - categorical_accuracy: 0.7861\n",
      "Epoch 38/50\n",
      "60000/60000 [==============================] - 7s 122us/step - loss: 1.4270 - categorical_accuracy: 0.7893\n",
      "Epoch 39/50\n",
      "60000/60000 [==============================] - 8s 128us/step - loss: 1.4254 - categorical_accuracy: 0.7876\n",
      "Epoch 40/50\n",
      "60000/60000 [==============================] - 7s 123us/step - loss: 1.4241 - categorical_accuracy: 0.7883\n",
      "Epoch 41/50\n",
      "60000/60000 [==============================] - 8s 129us/step - loss: 1.4267 - categorical_accuracy: 0.7877\n",
      "Epoch 42/50\n",
      "60000/60000 [==============================] - 7s 119us/step - loss: 1.4279 - categorical_accuracy: 0.7865\n",
      "Epoch 43/50\n",
      "60000/60000 [==============================] - 7s 111us/step - loss: 1.4252 - categorical_accuracy: 0.7899\n",
      "Epoch 44/50\n",
      "60000/60000 [==============================] - 7s 120us/step - loss: 1.4251 - categorical_accuracy: 0.7902\n",
      "Epoch 45/50\n",
      "60000/60000 [==============================] - 7s 123us/step - loss: 1.4289 - categorical_accuracy: 0.7866\n",
      "Epoch 46/50\n",
      "60000/60000 [==============================] - 9s 144us/step - loss: 1.4289 - categorical_accuracy: 0.7860\n",
      "Epoch 47/50\n",
      "60000/60000 [==============================] - 10s 169us/step - loss: 1.4263 - categorical_accuracy: 0.7893\n",
      "Epoch 48/50\n",
      "60000/60000 [==============================] - 10s 174us/step - loss: 1.4317 - categorical_accuracy: 0.7828\n",
      "Epoch 49/50\n",
      "60000/60000 [==============================] - 10s 172us/step - loss: 1.4273 - categorical_accuracy: 0.7857\n",
      "Epoch 50/50\n",
      "60000/60000 [==============================] - 12s 195us/step - loss: 1.4241 - categorical_accuracy: 0.7893\n",
      "10000/10000 [==============================] - 1s 108us/step\n",
      "[1.4101523140668868, 0.8017000004053115]\n"
     ]
    }
   ],
   "source": [
    "net_cb = NeuralNetwork(dim_x*dim_y ,[10], [sig_func], \"l2\", 0.1)# 78,93% - treino / 80,17% - teste\n",
    "data_cb = net_cb.fit(dataset, \"mini-batch\", 50, lr_ = 0.01, type = \"class\", mini_batch_size = 60, \n",
    "                   tvt_ratio = [len(norm_input_train), 0, len(norm_input_test)], momentum_ = 0.0, print_info = True, \n",
    "                   loss_ = \"categorical_crossentropy\", opt = \"adam\")"
   ]
  },
  {
   "cell_type": "markdown",
   "metadata": {},
   "source": [
    "#### 3 - Rede Neural 7"
   ]
  },
  {
   "cell_type": "code",
   "execution_count": 15,
   "metadata": {
    "collapsed": true
   },
   "outputs": [
    {
     "name": "stdout",
     "output_type": "stream",
     "text": [
      "Epoch 1/35\n",
      "60000/60000 [==============================] - 11s 179us/step - loss: 0.3811 - categorical_accuracy: 0.9030\n",
      "Epoch 2/35\n",
      "60000/60000 [==============================] - 8s 131us/step - loss: 0.1832 - categorical_accuracy: 0.9477\n",
      "Epoch 3/35\n",
      "60000/60000 [==============================] - 8s 129us/step - loss: 0.1423 - categorical_accuracy: 0.9591\n",
      "Epoch 4/35\n",
      "60000/60000 [==============================] - 7s 116us/step - loss: 0.1198 - categorical_accuracy: 0.9659\n",
      "Epoch 5/35\n",
      "60000/60000 [==============================] - 7s 118us/step - loss: 0.1030 - categorical_accuracy: 0.9707\n",
      "Epoch 6/35\n",
      "60000/60000 [==============================] - 10s 160us/step - loss: 0.0911 - categorical_accuracy: 0.9745\n",
      "Epoch 7/35\n",
      "60000/60000 [==============================] - 8s 139us/step - loss: 0.0811 - categorical_accuracy: 0.9772\n",
      "Epoch 8/35\n",
      "60000/60000 [==============================] - 8s 136us/step - loss: 0.0731 - categorical_accuracy: 0.9796\n",
      "Epoch 9/35\n",
      "60000/60000 [==============================] - 8s 134us/step - loss: 0.0663 - categorical_accuracy: 0.9817\n",
      "Epoch 10/35\n",
      "60000/60000 [==============================] - 9s 154us/step - loss: 0.0609 - categorical_accuracy: 0.9837\n",
      "Epoch 11/35\n",
      "60000/60000 [==============================] - 10s 163us/step - loss: 0.0559 - categorical_accuracy: 0.9853\n",
      "Epoch 12/35\n",
      "60000/60000 [==============================] - 11s 182us/step - loss: 0.0516 - categorical_accuracy: 0.9863\n",
      "Epoch 13/35\n",
      "60000/60000 [==============================] - 10s 163us/step - loss: 0.0475 - categorical_accuracy: 0.9874\n",
      "Epoch 14/35\n",
      "60000/60000 [==============================] - 8s 128us/step - loss: 0.0440 - categorical_accuracy: 0.9885\n",
      "Epoch 15/35\n",
      "60000/60000 [==============================] - 5s 87us/step - loss: 0.0406 - categorical_accuracy: 0.9891\n",
      "Epoch 16/35\n",
      "60000/60000 [==============================] - 6s 100us/step - loss: 0.0379 - categorical_accuracy: 0.9901\n",
      "Epoch 17/35\n",
      "60000/60000 [==============================] - 5s 83us/step - loss: 0.0354 - categorical_accuracy: 0.9909\n",
      "Epoch 18/35\n",
      "60000/60000 [==============================] - 10s 161us/step - loss: 0.0331 - categorical_accuracy: 0.9918\n",
      "Epoch 19/35\n",
      "60000/60000 [==============================] - 7s 121us/step - loss: 0.0305 - categorical_accuracy: 0.9927\n",
      "Epoch 20/35\n",
      "60000/60000 [==============================] - 5s 89us/step - loss: 0.0287 - categorical_accuracy: 0.9930\n",
      "Epoch 21/35\n",
      "60000/60000 [==============================] - 6s 96us/step - loss: 0.0266 - categorical_accuracy: 0.9939\n",
      "Epoch 22/35\n",
      "60000/60000 [==============================] - 5s 83us/step - loss: 0.0246 - categorical_accuracy: 0.9946\n",
      "Epoch 23/35\n",
      "60000/60000 [==============================] - 5s 86us/step - loss: 0.0232 - categorical_accuracy: 0.9948\n",
      "Epoch 24/35\n",
      "60000/60000 [==============================] - 7s 109us/step - loss: 0.0216 - categorical_accuracy: 0.9957\n",
      "Epoch 25/35\n",
      "60000/60000 [==============================] - 7s 124us/step - loss: 0.0202 - categorical_accuracy: 0.9958\n",
      "Epoch 26/35\n",
      "60000/60000 [==============================] - 10s 166us/step - loss: 0.0186 - categorical_accuracy: 0.9964\n",
      "Epoch 27/35\n",
      "60000/60000 [==============================] - 12s 194us/step - loss: 0.0176 - categorical_accuracy: 0.9969\n",
      "Epoch 28/35\n",
      "60000/60000 [==============================] - 10s 165us/step - loss: 0.0167 - categorical_accuracy: 0.9972\n",
      "Epoch 29/35\n",
      "60000/60000 [==============================] - 8s 132us/step - loss: 0.0154 - categorical_accuracy: 0.9977\n",
      "Epoch 30/35\n",
      "60000/60000 [==============================] - 8s 138us/step - loss: 0.0146 - categorical_accuracy: 0.9976\n",
      "Epoch 31/35\n",
      "60000/60000 [==============================] - 6s 107us/step - loss: 0.0133 - categorical_accuracy: 0.9980\n",
      "Epoch 32/35\n",
      "60000/60000 [==============================] - 7s 114us/step - loss: 0.0127 - categorical_accuracy: 0.9983\n",
      "Epoch 33/35\n",
      "60000/60000 [==============================] - 10s 162us/step - loss: 0.0117 - categorical_accuracy: 0.9984\n",
      "Epoch 34/35\n",
      "60000/60000 [==============================] - 10s 161us/step - loss: 0.0111 - categorical_accuracy: 0.9987\n",
      "Epoch 35/35\n",
      "60000/60000 [==============================] - 9s 158us/step - loss: 0.0100 - categorical_accuracy: 0.9989\n",
      "10000/10000 [==============================] - 1s 60us/step\n",
      "[0.1046457340379493, 0.9735000032186508]\n"
     ]
    }
   ],
   "source": [
    "net_7 = NeuralNetwork(dim_x*dim_y ,[50, 10], 2*[sig_func]) # 99.89% - treino / 97.35% - teste\n",
    "data_7 = net_7.fit(dataset, \"mini-batch\", 35, lr_ = 0.01, type = \"class\", mini_batch_size = 75, \n",
    "                   tvt_ratio = [len(norm_input_train), 0, len(norm_input_test)], momentum_ = 0.0, print_info = True,\n",
    "                   loss_ = \"categorical_crossentropy\", opt = \"adamax\")"
   ]
  },
  {
   "cell_type": "code",
   "execution_count": 16,
   "metadata": {
    "collapsed": true
   },
   "outputs": [
    {
     "data": {
      "image/png": "[encoded data removed]",
      "text/plain": [
       "<matplotlib.figure.Figure at 0x7fba62e66c50>"
      ]
     },
     "metadata": {},
     "output_type": "display_data"
    }
   ],
   "source": [
    "plot_graph(data_7, \"Numbers\", \"Epoch\", \"Error\", figsizex = 16, figsizey = 8)"
   ]
  },
  {
   "cell_type": "code",
   "execution_count": 17,
   "metadata": {},
   "outputs": [
    {
     "data": {
      "image/png": "[encoded data removed]",
      "text/plain": [
       "<matplotlib.figure.Figure at 0x7fba629754a8>"
      ]
     },
     "metadata": {},
     "output_type": "display_data"
    },
    {
     "name": "stdout",
     "output_type": "stream",
     "text": [
      "Test Accuracy:  97.35000000000001 %\n"
     ]
    }
   ],
   "source": [
    "correct = []\n",
    "predict = []\n",
    "for i in range(len(net_7.confusion_matrix)):\n",
    "    for j in range(len(net_7.confusion_matrix)):\n",
    "        correct = correct + net_7.confusion_matrix[i][j] * [i]\n",
    "        predict = predict + net_7.confusion_matrix[i][j] * [j]\n",
    "            \n",
    "mat = confusion_matrix(correct, predict)\n",
    "plot_confusion_matrix(mat, classes = [str(i) for i in range(10)], title = 'Confusion matrix')\n",
    "plt.show()\n",
    "\n",
    "correct_count = 0\n",
    "total_count = 0\n",
    "for i in range(len(net_7.confusion_matrix)):\n",
    "    for j in range(len(net_7.confusion_matrix)):\n",
    "        total_count += net_7.confusion_matrix[i][j]\n",
    "        if(i == j):\n",
    "            correct_count += net_7.confusion_matrix[i][j]\n",
    "\n",
    "print('Test Accuracy: ', correct_count/total_count * 100, '%')"
   ]
  }
 ],
 "metadata": {
  "kernelspec": {
   "display_name": "Python 3",
   "language": "python",
   "name": "python3"
  },
  "language_info": {
   "codemirror_mode": {
    "name": "ipython",
    "version": 3
   },
   "file_extension": ".py",
   "mimetype": "text/x-python",
   "name": "python",
   "nbconvert_exporter": "python",
   "pygments_lexer": "ipython3",
   "version": "3.6.4"
  }
 },
 "nbformat": 4,
 "nbformat_minor": 2
}
